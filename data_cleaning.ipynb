{
 "cells": [
  {
   "cell_type": "markdown",
   "metadata": {},
   "source": [
    "## importing all the dependencies"
   ]
  },
  {
   "cell_type": "code",
   "execution_count": 1,
   "metadata": {},
   "outputs": [],
   "source": [
    "import pandas as pd\n",
    "import numpy as np\n",
    "import seaborn as sns\n",
    "import matplotlib.pyplot as plt"
   ]
  },
  {
   "cell_type": "code",
   "execution_count": 2,
   "metadata": {},
   "outputs": [],
   "source": [
    "df = pd.read_csv('mppp.csv')"
   ]
  },
  {
   "cell_type": "code",
   "execution_count": 3,
   "metadata": {},
   "outputs": [
    {
     "data": {
      "text/html": [
       "<div>\n",
       "<style scoped>\n",
       "    .dataframe tbody tr th:only-of-type {\n",
       "        vertical-align: middle;\n",
       "    }\n",
       "\n",
       "    .dataframe tbody tr th {\n",
       "        vertical-align: top;\n",
       "    }\n",
       "\n",
       "    .dataframe thead th {\n",
       "        text-align: right;\n",
       "    }\n",
       "</style>\n",
       "<table border=\"1\" class=\"dataframe\">\n",
       "  <thead>\n",
       "    <tr style=\"text-align: right;\">\n",
       "      <th></th>\n",
       "      <th>Unnamed: 0</th>\n",
       "      <th>Name</th>\n",
       "      <th>Rating</th>\n",
       "      <th>Spec_score</th>\n",
       "      <th>No_of_sim</th>\n",
       "      <th>Ram</th>\n",
       "      <th>Battery</th>\n",
       "      <th>Display</th>\n",
       "      <th>Camera</th>\n",
       "      <th>External_Memory</th>\n",
       "      <th>Android_version</th>\n",
       "      <th>Price</th>\n",
       "      <th>company</th>\n",
       "      <th>Inbuilt_memory</th>\n",
       "      <th>fast_charging</th>\n",
       "      <th>Screen_resolution</th>\n",
       "      <th>Processor</th>\n",
       "      <th>Processor_name</th>\n",
       "    </tr>\n",
       "  </thead>\n",
       "  <tbody>\n",
       "    <tr>\n",
       "      <th>0</th>\n",
       "      <td>0</td>\n",
       "      <td>Samsung Galaxy F14 5G</td>\n",
       "      <td>4.65</td>\n",
       "      <td>68</td>\n",
       "      <td>Dual Sim, 3G, 4G, 5G, VoLTE,</td>\n",
       "      <td>4 GB RAM</td>\n",
       "      <td>6000 mAh Battery</td>\n",
       "      <td>6.6 inches</td>\n",
       "      <td>50 MP + 2 MP Dual Rear &amp;amp; 13 MP Front Camera</td>\n",
       "      <td>Memory Card Supported, upto 1 TB</td>\n",
       "      <td>13</td>\n",
       "      <td>9,999</td>\n",
       "      <td>Samsung</td>\n",
       "      <td>128 GB inbuilt</td>\n",
       "      <td>25W Fast Charging</td>\n",
       "      <td>2408 x 1080 px Display with Water Drop Notch</td>\n",
       "      <td>Octa Core Processor</td>\n",
       "      <td>Exynos 1330</td>\n",
       "    </tr>\n",
       "    <tr>\n",
       "      <th>1</th>\n",
       "      <td>1</td>\n",
       "      <td>Samsung Galaxy A11</td>\n",
       "      <td>4.20</td>\n",
       "      <td>63</td>\n",
       "      <td>Dual Sim, 3G, 4G, VoLTE,</td>\n",
       "      <td>2 GB RAM</td>\n",
       "      <td>4000 mAh Battery</td>\n",
       "      <td>6.4 inches</td>\n",
       "      <td>13 MP + 5 MP + 2 MP Triple Rear &amp;amp; 8 MP Fro...</td>\n",
       "      <td>Memory Card Supported, upto 512 GB</td>\n",
       "      <td>10</td>\n",
       "      <td>9,990</td>\n",
       "      <td>Samsung</td>\n",
       "      <td>32 GB inbuilt</td>\n",
       "      <td>15W Fast Charging</td>\n",
       "      <td>720 x 1560 px Display with Punch Hole</td>\n",
       "      <td>1.8 GHz Processor</td>\n",
       "      <td>Octa Core</td>\n",
       "    </tr>\n",
       "  </tbody>\n",
       "</table>\n",
       "</div>"
      ],
      "text/plain": [
       "   Unnamed: 0                   Name  Rating  Spec_score  \\\n",
       "0           0  Samsung Galaxy F14 5G    4.65          68   \n",
       "1           1     Samsung Galaxy A11    4.20          63   \n",
       "\n",
       "                       No_of_sim       Ram            Battery     Display  \\\n",
       "0  Dual Sim, 3G, 4G, 5G, VoLTE,   4 GB RAM  6000 mAh Battery   6.6 inches   \n",
       "1      Dual Sim, 3G, 4G, VoLTE,   2 GB RAM  4000 mAh Battery   6.4 inches   \n",
       "\n",
       "                                              Camera  \\\n",
       "0    50 MP + 2 MP Dual Rear &amp; 13 MP Front Camera   \n",
       "1  13 MP + 5 MP + 2 MP Triple Rear &amp; 8 MP Fro...   \n",
       "\n",
       "                      External_Memory Android_version  Price  company  \\\n",
       "0    Memory Card Supported, upto 1 TB              13  9,999  Samsung   \n",
       "1  Memory Card Supported, upto 512 GB              10  9,990  Samsung   \n",
       "\n",
       "    Inbuilt_memory       fast_charging  \\\n",
       "0   128 GB inbuilt   25W Fast Charging   \n",
       "1    32 GB inbuilt   15W Fast Charging   \n",
       "\n",
       "                               Screen_resolution             Processor  \\\n",
       "0   2408 x 1080 px Display with Water Drop Notch   Octa Core Processor   \n",
       "1          720 x 1560 px Display with Punch Hole     1.8 GHz Processor   \n",
       "\n",
       "  Processor_name  \n",
       "0    Exynos 1330  \n",
       "1      Octa Core  "
      ]
     },
     "execution_count": 3,
     "metadata": {},
     "output_type": "execute_result"
    }
   ],
   "source": [
    "df.head(2)"
   ]
  },
  {
   "cell_type": "markdown",
   "metadata": {},
   "source": [
    "#### **Table Content** -> `mobile_phones`:\n",
    "\n",
    "- `name`: the name of the mobile phone\n",
    "- `rating`: the ratings given to the phone, ranging from 0 to 5\n",
    "- `spec_score`: the score given to the phone based on its specifications, ranging from 0 to 100\n",
    "- `no_of_sim`: indicates whether the phone is dual SIM, has 3G, 4G, 5G, or VoLTE\n",
    "- `ram`: information about the RAM of the phone\n",
    "- `battery`: information about the battery specification of the phone\n",
    "- `display`: information about the screen size of the phone\n",
    "- `camera`: information about the camera, including both rear and front\n",
    "- `external_memory`: information about whether the device supports external memory and the capacity\n",
    "- `android_version`: the Android version of the phone\n",
    "- `price`: the price of the phone\n",
    "- `company`: the company to which the phone belongs\n",
    "- `inbuilt_memory`: information about the inbuilt memory of the phone\n",
    "- `fast_charging`: indicates whether the device supports fast charging and the charging capacity\n",
    "- `screen_resolution`: the screen resolution of the phone\n",
    "- `processor`: information about the processor of the phone\n",
    "- `processor_name`: the name of the processor\n"
   ]
  },
  {
   "cell_type": "markdown",
   "metadata": {},
   "source": [
    "## Understanding Data by Columns Through Manual Observation\n",
    "\n",
    "1. **name**: Remove company name and RAM/ROM information.\n",
    "   - dtype: `object`\n",
    "\n",
    "2. **rating**: The dtype is correct.\n",
    "   - dtype: `float`\n",
    "\n",
    "3. **spec_score**: The dtype is correct.\n",
    "   - dtype: `int`\n",
    "\n",
    "4. **no_of_sim**: This feature contains multiple pieces of information and should be split into two columns for better range type analysis.\n",
    "   - Most types are `double_sim`, some are `single_sim`, and very few are `no_support_sim` (which can be tabulated).\n",
    "   - Remove unwanted strings.\n",
    "   - dtype: `object`\n",
    "\n",
    "5. **ram**: The column is correct but requires the removal of extra strings.\n",
    "   - dtype: `int`\n",
    "\n",
    "6. **battery**: The column is correct, but some rows contain incorrect values (e.g., 266, 1248), which also have wrong values in other features.\n",
    "   - dtype: `int`\n",
    "\n",
    "7. **display**: The column is correct but requires the removal of extra strings such as \"inches.\"\n",
    "   - dtype: `float`\n",
    "\n",
    "8. **camera**: This feature needs to be split into two features: `front_camera` and `rear_camera`. \n",
    "   - In the `rear_camera`, multiple cameras are often listed, and incorrect values are found in many rows (e.g., Foldable Display, Dual Display), which actually belong to the other  feature.\n",
    "   - dtype: `object`\n",
    "\n",
    "9. **external_memory**: Most values belong to different features like `camera` and `android_version`. We need to replace these and create a feature indicating whether external memory is supported or not.\n",
    "   - dtype: `object`\n",
    "\n",
    "10. **android_version**: Most values are null and are situated in the `external_memory` feature.\n",
    "   - dtype: `int`\n",
    "\n",
    "11. **price**: The column is in the correct format with all values available.\n",
    "   - dtype: `int`\n",
    "\n",
    "12. **company**: The dtype is correct.\n",
    "   - dtype: `object`\n",
    "\n",
    "13. **inbuilt_memory**: Some null values are found. We need to convert values from TB to GB format (e.g., 1TB -> 1000GB). An incorrect value (266) is found.\n",
    "   - dtype: `int`\n",
    "\n",
    "14. **fast_charging**: Some null values are found, and some values don't have \"W\" mentioned.\n",
    "   - dtype: `object`\n",
    "\n",
    "15. **screen_resolution**: Most features are in the correct format, though we need to remove extra strings. Some values are incorrect (e.g., 1248, 935).\n",
    "   - dtype: `int`\n",
    "\n",
    "16. **processor**: Some null values are found, which are situated in the `processor_name` feature. We also need to remove extra strings.\n",
    "   - dtype: `object`\n",
    "\n",
    "17. **processor_name**: Some values are missing and they use values from the `processor` feature.\n",
    "   - dtype: `object`\n"
   ]
  },
  {
   "cell_type": "code",
   "execution_count": 4,
   "metadata": {},
   "outputs": [
    {
     "data": {
      "text/plain": [
       "(1370, 18)"
      ]
     },
     "execution_count": 4,
     "metadata": {},
     "output_type": "execute_result"
    }
   ],
   "source": [
    "df.shape"
   ]
  },
  {
   "cell_type": "code",
   "execution_count": 5,
   "metadata": {},
   "outputs": [
    {
     "data": {
      "text/plain": [
       "Unnamed: 0             0\n",
       "Name                   0\n",
       "Rating                 0\n",
       "Spec_score             0\n",
       "No_of_sim              0\n",
       "Ram                    0\n",
       "Battery                0\n",
       "Display                0\n",
       "Camera                 0\n",
       "External_Memory        0\n",
       "Android_version      443\n",
       "Price                  0\n",
       "company                0\n",
       "Inbuilt_memory        19\n",
       "fast_charging         89\n",
       "Screen_resolution      2\n",
       "Processor             28\n",
       "Processor_name         0\n",
       "dtype: int64"
      ]
     },
     "execution_count": 5,
     "metadata": {},
     "output_type": "execute_result"
    }
   ],
   "source": [
    "df.isnull().sum()"
   ]
  },
  {
   "cell_type": "code",
   "execution_count": 6,
   "metadata": {},
   "outputs": [
    {
     "data": {
      "text/plain": [
       "np.int64(0)"
      ]
     },
     "execution_count": 6,
     "metadata": {},
     "output_type": "execute_result"
    }
   ],
   "source": [
    "df.duplicated().sum()"
   ]
  },
  {
   "cell_type": "code",
   "execution_count": 7,
   "metadata": {},
   "outputs": [
    {
     "name": "stdout",
     "output_type": "stream",
     "text": [
      "<class 'pandas.core.frame.DataFrame'>\n",
      "RangeIndex: 1370 entries, 0 to 1369\n",
      "Data columns (total 18 columns):\n",
      " #   Column             Non-Null Count  Dtype  \n",
      "---  ------             --------------  -----  \n",
      " 0   Unnamed: 0         1370 non-null   int64  \n",
      " 1   Name               1370 non-null   object \n",
      " 2   Rating             1370 non-null   float64\n",
      " 3   Spec_score         1370 non-null   int64  \n",
      " 4   No_of_sim          1370 non-null   object \n",
      " 5   Ram                1370 non-null   object \n",
      " 6   Battery            1370 non-null   object \n",
      " 7   Display            1370 non-null   object \n",
      " 8   Camera             1370 non-null   object \n",
      " 9   External_Memory    1370 non-null   object \n",
      " 10  Android_version    927 non-null    object \n",
      " 11  Price              1370 non-null   object \n",
      " 12  company            1370 non-null   object \n",
      " 13  Inbuilt_memory     1351 non-null   object \n",
      " 14  fast_charging      1281 non-null   object \n",
      " 15  Screen_resolution  1368 non-null   object \n",
      " 16  Processor          1342 non-null   object \n",
      " 17  Processor_name     1370 non-null   object \n",
      "dtypes: float64(1), int64(2), object(15)\n",
      "memory usage: 192.8+ KB\n"
     ]
    }
   ],
   "source": [
    "df.info()"
   ]
  },
  {
   "cell_type": "code",
   "execution_count": 8,
   "metadata": {},
   "outputs": [
    {
     "data": {
      "text/html": [
       "<div>\n",
       "<style scoped>\n",
       "    .dataframe tbody tr th:only-of-type {\n",
       "        vertical-align: middle;\n",
       "    }\n",
       "\n",
       "    .dataframe tbody tr th {\n",
       "        vertical-align: top;\n",
       "    }\n",
       "\n",
       "    .dataframe thead th {\n",
       "        text-align: right;\n",
       "    }\n",
       "</style>\n",
       "<table border=\"1\" class=\"dataframe\">\n",
       "  <thead>\n",
       "    <tr style=\"text-align: right;\">\n",
       "      <th></th>\n",
       "      <th>Unnamed: 0</th>\n",
       "      <th>Name</th>\n",
       "      <th>Rating</th>\n",
       "      <th>Spec_score</th>\n",
       "      <th>No_of_sim</th>\n",
       "      <th>Ram</th>\n",
       "      <th>Battery</th>\n",
       "      <th>Display</th>\n",
       "      <th>Camera</th>\n",
       "      <th>External_Memory</th>\n",
       "      <th>Android_version</th>\n",
       "      <th>Price</th>\n",
       "      <th>company</th>\n",
       "      <th>Inbuilt_memory</th>\n",
       "      <th>fast_charging</th>\n",
       "      <th>Screen_resolution</th>\n",
       "      <th>Processor</th>\n",
       "      <th>Processor_name</th>\n",
       "    </tr>\n",
       "  </thead>\n",
       "  <tbody>\n",
       "    <tr>\n",
       "      <th>count</th>\n",
       "      <td>1370.000000</td>\n",
       "      <td>1370</td>\n",
       "      <td>1370.000000</td>\n",
       "      <td>1370.000000</td>\n",
       "      <td>1370</td>\n",
       "      <td>1370</td>\n",
       "      <td>1370</td>\n",
       "      <td>1370</td>\n",
       "      <td>1370</td>\n",
       "      <td>1370</td>\n",
       "      <td>927</td>\n",
       "      <td>1370</td>\n",
       "      <td>1370</td>\n",
       "      <td>1351</td>\n",
       "      <td>1281</td>\n",
       "      <td>1368</td>\n",
       "      <td>1342</td>\n",
       "      <td>1370</td>\n",
       "    </tr>\n",
       "    <tr>\n",
       "      <th>unique</th>\n",
       "      <td>NaN</td>\n",
       "      <td>1334</td>\n",
       "      <td>NaN</td>\n",
       "      <td>NaN</td>\n",
       "      <td>9</td>\n",
       "      <td>16</td>\n",
       "      <td>89</td>\n",
       "      <td>89</td>\n",
       "      <td>347</td>\n",
       "      <td>85</td>\n",
       "      <td>23</td>\n",
       "      <td>449</td>\n",
       "      <td>26</td>\n",
       "      <td>10</td>\n",
       "      <td>38</td>\n",
       "      <td>141</td>\n",
       "      <td>14</td>\n",
       "      <td>276</td>\n",
       "    </tr>\n",
       "    <tr>\n",
       "      <th>top</th>\n",
       "      <td>NaN</td>\n",
       "      <td>Realme Narzo N55 (6GB RAM + 128GB)</td>\n",
       "      <td>NaN</td>\n",
       "      <td>NaN</td>\n",
       "      <td>Dual Sim, 3G, 4G, 5G, VoLTE,</td>\n",
       "      <td>8 GB RAM</td>\n",
       "      <td>5000 mAh Battery</td>\n",
       "      <td>6.7 inches</td>\n",
       "      <td>50 MP + 2 MP Dual Rear &amp;amp; 8 MP Front Camera</td>\n",
       "      <td>Memory Card Supported, upto 1 TB</td>\n",
       "      <td>13</td>\n",
       "      <td>29,990</td>\n",
       "      <td>Vivo</td>\n",
       "      <td>128 GB inbuilt</td>\n",
       "      <td>18W Fast Charging</td>\n",
       "      <td>1080 x 2400 px</td>\n",
       "      <td>Octa Core</td>\n",
       "      <td>Snapdragon 8+ Gen1</td>\n",
       "    </tr>\n",
       "    <tr>\n",
       "      <th>freq</th>\n",
       "      <td>NaN</td>\n",
       "      <td>3</td>\n",
       "      <td>NaN</td>\n",
       "      <td>NaN</td>\n",
       "      <td>818</td>\n",
       "      <td>528</td>\n",
       "      <td>693</td>\n",
       "      <td>158</td>\n",
       "      <td>81</td>\n",
       "      <td>233</td>\n",
       "      <td>280</td>\n",
       "      <td>37</td>\n",
       "      <td>186</td>\n",
       "      <td>644</td>\n",
       "      <td>157</td>\n",
       "      <td>357</td>\n",
       "      <td>1237</td>\n",
       "      <td>58</td>\n",
       "    </tr>\n",
       "    <tr>\n",
       "      <th>mean</th>\n",
       "      <td>684.500000</td>\n",
       "      <td>NaN</td>\n",
       "      <td>4.374416</td>\n",
       "      <td>80.234307</td>\n",
       "      <td>NaN</td>\n",
       "      <td>NaN</td>\n",
       "      <td>NaN</td>\n",
       "      <td>NaN</td>\n",
       "      <td>NaN</td>\n",
       "      <td>NaN</td>\n",
       "      <td>NaN</td>\n",
       "      <td>NaN</td>\n",
       "      <td>NaN</td>\n",
       "      <td>NaN</td>\n",
       "      <td>NaN</td>\n",
       "      <td>NaN</td>\n",
       "      <td>NaN</td>\n",
       "      <td>NaN</td>\n",
       "    </tr>\n",
       "    <tr>\n",
       "      <th>std</th>\n",
       "      <td>395.629246</td>\n",
       "      <td>NaN</td>\n",
       "      <td>0.230176</td>\n",
       "      <td>8.373922</td>\n",
       "      <td>NaN</td>\n",
       "      <td>NaN</td>\n",
       "      <td>NaN</td>\n",
       "      <td>NaN</td>\n",
       "      <td>NaN</td>\n",
       "      <td>NaN</td>\n",
       "      <td>NaN</td>\n",
       "      <td>NaN</td>\n",
       "      <td>NaN</td>\n",
       "      <td>NaN</td>\n",
       "      <td>NaN</td>\n",
       "      <td>NaN</td>\n",
       "      <td>NaN</td>\n",
       "      <td>NaN</td>\n",
       "    </tr>\n",
       "    <tr>\n",
       "      <th>min</th>\n",
       "      <td>0.000000</td>\n",
       "      <td>NaN</td>\n",
       "      <td>3.750000</td>\n",
       "      <td>42.000000</td>\n",
       "      <td>NaN</td>\n",
       "      <td>NaN</td>\n",
       "      <td>NaN</td>\n",
       "      <td>NaN</td>\n",
       "      <td>NaN</td>\n",
       "      <td>NaN</td>\n",
       "      <td>NaN</td>\n",
       "      <td>NaN</td>\n",
       "      <td>NaN</td>\n",
       "      <td>NaN</td>\n",
       "      <td>NaN</td>\n",
       "      <td>NaN</td>\n",
       "      <td>NaN</td>\n",
       "      <td>NaN</td>\n",
       "    </tr>\n",
       "    <tr>\n",
       "      <th>25%</th>\n",
       "      <td>342.250000</td>\n",
       "      <td>NaN</td>\n",
       "      <td>4.150000</td>\n",
       "      <td>75.000000</td>\n",
       "      <td>NaN</td>\n",
       "      <td>NaN</td>\n",
       "      <td>NaN</td>\n",
       "      <td>NaN</td>\n",
       "      <td>NaN</td>\n",
       "      <td>NaN</td>\n",
       "      <td>NaN</td>\n",
       "      <td>NaN</td>\n",
       "      <td>NaN</td>\n",
       "      <td>NaN</td>\n",
       "      <td>NaN</td>\n",
       "      <td>NaN</td>\n",
       "      <td>NaN</td>\n",
       "      <td>NaN</td>\n",
       "    </tr>\n",
       "    <tr>\n",
       "      <th>50%</th>\n",
       "      <td>684.500000</td>\n",
       "      <td>NaN</td>\n",
       "      <td>4.400000</td>\n",
       "      <td>82.000000</td>\n",
       "      <td>NaN</td>\n",
       "      <td>NaN</td>\n",
       "      <td>NaN</td>\n",
       "      <td>NaN</td>\n",
       "      <td>NaN</td>\n",
       "      <td>NaN</td>\n",
       "      <td>NaN</td>\n",
       "      <td>NaN</td>\n",
       "      <td>NaN</td>\n",
       "      <td>NaN</td>\n",
       "      <td>NaN</td>\n",
       "      <td>NaN</td>\n",
       "      <td>NaN</td>\n",
       "      <td>NaN</td>\n",
       "    </tr>\n",
       "    <tr>\n",
       "      <th>75%</th>\n",
       "      <td>1026.750000</td>\n",
       "      <td>NaN</td>\n",
       "      <td>4.550000</td>\n",
       "      <td>86.000000</td>\n",
       "      <td>NaN</td>\n",
       "      <td>NaN</td>\n",
       "      <td>NaN</td>\n",
       "      <td>NaN</td>\n",
       "      <td>NaN</td>\n",
       "      <td>NaN</td>\n",
       "      <td>NaN</td>\n",
       "      <td>NaN</td>\n",
       "      <td>NaN</td>\n",
       "      <td>NaN</td>\n",
       "      <td>NaN</td>\n",
       "      <td>NaN</td>\n",
       "      <td>NaN</td>\n",
       "      <td>NaN</td>\n",
       "    </tr>\n",
       "    <tr>\n",
       "      <th>max</th>\n",
       "      <td>1369.000000</td>\n",
       "      <td>NaN</td>\n",
       "      <td>4.750000</td>\n",
       "      <td>98.000000</td>\n",
       "      <td>NaN</td>\n",
       "      <td>NaN</td>\n",
       "      <td>NaN</td>\n",
       "      <td>NaN</td>\n",
       "      <td>NaN</td>\n",
       "      <td>NaN</td>\n",
       "      <td>NaN</td>\n",
       "      <td>NaN</td>\n",
       "      <td>NaN</td>\n",
       "      <td>NaN</td>\n",
       "      <td>NaN</td>\n",
       "      <td>NaN</td>\n",
       "      <td>NaN</td>\n",
       "      <td>NaN</td>\n",
       "    </tr>\n",
       "  </tbody>\n",
       "</table>\n",
       "</div>"
      ],
      "text/plain": [
       "         Unnamed: 0                                Name       Rating  \\\n",
       "count   1370.000000                                1370  1370.000000   \n",
       "unique          NaN                                1334          NaN   \n",
       "top             NaN  Realme Narzo N55 (6GB RAM + 128GB)          NaN   \n",
       "freq            NaN                                   3          NaN   \n",
       "mean     684.500000                                 NaN     4.374416   \n",
       "std      395.629246                                 NaN     0.230176   \n",
       "min        0.000000                                 NaN     3.750000   \n",
       "25%      342.250000                                 NaN     4.150000   \n",
       "50%      684.500000                                 NaN     4.400000   \n",
       "75%     1026.750000                                 NaN     4.550000   \n",
       "max     1369.000000                                 NaN     4.750000   \n",
       "\n",
       "         Spec_score                      No_of_sim       Ram  \\\n",
       "count   1370.000000                           1370      1370   \n",
       "unique          NaN                              9        16   \n",
       "top             NaN  Dual Sim, 3G, 4G, 5G, VoLTE,   8 GB RAM   \n",
       "freq            NaN                            818       528   \n",
       "mean      80.234307                            NaN       NaN   \n",
       "std        8.373922                            NaN       NaN   \n",
       "min       42.000000                            NaN       NaN   \n",
       "25%       75.000000                            NaN       NaN   \n",
       "50%       82.000000                            NaN       NaN   \n",
       "75%       86.000000                            NaN       NaN   \n",
       "max       98.000000                            NaN       NaN   \n",
       "\n",
       "                  Battery     Display  \\\n",
       "count                1370        1370   \n",
       "unique                 89          89   \n",
       "top     5000 mAh Battery   6.7 inches   \n",
       "freq                  693         158   \n",
       "mean                  NaN         NaN   \n",
       "std                   NaN         NaN   \n",
       "min                   NaN         NaN   \n",
       "25%                   NaN         NaN   \n",
       "50%                   NaN         NaN   \n",
       "75%                   NaN         NaN   \n",
       "max                   NaN         NaN   \n",
       "\n",
       "                                                Camera  \\\n",
       "count                                             1370   \n",
       "unique                                             347   \n",
       "top     50 MP + 2 MP Dual Rear &amp; 8 MP Front Camera   \n",
       "freq                                                81   \n",
       "mean                                               NaN   \n",
       "std                                                NaN   \n",
       "min                                                NaN   \n",
       "25%                                                NaN   \n",
       "50%                                                NaN   \n",
       "75%                                                NaN   \n",
       "max                                                NaN   \n",
       "\n",
       "                         External_Memory Android_version   Price company  \\\n",
       "count                               1370             927    1370    1370   \n",
       "unique                                85              23     449      26   \n",
       "top     Memory Card Supported, upto 1 TB              13  29,990    Vivo   \n",
       "freq                                 233             280      37     186   \n",
       "mean                                 NaN             NaN     NaN     NaN   \n",
       "std                                  NaN             NaN     NaN     NaN   \n",
       "min                                  NaN             NaN     NaN     NaN   \n",
       "25%                                  NaN             NaN     NaN     NaN   \n",
       "50%                                  NaN             NaN     NaN     NaN   \n",
       "75%                                  NaN             NaN     NaN     NaN   \n",
       "max                                  NaN             NaN     NaN     NaN   \n",
       "\n",
       "         Inbuilt_memory       fast_charging Screen_resolution   Processor  \\\n",
       "count              1351                1281              1368        1342   \n",
       "unique               10                  38               141          14   \n",
       "top      128 GB inbuilt   18W Fast Charging    1080 x 2400 px   Octa Core   \n",
       "freq                644                 157               357        1237   \n",
       "mean                NaN                 NaN               NaN         NaN   \n",
       "std                 NaN                 NaN               NaN         NaN   \n",
       "min                 NaN                 NaN               NaN         NaN   \n",
       "25%                 NaN                 NaN               NaN         NaN   \n",
       "50%                 NaN                 NaN               NaN         NaN   \n",
       "75%                 NaN                 NaN               NaN         NaN   \n",
       "max                 NaN                 NaN               NaN         NaN   \n",
       "\n",
       "            Processor_name  \n",
       "count                 1370  \n",
       "unique                 276  \n",
       "top     Snapdragon 8+ Gen1  \n",
       "freq                    58  \n",
       "mean                   NaN  \n",
       "std                    NaN  \n",
       "min                    NaN  \n",
       "25%                    NaN  \n",
       "50%                    NaN  \n",
       "75%                    NaN  \n",
       "max                    NaN  "
      ]
     },
     "execution_count": 8,
     "metadata": {},
     "output_type": "execute_result"
    }
   ],
   "source": [
    "df.describe(include='all')"
   ]
  },
  {
   "cell_type": "markdown",
   "metadata": {},
   "source": [
    "## so from here we cant do any analysis with this formate of data , so we have to clean dirty data and organize messy data \n",
    "### **Aproch** \n",
    "- will go column vise for sloving all problems\n",
    "- will mostly try for retaing valuable information as much as possible\n",
    "- will remove all unnecessary things like strings, and extra information\n",
    "- while solving problem we also check change of data behavior by some plots\n",
    "- will finally go for EDA"
   ]
  },
  {
   "cell_type": "code",
   "execution_count": 9,
   "metadata": {},
   "outputs": [],
   "source": [
    "df1 = df.copy()"
   ]
  },
  {
   "cell_type": "markdown",
   "metadata": {},
   "source": [
    "### Unnamed: 0 \n",
    "#### changes \n",
    "- simply dropping the feature ,cos its nothing have any importance"
   ]
  },
  {
   "cell_type": "code",
   "execution_count": 10,
   "metadata": {},
   "outputs": [],
   "source": [
    "df1 = df1.drop('Unnamed: 0', axis=1)"
   ]
  },
  {
   "cell_type": "markdown",
   "metadata": {},
   "source": [
    "## Name\n",
    "#### changes \n",
    "- so we remove company name\n",
    "- we remove values from paranthesis along with paranthesis\n",
    "- we also remove network \n",
    "- we are not changing dtype , cos its already correct\n",
    "#### Aproch \n",
    "- used regular expression\n",
    "\n"
   ]
  },
  {
   "cell_type": "code",
   "execution_count": 11,
   "metadata": {},
   "outputs": [
    {
     "data": {
      "text/html": [
       "<div>\n",
       "<style scoped>\n",
       "    .dataframe tbody tr th:only-of-type {\n",
       "        vertical-align: middle;\n",
       "    }\n",
       "\n",
       "    .dataframe tbody tr th {\n",
       "        vertical-align: top;\n",
       "    }\n",
       "\n",
       "    .dataframe thead th {\n",
       "        text-align: right;\n",
       "    }\n",
       "</style>\n",
       "<table border=\"1\" class=\"dataframe\">\n",
       "  <thead>\n",
       "    <tr style=\"text-align: right;\">\n",
       "      <th></th>\n",
       "      <th>Name</th>\n",
       "      <th>Rating</th>\n",
       "      <th>Spec_score</th>\n",
       "      <th>No_of_sim</th>\n",
       "      <th>Ram</th>\n",
       "      <th>Battery</th>\n",
       "      <th>Display</th>\n",
       "      <th>Camera</th>\n",
       "      <th>External_Memory</th>\n",
       "      <th>Android_version</th>\n",
       "      <th>Price</th>\n",
       "      <th>company</th>\n",
       "      <th>Inbuilt_memory</th>\n",
       "      <th>fast_charging</th>\n",
       "      <th>Screen_resolution</th>\n",
       "      <th>Processor</th>\n",
       "      <th>Processor_name</th>\n",
       "    </tr>\n",
       "  </thead>\n",
       "  <tbody>\n",
       "    <tr>\n",
       "      <th>0</th>\n",
       "      <td>Samsung Galaxy F14 5G</td>\n",
       "      <td>4.65</td>\n",
       "      <td>68</td>\n",
       "      <td>Dual Sim, 3G, 4G, 5G, VoLTE,</td>\n",
       "      <td>4 GB RAM</td>\n",
       "      <td>6000 mAh Battery</td>\n",
       "      <td>6.6 inches</td>\n",
       "      <td>50 MP + 2 MP Dual Rear &amp;amp; 13 MP Front Camera</td>\n",
       "      <td>Memory Card Supported, upto 1 TB</td>\n",
       "      <td>13</td>\n",
       "      <td>9,999</td>\n",
       "      <td>Samsung</td>\n",
       "      <td>128 GB inbuilt</td>\n",
       "      <td>25W Fast Charging</td>\n",
       "      <td>2408 x 1080 px Display with Water Drop Notch</td>\n",
       "      <td>Octa Core Processor</td>\n",
       "      <td>Exynos 1330</td>\n",
       "    </tr>\n",
       "  </tbody>\n",
       "</table>\n",
       "</div>"
      ],
      "text/plain": [
       "                    Name  Rating  Spec_score                      No_of_sim  \\\n",
       "0  Samsung Galaxy F14 5G    4.65          68  Dual Sim, 3G, 4G, 5G, VoLTE,    \n",
       "\n",
       "        Ram            Battery     Display  \\\n",
       "0  4 GB RAM  6000 mAh Battery   6.6 inches   \n",
       "\n",
       "                                            Camera  \\\n",
       "0  50 MP + 2 MP Dual Rear &amp; 13 MP Front Camera   \n",
       "\n",
       "                    External_Memory Android_version  Price  company  \\\n",
       "0  Memory Card Supported, upto 1 TB              13  9,999  Samsung   \n",
       "\n",
       "    Inbuilt_memory       fast_charging  \\\n",
       "0   128 GB inbuilt   25W Fast Charging   \n",
       "\n",
       "                               Screen_resolution             Processor  \\\n",
       "0   2408 x 1080 px Display with Water Drop Notch   Octa Core Processor   \n",
       "\n",
       "  Processor_name  \n",
       "0    Exynos 1330  "
      ]
     },
     "execution_count": 11,
     "metadata": {},
     "output_type": "execute_result"
    }
   ],
   "source": [
    "df1.head(1)"
   ]
  },
  {
   "cell_type": "code",
   "execution_count": 12,
   "metadata": {},
   "outputs": [
    {
     "name": "stdout",
     "output_type": "stream",
     "text": [
      "                                   Name        Model\n",
      "0                 Samsung Galaxy F14 5G   Galaxy F14\n",
      "1                    Samsung Galaxy A11   Galaxy A11\n",
      "2                    Samsung Galaxy A13   Galaxy A13\n",
      "3                    Samsung Galaxy F23   Galaxy F23\n",
      "4  Samsung Galaxy A03s (4GB RAM + 64GB)  Galaxy A03s\n"
     ]
    }
   ],
   "source": [
    "import re\n",
    "\n",
    "def clean_name(name):\n",
    "    # Step 1: Remove the first string (company name)\n",
    "    name = re.sub(r'^\\w+\\s', '', name)\n",
    "    \n",
    "    # Step 2: Remove any values within parentheses along with the parentheses\n",
    "    name = re.sub(r'\\([^)]*\\)', '', name)\n",
    "    \n",
    "    # Step 3: Remove values like 5G, 4G, 3G, 2G\n",
    "    name = re.sub(r'\\b[245]G\\b', '', name)\n",
    "    \n",
    "    # Remove any extra spaces that might result from the above operations\n",
    "    name = ' '.join(name.split())\n",
    "    \n",
    "    return name\n",
    "\n",
    "# Apply the function to the 'name' column\n",
    "df1['Model'] = df1['Name'].apply(clean_name)\n",
    "\n",
    "# Check the results\n",
    "print(df1[['Name', 'Model']].head())\n"
   ]
  },
  {
   "cell_type": "code",
   "execution_count": 13,
   "metadata": {},
   "outputs": [
    {
     "data": {
      "text/html": [
       "<div>\n",
       "<style scoped>\n",
       "    .dataframe tbody tr th:only-of-type {\n",
       "        vertical-align: middle;\n",
       "    }\n",
       "\n",
       "    .dataframe tbody tr th {\n",
       "        vertical-align: top;\n",
       "    }\n",
       "\n",
       "    .dataframe thead th {\n",
       "        text-align: right;\n",
       "    }\n",
       "</style>\n",
       "<table border=\"1\" class=\"dataframe\">\n",
       "  <thead>\n",
       "    <tr style=\"text-align: right;\">\n",
       "      <th></th>\n",
       "      <th>Name</th>\n",
       "      <th>Model</th>\n",
       "    </tr>\n",
       "  </thead>\n",
       "  <tbody>\n",
       "    <tr>\n",
       "      <th>372</th>\n",
       "      <td>OPPO Reno7 Pro 5G (12GB RAM + 512 GB)</td>\n",
       "      <td>Reno7 Pro</td>\n",
       "    </tr>\n",
       "    <tr>\n",
       "      <th>283</th>\n",
       "      <td>Realme 9 Pro 5G (8GB RAM + 128GB)</td>\n",
       "      <td>9 Pro</td>\n",
       "    </tr>\n",
       "    <tr>\n",
       "      <th>491</th>\n",
       "      <td>POCO M4 Pro 4G (6GB RAM + 128GB)</td>\n",
       "      <td>M4 Pro</td>\n",
       "    </tr>\n",
       "    <tr>\n",
       "      <th>1086</th>\n",
       "      <td>OnePlus 10 Pro 5G</td>\n",
       "      <td>10 Pro</td>\n",
       "    </tr>\n",
       "    <tr>\n",
       "      <th>168</th>\n",
       "      <td>Vivo V30 Pro 5G</td>\n",
       "      <td>V30 Pro</td>\n",
       "    </tr>\n",
       "  </tbody>\n",
       "</table>\n",
       "</div>"
      ],
      "text/plain": [
       "                                       Name      Model\n",
       "372   OPPO Reno7 Pro 5G (12GB RAM + 512 GB)  Reno7 Pro\n",
       "283       Realme 9 Pro 5G (8GB RAM + 128GB)      9 Pro\n",
       "491        POCO M4 Pro 4G (6GB RAM + 128GB)     M4 Pro\n",
       "1086                      OnePlus 10 Pro 5G     10 Pro\n",
       "168                         Vivo V30 Pro 5G    V30 Pro"
      ]
     },
     "execution_count": 13,
     "metadata": {},
     "output_type": "execute_result"
    }
   ],
   "source": [
    "df1[['Name','Model']].sample(5)"
   ]
  },
  {
   "cell_type": "markdown",
   "metadata": {},
   "source": [
    "## Rating\n",
    "#### changes\n",
    "- nothing to change\n",
    "#### observation\n",
    "- only 13 values are less than 4.0 rating"
   ]
  },
  {
   "cell_type": "code",
   "execution_count": 14,
   "metadata": {},
   "outputs": [
    {
     "data": {
      "text/html": [
       "<div>\n",
       "<style scoped>\n",
       "    .dataframe tbody tr th:only-of-type {\n",
       "        vertical-align: middle;\n",
       "    }\n",
       "\n",
       "    .dataframe tbody tr th {\n",
       "        vertical-align: top;\n",
       "    }\n",
       "\n",
       "    .dataframe thead th {\n",
       "        text-align: right;\n",
       "    }\n",
       "</style>\n",
       "<table border=\"1\" class=\"dataframe\">\n",
       "  <thead>\n",
       "    <tr style=\"text-align: right;\">\n",
       "      <th></th>\n",
       "      <th>Unnamed: 0</th>\n",
       "      <th>Name</th>\n",
       "      <th>Rating</th>\n",
       "      <th>Spec_score</th>\n",
       "      <th>No_of_sim</th>\n",
       "      <th>Ram</th>\n",
       "      <th>Battery</th>\n",
       "      <th>Display</th>\n",
       "      <th>Camera</th>\n",
       "      <th>External_Memory</th>\n",
       "      <th>Android_version</th>\n",
       "      <th>Price</th>\n",
       "      <th>company</th>\n",
       "      <th>Inbuilt_memory</th>\n",
       "      <th>fast_charging</th>\n",
       "      <th>Screen_resolution</th>\n",
       "      <th>Processor</th>\n",
       "      <th>Processor_name</th>\n",
       "    </tr>\n",
       "  </thead>\n",
       "  <tbody>\n",
       "    <tr>\n",
       "      <th>296</th>\n",
       "      <td>296</td>\n",
       "      <td>Realme 13 Pro 5G</td>\n",
       "      <td>4.65</td>\n",
       "      <td>84</td>\n",
       "      <td>Dual Sim, 3G, 4G, 5G, VoLTE,</td>\n",
       "      <td>8 GB RAM</td>\n",
       "      <td>5000 mAh Battery</td>\n",
       "      <td>6.74 inches</td>\n",
       "      <td>50 MP + 50 MP + 32 MP Triple Rear &amp;amp; 32 MP ...</td>\n",
       "      <td>Android v14</td>\n",
       "      <td>NaN</td>\n",
       "      <td>29,990</td>\n",
       "      <td>Realme</td>\n",
       "      <td>128 GB inbuilt</td>\n",
       "      <td>80W Fast Charging</td>\n",
       "      <td>1080 x 2412 px</td>\n",
       "      <td>Octa Core</td>\n",
       "      <td>Snapdragon 7 Gen1</td>\n",
       "    </tr>\n",
       "  </tbody>\n",
       "</table>\n",
       "</div>"
      ],
      "text/plain": [
       "     Unnamed: 0              Name  Rating  Spec_score  \\\n",
       "296         296  Realme 13 Pro 5G    4.65          84   \n",
       "\n",
       "                         No_of_sim       Ram            Battery      Display  \\\n",
       "296  Dual Sim, 3G, 4G, 5G, VoLTE,   8 GB RAM  5000 mAh Battery   6.74 inches   \n",
       "\n",
       "                                                Camera External_Memory  \\\n",
       "296  50 MP + 50 MP + 32 MP Triple Rear &amp; 32 MP ...     Android v14   \n",
       "\n",
       "    Android_version   Price company   Inbuilt_memory       fast_charging  \\\n",
       "296             NaN  29,990  Realme   128 GB inbuilt   80W Fast Charging   \n",
       "\n",
       "    Screen_resolution   Processor     Processor_name  \n",
       "296    1080 x 2412 px   Octa Core  Snapdragon 7 Gen1  "
      ]
     },
     "execution_count": 14,
     "metadata": {},
     "output_type": "execute_result"
    }
   ],
   "source": [
    "df.sample(1)"
   ]
  },
  {
   "cell_type": "code",
   "execution_count": 15,
   "metadata": {},
   "outputs": [
    {
     "data": {
      "text/plain": [
       "<Axes: ylabel='Frequency'>"
      ]
     },
     "execution_count": 15,
     "metadata": {},
     "output_type": "execute_result"
    },
    {
     "data": {
      "image/png": "[encoded data removed]",
      "text/plain": [
       "<Figure size 640x480 with 1 Axes>"
      ]
     },
     "metadata": {},
     "output_type": "display_data"
    }
   ],
   "source": [
    "df['Rating'].plot(kind='hist', bins=20)"
   ]
  },
  {
   "cell_type": "code",
   "execution_count": 16,
   "metadata": {},
   "outputs": [
    {
     "data": {
      "text/plain": [
       "13"
      ]
     },
     "execution_count": 16,
     "metadata": {},
     "output_type": "execute_result"
    }
   ],
   "source": [
    "len(df[df['Rating'] < 4.0])"
   ]
  },
  {
   "cell_type": "code",
   "execution_count": 17,
   "metadata": {},
   "outputs": [
    {
     "data": {
      "text/plain": [
       "count    1370.000000\n",
       "mean        4.374416\n",
       "std         0.230176\n",
       "min         3.750000\n",
       "25%         4.150000\n",
       "50%         4.400000\n",
       "75%         4.550000\n",
       "max         4.750000\n",
       "Name: Rating, dtype: float64"
      ]
     },
     "execution_count": 17,
     "metadata": {},
     "output_type": "execute_result"
    }
   ],
   "source": [
    "df.Rating.describe()"
   ]
  },
  {
   "cell_type": "markdown",
   "metadata": {},
   "source": [
    "## Spec_score\n",
    "#### changes \n",
    "- nothing to change \n",
    "#### observation \n",
    "- only three values are less than 50 spec_score"
   ]
  },
  {
   "cell_type": "code",
   "execution_count": 18,
   "metadata": {},
   "outputs": [
    {
     "data": {
      "text/html": [
       "<div>\n",
       "<style scoped>\n",
       "    .dataframe tbody tr th:only-of-type {\n",
       "        vertical-align: middle;\n",
       "    }\n",
       "\n",
       "    .dataframe tbody tr th {\n",
       "        vertical-align: top;\n",
       "    }\n",
       "\n",
       "    .dataframe thead th {\n",
       "        text-align: right;\n",
       "    }\n",
       "</style>\n",
       "<table border=\"1\" class=\"dataframe\">\n",
       "  <thead>\n",
       "    <tr style=\"text-align: right;\">\n",
       "      <th></th>\n",
       "      <th>Unnamed: 0</th>\n",
       "      <th>Name</th>\n",
       "      <th>Rating</th>\n",
       "      <th>Spec_score</th>\n",
       "      <th>No_of_sim</th>\n",
       "      <th>Ram</th>\n",
       "      <th>Battery</th>\n",
       "      <th>Display</th>\n",
       "      <th>Camera</th>\n",
       "      <th>External_Memory</th>\n",
       "      <th>Android_version</th>\n",
       "      <th>Price</th>\n",
       "      <th>company</th>\n",
       "      <th>Inbuilt_memory</th>\n",
       "      <th>fast_charging</th>\n",
       "      <th>Screen_resolution</th>\n",
       "      <th>Processor</th>\n",
       "      <th>Processor_name</th>\n",
       "    </tr>\n",
       "  </thead>\n",
       "  <tbody>\n",
       "    <tr>\n",
       "      <th>0</th>\n",
       "      <td>0</td>\n",
       "      <td>Samsung Galaxy F14 5G</td>\n",
       "      <td>4.65</td>\n",
       "      <td>68</td>\n",
       "      <td>Dual Sim, 3G, 4G, 5G, VoLTE,</td>\n",
       "      <td>4 GB RAM</td>\n",
       "      <td>6000 mAh Battery</td>\n",
       "      <td>6.6 inches</td>\n",
       "      <td>50 MP + 2 MP Dual Rear &amp;amp; 13 MP Front Camera</td>\n",
       "      <td>Memory Card Supported, upto 1 TB</td>\n",
       "      <td>13</td>\n",
       "      <td>9,999</td>\n",
       "      <td>Samsung</td>\n",
       "      <td>128 GB inbuilt</td>\n",
       "      <td>25W Fast Charging</td>\n",
       "      <td>2408 x 1080 px Display with Water Drop Notch</td>\n",
       "      <td>Octa Core Processor</td>\n",
       "      <td>Exynos 1330</td>\n",
       "    </tr>\n",
       "  </tbody>\n",
       "</table>\n",
       "</div>"
      ],
      "text/plain": [
       "   Unnamed: 0                   Name  Rating  Spec_score  \\\n",
       "0           0  Samsung Galaxy F14 5G    4.65          68   \n",
       "\n",
       "                       No_of_sim       Ram            Battery     Display  \\\n",
       "0  Dual Sim, 3G, 4G, 5G, VoLTE,   4 GB RAM  6000 mAh Battery   6.6 inches   \n",
       "\n",
       "                                            Camera  \\\n",
       "0  50 MP + 2 MP Dual Rear &amp; 13 MP Front Camera   \n",
       "\n",
       "                    External_Memory Android_version  Price  company  \\\n",
       "0  Memory Card Supported, upto 1 TB              13  9,999  Samsung   \n",
       "\n",
       "    Inbuilt_memory       fast_charging  \\\n",
       "0   128 GB inbuilt   25W Fast Charging   \n",
       "\n",
       "                               Screen_resolution             Processor  \\\n",
       "0   2408 x 1080 px Display with Water Drop Notch   Octa Core Processor   \n",
       "\n",
       "  Processor_name  \n",
       "0    Exynos 1330  "
      ]
     },
     "execution_count": 18,
     "metadata": {},
     "output_type": "execute_result"
    }
   ],
   "source": [
    "df.head(1)"
   ]
  },
  {
   "cell_type": "code",
   "execution_count": 19,
   "metadata": {},
   "outputs": [
    {
     "data": {
      "text/plain": [
       "<Axes: ylabel='Frequency'>"
      ]
     },
     "execution_count": 19,
     "metadata": {},
     "output_type": "execute_result"
    },
    {
     "data": {
      "image/png": "[encoded data removed]",
      "text/plain": [
       "<Figure size 640x480 with 1 Axes>"
      ]
     },
     "metadata": {},
     "output_type": "display_data"
    }
   ],
   "source": [
    "df['Spec_score'].plot(kind='hist', bins=20)"
   ]
  },
  {
   "cell_type": "code",
   "execution_count": 20,
   "metadata": {},
   "outputs": [
    {
     "data": {
      "text/html": [
       "<div>\n",
       "<style scoped>\n",
       "    .dataframe tbody tr th:only-of-type {\n",
       "        vertical-align: middle;\n",
       "    }\n",
       "\n",
       "    .dataframe tbody tr th {\n",
       "        vertical-align: top;\n",
       "    }\n",
       "\n",
       "    .dataframe thead th {\n",
       "        text-align: right;\n",
       "    }\n",
       "</style>\n",
       "<table border=\"1\" class=\"dataframe\">\n",
       "  <thead>\n",
       "    <tr style=\"text-align: right;\">\n",
       "      <th></th>\n",
       "      <th>Name</th>\n",
       "      <th>Rating</th>\n",
       "      <th>Spec_score</th>\n",
       "      <th>No_of_sim</th>\n",
       "      <th>Ram</th>\n",
       "      <th>Battery</th>\n",
       "      <th>Display</th>\n",
       "      <th>Camera</th>\n",
       "      <th>External_Memory</th>\n",
       "      <th>Android_version</th>\n",
       "      <th>Price</th>\n",
       "      <th>company</th>\n",
       "      <th>Inbuilt_memory</th>\n",
       "      <th>fast_charging</th>\n",
       "      <th>Screen_resolution</th>\n",
       "      <th>Processor</th>\n",
       "      <th>Processor_name</th>\n",
       "      <th>Model</th>\n",
       "    </tr>\n",
       "  </thead>\n",
       "  <tbody>\n",
       "    <tr>\n",
       "      <th>91</th>\n",
       "      <td>Vivo Y25</td>\n",
       "      <td>4.0</td>\n",
       "      <td>42</td>\n",
       "      <td>Dual Sim, 3G, 4G,</td>\n",
       "      <td>1 GB RAM</td>\n",
       "      <td>1900 mAh Battery</td>\n",
       "      <td>4.5 inches</td>\n",
       "      <td>5 MP Rear &amp;amp; 2 MP Front Camera</td>\n",
       "      <td>Memory Card Supported, upto 128 GB</td>\n",
       "      <td>5.1 (Lollipop)</td>\n",
       "      <td>7,499</td>\n",
       "      <td>Vivo</td>\n",
       "      <td>16 GB inbuilt</td>\n",
       "      <td>NaN</td>\n",
       "      <td>480 x 854 px Display</td>\n",
       "      <td>Quad Core</td>\n",
       "      <td>Helio MT6580</td>\n",
       "      <td>Y25</td>\n",
       "    </tr>\n",
       "  </tbody>\n",
       "</table>\n",
       "</div>"
      ],
      "text/plain": [
       "        Name  Rating  Spec_score           No_of_sim       Ram  \\\n",
       "91  Vivo Y25     4.0          42  Dual Sim, 3G, 4G,   1 GB RAM   \n",
       "\n",
       "             Battery     Display                             Camera  \\\n",
       "91  1900 mAh Battery  4.5 inches  5 MP Rear &amp; 2 MP Front Camera   \n",
       "\n",
       "                       External_Memory Android_version  Price company  \\\n",
       "91  Memory Card Supported, upto 128 GB  5.1 (Lollipop)  7,499    Vivo   \n",
       "\n",
       "    Inbuilt_memory fast_charging      Screen_resolution   Processor  \\\n",
       "91   16 GB inbuilt           NaN   480 x 854 px Display   Quad Core   \n",
       "\n",
       "   Processor_name Model  \n",
       "91   Helio MT6580   Y25  "
      ]
     },
     "execution_count": 20,
     "metadata": {},
     "output_type": "execute_result"
    }
   ],
   "source": [
    "df1[df1['Spec_score'] == df1['Spec_score'].min()]"
   ]
  },
  {
   "cell_type": "code",
   "execution_count": 21,
   "metadata": {},
   "outputs": [
    {
     "data": {
      "text/plain": [
       "count    1370.000000\n",
       "mean       80.234307\n",
       "std         8.373922\n",
       "min        42.000000\n",
       "25%        75.000000\n",
       "50%        82.000000\n",
       "75%        86.000000\n",
       "max        98.000000\n",
       "Name: Spec_score, dtype: float64"
      ]
     },
     "execution_count": 21,
     "metadata": {},
     "output_type": "execute_result"
    }
   ],
   "source": [
    "df1['Spec_score'].describe()"
   ]
  },
  {
   "cell_type": "code",
   "execution_count": 22,
   "metadata": {},
   "outputs": [
    {
     "data": {
      "text/html": [
       "<div>\n",
       "<style scoped>\n",
       "    .dataframe tbody tr th:only-of-type {\n",
       "        vertical-align: middle;\n",
       "    }\n",
       "\n",
       "    .dataframe tbody tr th {\n",
       "        vertical-align: top;\n",
       "    }\n",
       "\n",
       "    .dataframe thead th {\n",
       "        text-align: right;\n",
       "    }\n",
       "</style>\n",
       "<table border=\"1\" class=\"dataframe\">\n",
       "  <thead>\n",
       "    <tr style=\"text-align: right;\">\n",
       "      <th></th>\n",
       "      <th>Name</th>\n",
       "      <th>Rating</th>\n",
       "      <th>Spec_score</th>\n",
       "      <th>No_of_sim</th>\n",
       "      <th>Ram</th>\n",
       "      <th>Battery</th>\n",
       "      <th>Display</th>\n",
       "      <th>Camera</th>\n",
       "      <th>External_Memory</th>\n",
       "      <th>Android_version</th>\n",
       "      <th>Price</th>\n",
       "      <th>company</th>\n",
       "      <th>Inbuilt_memory</th>\n",
       "      <th>fast_charging</th>\n",
       "      <th>Screen_resolution</th>\n",
       "      <th>Processor</th>\n",
       "      <th>Processor_name</th>\n",
       "      <th>Model</th>\n",
       "    </tr>\n",
       "  </thead>\n",
       "  <tbody>\n",
       "    <tr>\n",
       "      <th>91</th>\n",
       "      <td>Vivo Y25</td>\n",
       "      <td>4.0</td>\n",
       "      <td>42</td>\n",
       "      <td>Dual Sim, 3G, 4G,</td>\n",
       "      <td>1 GB RAM</td>\n",
       "      <td>1900 mAh Battery</td>\n",
       "      <td>4.5 inches</td>\n",
       "      <td>5 MP Rear &amp;amp; 2 MP Front Camera</td>\n",
       "      <td>Memory Card Supported, upto 128 GB</td>\n",
       "      <td>5.1 (Lollipop)</td>\n",
       "      <td>7,499</td>\n",
       "      <td>Vivo</td>\n",
       "      <td>16 GB inbuilt</td>\n",
       "      <td>NaN</td>\n",
       "      <td>480 x 854 px Display</td>\n",
       "      <td>Quad Core</td>\n",
       "      <td>Helio MT6580</td>\n",
       "      <td>Y25</td>\n",
       "    </tr>\n",
       "    <tr>\n",
       "      <th>719</th>\n",
       "      <td>Samsung Galaxy J2 Prime</td>\n",
       "      <td>4.0</td>\n",
       "      <td>49</td>\n",
       "      <td>Dual Sim, 3G, 4G, VoLTE,</td>\n",
       "      <td>1.5 GB RAM</td>\n",
       "      <td>2600 mAh Battery</td>\n",
       "      <td>5 inches</td>\n",
       "      <td>8 MP Rear &amp;amp; 5 MP Front Camera</td>\n",
       "      <td>Memory Card Supported</td>\n",
       "      <td>6.0 (Marshmallow)</td>\n",
       "      <td>8,999</td>\n",
       "      <td>Samsung</td>\n",
       "      <td>8 GB inbuilt</td>\n",
       "      <td>NaN</td>\n",
       "      <td>540 x 960 px Display</td>\n",
       "      <td>Quad Core</td>\n",
       "      <td>Helio MT6737T</td>\n",
       "      <td>Galaxy J2 Prime</td>\n",
       "    </tr>\n",
       "    <tr>\n",
       "      <th>1142</th>\n",
       "      <td>Xiaomi Qin 2 Pro</td>\n",
       "      <td>4.0</td>\n",
       "      <td>46</td>\n",
       "      <td>Dual Sim, 3G, VoLTE,</td>\n",
       "      <td>2 GB RAM</td>\n",
       "      <td>2100 mAh Battery</td>\n",
       "      <td>5 inches</td>\n",
       "      <td>13 MP Rear Camera</td>\n",
       "      <td>No FM Radio</td>\n",
       "      <td>NaN</td>\n",
       "      <td>9,990</td>\n",
       "      <td>Xiaomi</td>\n",
       "      <td>64 GB inbuilt</td>\n",
       "      <td>NaN</td>\n",
       "      <td>576 x 1440 px Display</td>\n",
       "      <td>Quad Core</td>\n",
       "      <td>Unisoc SC9832E</td>\n",
       "      <td>Qin 2 Pro</td>\n",
       "    </tr>\n",
       "  </tbody>\n",
       "</table>\n",
       "</div>"
      ],
      "text/plain": [
       "                         Name  Rating  Spec_score                  No_of_sim  \\\n",
       "91                   Vivo Y25     4.0          42         Dual Sim, 3G, 4G,    \n",
       "719   Samsung Galaxy J2 Prime     4.0          49  Dual Sim, 3G, 4G, VoLTE,    \n",
       "1142         Xiaomi Qin 2 Pro     4.0          46      Dual Sim, 3G, VoLTE,    \n",
       "\n",
       "             Ram           Battery     Display  \\\n",
       "91      1 GB RAM  1900 mAh Battery  4.5 inches   \n",
       "719   1.5 GB RAM  2600 mAh Battery    5 inches   \n",
       "1142    2 GB RAM  2100 mAh Battery    5 inches   \n",
       "\n",
       "                                 Camera                     External_Memory  \\\n",
       "91    5 MP Rear &amp; 2 MP Front Camera  Memory Card Supported, upto 128 GB   \n",
       "719   8 MP Rear &amp; 5 MP Front Camera               Memory Card Supported   \n",
       "1142                  13 MP Rear Camera                         No FM Radio   \n",
       "\n",
       "        Android_version  Price  company  Inbuilt_memory fast_charging  \\\n",
       "91       5.1 (Lollipop)  7,499     Vivo   16 GB inbuilt           NaN   \n",
       "719   6.0 (Marshmallow)  8,999  Samsung    8 GB inbuilt           NaN   \n",
       "1142                NaN  9,990   Xiaomi   64 GB inbuilt           NaN   \n",
       "\n",
       "           Screen_resolution   Processor  Processor_name            Model  \n",
       "91      480 x 854 px Display   Quad Core    Helio MT6580              Y25  \n",
       "719     540 x 960 px Display   Quad Core   Helio MT6737T  Galaxy J2 Prime  \n",
       "1142   576 x 1440 px Display   Quad Core  Unisoc SC9832E        Qin 2 Pro  "
      ]
     },
     "execution_count": 22,
     "metadata": {},
     "output_type": "execute_result"
    }
   ],
   "source": [
    "df1[df1['Spec_score'] < 50]"
   ]
  },
  {
   "cell_type": "markdown",
   "metadata": {},
   "source": [
    "## No_of_sim\n",
    "#### changes\n",
    "- created a new feature for sim_slots\n",
    "- found one value which has no sim_slots cos its not a phone it it a tablet , so removed that row\n",
    "- create new network feature for each network type (network_3g, network_4g, network_5g)\n",
    "- we didn't change dtype cos eventually we will drop the column\n",
    "#### observations\n",
    "- in sim_slot most of the values are dual , so it is a imbalance data case , so we might in future drop the column\n",
    "- accept network_5g, all phones has 3g and 4g networks available\n",
    "- most of the phones has ram between 4 to 16 "
   ]
  },
  {
   "cell_type": "code",
   "execution_count": 23,
   "metadata": {},
   "outputs": [],
   "source": [
    "df1['sim_slot']= df1['No_of_sim'].str.split(' ').str.get(0)"
   ]
  },
  {
   "cell_type": "code",
   "execution_count": 24,
   "metadata": {},
   "outputs": [
    {
     "data": {
      "text/html": [
       "<div>\n",
       "<style scoped>\n",
       "    .dataframe tbody tr th:only-of-type {\n",
       "        vertical-align: middle;\n",
       "    }\n",
       "\n",
       "    .dataframe tbody tr th {\n",
       "        vertical-align: top;\n",
       "    }\n",
       "\n",
       "    .dataframe thead th {\n",
       "        text-align: right;\n",
       "    }\n",
       "</style>\n",
       "<table border=\"1\" class=\"dataframe\">\n",
       "  <thead>\n",
       "    <tr style=\"text-align: right;\">\n",
       "      <th></th>\n",
       "      <th>Name</th>\n",
       "      <th>Rating</th>\n",
       "      <th>Spec_score</th>\n",
       "      <th>No_of_sim</th>\n",
       "      <th>Ram</th>\n",
       "      <th>Battery</th>\n",
       "      <th>Display</th>\n",
       "      <th>Camera</th>\n",
       "      <th>External_Memory</th>\n",
       "      <th>Android_version</th>\n",
       "      <th>Price</th>\n",
       "      <th>company</th>\n",
       "      <th>Inbuilt_memory</th>\n",
       "      <th>fast_charging</th>\n",
       "      <th>Screen_resolution</th>\n",
       "      <th>Processor</th>\n",
       "      <th>Processor_name</th>\n",
       "      <th>Model</th>\n",
       "      <th>sim_slot</th>\n",
       "    </tr>\n",
       "  </thead>\n",
       "  <tbody>\n",
       "    <tr>\n",
       "      <th>0</th>\n",
       "      <td>Samsung Galaxy F14 5G</td>\n",
       "      <td>4.65</td>\n",
       "      <td>68</td>\n",
       "      <td>Dual Sim, 3G, 4G, 5G, VoLTE,</td>\n",
       "      <td>4 GB RAM</td>\n",
       "      <td>6000 mAh Battery</td>\n",
       "      <td>6.6 inches</td>\n",
       "      <td>50 MP + 2 MP Dual Rear &amp;amp; 13 MP Front Camera</td>\n",
       "      <td>Memory Card Supported, upto 1 TB</td>\n",
       "      <td>13</td>\n",
       "      <td>9,999</td>\n",
       "      <td>Samsung</td>\n",
       "      <td>128 GB inbuilt</td>\n",
       "      <td>25W Fast Charging</td>\n",
       "      <td>2408 x 1080 px Display with Water Drop Notch</td>\n",
       "      <td>Octa Core Processor</td>\n",
       "      <td>Exynos 1330</td>\n",
       "      <td>Galaxy F14</td>\n",
       "      <td>Dual</td>\n",
       "    </tr>\n",
       "    <tr>\n",
       "      <th>1</th>\n",
       "      <td>Samsung Galaxy A11</td>\n",
       "      <td>4.20</td>\n",
       "      <td>63</td>\n",
       "      <td>Dual Sim, 3G, 4G, VoLTE,</td>\n",
       "      <td>2 GB RAM</td>\n",
       "      <td>4000 mAh Battery</td>\n",
       "      <td>6.4 inches</td>\n",
       "      <td>13 MP + 5 MP + 2 MP Triple Rear &amp;amp; 8 MP Fro...</td>\n",
       "      <td>Memory Card Supported, upto 512 GB</td>\n",
       "      <td>10</td>\n",
       "      <td>9,990</td>\n",
       "      <td>Samsung</td>\n",
       "      <td>32 GB inbuilt</td>\n",
       "      <td>15W Fast Charging</td>\n",
       "      <td>720 x 1560 px Display with Punch Hole</td>\n",
       "      <td>1.8 GHz Processor</td>\n",
       "      <td>Octa Core</td>\n",
       "      <td>Galaxy A11</td>\n",
       "      <td>Dual</td>\n",
       "    </tr>\n",
       "    <tr>\n",
       "      <th>2</th>\n",
       "      <td>Samsung Galaxy A13</td>\n",
       "      <td>4.30</td>\n",
       "      <td>75</td>\n",
       "      <td>Dual Sim, 3G, 4G, VoLTE,</td>\n",
       "      <td>4 GB RAM</td>\n",
       "      <td>5000 mAh Battery</td>\n",
       "      <td>6.6 inches</td>\n",
       "      <td>50 MP Quad Rear &amp;amp; 8 MP Front Camera</td>\n",
       "      <td>Memory Card Supported, upto 1 TB</td>\n",
       "      <td>12</td>\n",
       "      <td>11,999</td>\n",
       "      <td>Samsung</td>\n",
       "      <td>64 GB inbuilt</td>\n",
       "      <td>25W Fast Charging</td>\n",
       "      <td>1080 x 2408 px Display with Water Drop Notch</td>\n",
       "      <td>2 GHz Processor</td>\n",
       "      <td>Octa Core</td>\n",
       "      <td>Galaxy A13</td>\n",
       "      <td>Dual</td>\n",
       "    </tr>\n",
       "  </tbody>\n",
       "</table>\n",
       "</div>"
      ],
      "text/plain": [
       "                    Name  Rating  Spec_score                      No_of_sim  \\\n",
       "0  Samsung Galaxy F14 5G    4.65          68  Dual Sim, 3G, 4G, 5G, VoLTE,    \n",
       "1     Samsung Galaxy A11    4.20          63      Dual Sim, 3G, 4G, VoLTE,    \n",
       "2     Samsung Galaxy A13    4.30          75      Dual Sim, 3G, 4G, VoLTE,    \n",
       "\n",
       "        Ram            Battery     Display  \\\n",
       "0  4 GB RAM  6000 mAh Battery   6.6 inches   \n",
       "1  2 GB RAM  4000 mAh Battery   6.4 inches   \n",
       "2  4 GB RAM  5000 mAh Battery   6.6 inches   \n",
       "\n",
       "                                              Camera  \\\n",
       "0    50 MP + 2 MP Dual Rear &amp; 13 MP Front Camera   \n",
       "1  13 MP + 5 MP + 2 MP Triple Rear &amp; 8 MP Fro...   \n",
       "2            50 MP Quad Rear &amp; 8 MP Front Camera   \n",
       "\n",
       "                      External_Memory Android_version   Price  company  \\\n",
       "0    Memory Card Supported, upto 1 TB              13   9,999  Samsung   \n",
       "1  Memory Card Supported, upto 512 GB              10   9,990  Samsung   \n",
       "2    Memory Card Supported, upto 1 TB              12  11,999  Samsung   \n",
       "\n",
       "    Inbuilt_memory       fast_charging  \\\n",
       "0   128 GB inbuilt   25W Fast Charging   \n",
       "1    32 GB inbuilt   15W Fast Charging   \n",
       "2    64 GB inbuilt   25W Fast Charging   \n",
       "\n",
       "                               Screen_resolution             Processor  \\\n",
       "0   2408 x 1080 px Display with Water Drop Notch   Octa Core Processor   \n",
       "1          720 x 1560 px Display with Punch Hole     1.8 GHz Processor   \n",
       "2   1080 x 2408 px Display with Water Drop Notch       2 GHz Processor   \n",
       "\n",
       "  Processor_name       Model sim_slot  \n",
       "0    Exynos 1330  Galaxy F14     Dual  \n",
       "1      Octa Core  Galaxy A11     Dual  \n",
       "2      Octa Core  Galaxy A13     Dual  "
      ]
     },
     "execution_count": 24,
     "metadata": {},
     "output_type": "execute_result"
    }
   ],
   "source": [
    "df1.head(3)"
   ]
  },
  {
   "cell_type": "code",
   "execution_count": 25,
   "metadata": {},
   "outputs": [
    {
     "data": {
      "text/html": [
       "<div>\n",
       "<style scoped>\n",
       "    .dataframe tbody tr th:only-of-type {\n",
       "        vertical-align: middle;\n",
       "    }\n",
       "\n",
       "    .dataframe tbody tr th {\n",
       "        vertical-align: top;\n",
       "    }\n",
       "\n",
       "    .dataframe thead th {\n",
       "        text-align: right;\n",
       "    }\n",
       "</style>\n",
       "<table border=\"1\" class=\"dataframe\">\n",
       "  <thead>\n",
       "    <tr style=\"text-align: right;\">\n",
       "      <th></th>\n",
       "      <th>Name</th>\n",
       "      <th>Rating</th>\n",
       "      <th>Spec_score</th>\n",
       "      <th>No_of_sim</th>\n",
       "      <th>Ram</th>\n",
       "      <th>Battery</th>\n",
       "      <th>Display</th>\n",
       "      <th>Camera</th>\n",
       "      <th>External_Memory</th>\n",
       "      <th>Android_version</th>\n",
       "      <th>Price</th>\n",
       "      <th>company</th>\n",
       "      <th>Inbuilt_memory</th>\n",
       "      <th>fast_charging</th>\n",
       "      <th>Screen_resolution</th>\n",
       "      <th>Processor</th>\n",
       "      <th>Processor_name</th>\n",
       "      <th>Model</th>\n",
       "      <th>sim_slot</th>\n",
       "    </tr>\n",
       "  </thead>\n",
       "  <tbody>\n",
       "    <tr>\n",
       "      <th>538</th>\n",
       "      <td>Poco Pad Tablet</td>\n",
       "      <td>4.4</td>\n",
       "      <td>67</td>\n",
       "      <td>No Sim Supported,</td>\n",
       "      <td>6 GB RAM</td>\n",
       "      <td>10500 mAh Battery</td>\n",
       "      <td>12.1 inches</td>\n",
       "      <td>8 MP Rear &amp;amp; 8 MP Front Camera</td>\n",
       "      <td>Memory Card Supported</td>\n",
       "      <td>14</td>\n",
       "      <td>29,990</td>\n",
       "      <td>Poco</td>\n",
       "      <td>128 GB inbuilt</td>\n",
       "      <td>33W Fast Charging</td>\n",
       "      <td>1600 x 2560 px</td>\n",
       "      <td>Octa Core</td>\n",
       "      <td>Snapdragon 7s Gen2</td>\n",
       "      <td>Pad Tablet</td>\n",
       "      <td>No</td>\n",
       "    </tr>\n",
       "  </tbody>\n",
       "</table>\n",
       "</div>"
      ],
      "text/plain": [
       "                Name  Rating  Spec_score           No_of_sim       Ram  \\\n",
       "538  Poco Pad Tablet     4.4          67  No Sim Supported,   6 GB RAM   \n",
       "\n",
       "                Battery      Display                             Camera  \\\n",
       "538  10500 mAh Battery   12.1 inches  8 MP Rear &amp; 8 MP Front Camera   \n",
       "\n",
       "           External_Memory Android_version   Price company   Inbuilt_memory  \\\n",
       "538  Memory Card Supported              14  29,990    Poco   128 GB inbuilt   \n",
       "\n",
       "          fast_charging Screen_resolution   Processor      Processor_name  \\\n",
       "538   33W Fast Charging    1600 x 2560 px   Octa Core  Snapdragon 7s Gen2   \n",
       "\n",
       "          Model sim_slot  \n",
       "538  Pad Tablet       No  "
      ]
     },
     "execution_count": 25,
     "metadata": {},
     "output_type": "execute_result"
    }
   ],
   "source": [
    "df1[df1['sim_slot'] == 'No']"
   ]
  },
  {
   "cell_type": "code",
   "execution_count": 26,
   "metadata": {},
   "outputs": [],
   "source": [
    "df1 = df1.drop(index=538, axis=0)"
   ]
  },
  {
   "cell_type": "code",
   "execution_count": 27,
   "metadata": {},
   "outputs": [
    {
     "data": {
      "text/html": [
       "<div>\n",
       "<style scoped>\n",
       "    .dataframe tbody tr th:only-of-type {\n",
       "        vertical-align: middle;\n",
       "    }\n",
       "\n",
       "    .dataframe tbody tr th {\n",
       "        vertical-align: top;\n",
       "    }\n",
       "\n",
       "    .dataframe thead th {\n",
       "        text-align: right;\n",
       "    }\n",
       "</style>\n",
       "<table border=\"1\" class=\"dataframe\">\n",
       "  <thead>\n",
       "    <tr style=\"text-align: right;\">\n",
       "      <th></th>\n",
       "      <th>Name</th>\n",
       "      <th>Rating</th>\n",
       "      <th>Spec_score</th>\n",
       "      <th>No_of_sim</th>\n",
       "      <th>Ram</th>\n",
       "      <th>Battery</th>\n",
       "      <th>Display</th>\n",
       "      <th>Camera</th>\n",
       "      <th>External_Memory</th>\n",
       "      <th>Android_version</th>\n",
       "      <th>Price</th>\n",
       "      <th>company</th>\n",
       "      <th>Inbuilt_memory</th>\n",
       "      <th>fast_charging</th>\n",
       "      <th>Screen_resolution</th>\n",
       "      <th>Processor</th>\n",
       "      <th>Processor_name</th>\n",
       "      <th>Model</th>\n",
       "      <th>sim_slot</th>\n",
       "    </tr>\n",
       "  </thead>\n",
       "  <tbody>\n",
       "  </tbody>\n",
       "</table>\n",
       "</div>"
      ],
      "text/plain": [
       "Empty DataFrame\n",
       "Columns: [Name, Rating, Spec_score, No_of_sim, Ram, Battery, Display, Camera, External_Memory, Android_version, Price, company, Inbuilt_memory, fast_charging, Screen_resolution, Processor, Processor_name, Model, sim_slot]\n",
       "Index: []"
      ]
     },
     "execution_count": 27,
     "metadata": {},
     "output_type": "execute_result"
    }
   ],
   "source": [
    "df1[df1['sim_slot'] == 'No']"
   ]
  },
  {
   "cell_type": "code",
   "execution_count": 28,
   "metadata": {},
   "outputs": [],
   "source": [
    "def extract_network_features(row):\n",
    "    network_3g = 1 if '3G' in row['No_of_sim'] else 0\n",
    "    network_4g = 1 if '4G' in row['No_of_sim'] else 0\n",
    "    network_5g = 1 if '5G' in row['No_of_sim'] else 0\n",
    "    return pd.Series([network_3g, network_4g, network_5g], index=['network_3g', 'network_4g', 'network_5g'])\n",
    "\n",
    "# Apply the function to create new columns\n",
    "df1[['network_3g', 'network_4g', 'network_5g']] = df1.apply(extract_network_features, axis=1)\n"
   ]
  },
  {
   "cell_type": "code",
   "execution_count": 29,
   "metadata": {},
   "outputs": [
    {
     "data": {
      "text/html": [
       "<div>\n",
       "<style scoped>\n",
       "    .dataframe tbody tr th:only-of-type {\n",
       "        vertical-align: middle;\n",
       "    }\n",
       "\n",
       "    .dataframe tbody tr th {\n",
       "        vertical-align: top;\n",
       "    }\n",
       "\n",
       "    .dataframe thead th {\n",
       "        text-align: right;\n",
       "    }\n",
       "</style>\n",
       "<table border=\"1\" class=\"dataframe\">\n",
       "  <thead>\n",
       "    <tr style=\"text-align: right;\">\n",
       "      <th></th>\n",
       "      <th>Name</th>\n",
       "      <th>Rating</th>\n",
       "      <th>Spec_score</th>\n",
       "      <th>No_of_sim</th>\n",
       "      <th>Ram</th>\n",
       "      <th>Battery</th>\n",
       "      <th>Display</th>\n",
       "      <th>Camera</th>\n",
       "      <th>External_Memory</th>\n",
       "      <th>Android_version</th>\n",
       "      <th>...</th>\n",
       "      <th>Inbuilt_memory</th>\n",
       "      <th>fast_charging</th>\n",
       "      <th>Screen_resolution</th>\n",
       "      <th>Processor</th>\n",
       "      <th>Processor_name</th>\n",
       "      <th>Model</th>\n",
       "      <th>sim_slot</th>\n",
       "      <th>network_3g</th>\n",
       "      <th>network_4g</th>\n",
       "      <th>network_5g</th>\n",
       "    </tr>\n",
       "  </thead>\n",
       "  <tbody>\n",
       "    <tr>\n",
       "      <th>404</th>\n",
       "      <td>iQOO U5x 5G</td>\n",
       "      <td>4.25</td>\n",
       "      <td>74</td>\n",
       "      <td>Dual Sim, 3G, 4G, 5G, VoLTE,</td>\n",
       "      <td>6 GB RAM</td>\n",
       "      <td>5000 mAh Battery</td>\n",
       "      <td>6.51 inches</td>\n",
       "      <td>13 MP + 2 MP + 2 MP Triple Rear &amp;amp; 8 MP Fro...</td>\n",
       "      <td>Android v12</td>\n",
       "      <td>NaN</td>\n",
       "      <td>...</td>\n",
       "      <td>128 GB inbuilt</td>\n",
       "      <td>18W Fast Charging</td>\n",
       "      <td>1080 x 2400 px Display with Water Drop Notch</td>\n",
       "      <td>Octa Core</td>\n",
       "      <td>Snapdragon 480+</td>\n",
       "      <td>U5x</td>\n",
       "      <td>Dual</td>\n",
       "      <td>1</td>\n",
       "      <td>1</td>\n",
       "      <td>1</td>\n",
       "    </tr>\n",
       "  </tbody>\n",
       "</table>\n",
       "<p>1 rows × 22 columns</p>\n",
       "</div>"
      ],
      "text/plain": [
       "            Name  Rating  Spec_score                      No_of_sim       Ram  \\\n",
       "404  iQOO U5x 5G    4.25          74  Dual Sim, 3G, 4G, 5G, VoLTE,   6 GB RAM   \n",
       "\n",
       "               Battery      Display  \\\n",
       "404  5000 mAh Battery   6.51 inches   \n",
       "\n",
       "                                                Camera External_Memory  \\\n",
       "404  13 MP + 2 MP + 2 MP Triple Rear &amp; 8 MP Fro...     Android v12   \n",
       "\n",
       "    Android_version  ...   Inbuilt_memory       fast_charging  \\\n",
       "404             NaN  ...   128 GB inbuilt   18W Fast Charging   \n",
       "\n",
       "                                 Screen_resolution   Processor  \\\n",
       "404   1080 x 2400 px Display with Water Drop Notch   Octa Core   \n",
       "\n",
       "      Processor_name Model sim_slot network_3g network_4g  network_5g  \n",
       "404  Snapdragon 480+   U5x     Dual          1          1           1  \n",
       "\n",
       "[1 rows x 22 columns]"
      ]
     },
     "execution_count": 29,
     "metadata": {},
     "output_type": "execute_result"
    }
   ],
   "source": [
    "df1.sample(1)"
   ]
  },
  {
   "cell_type": "code",
   "execution_count": 30,
   "metadata": {},
   "outputs": [
    {
     "data": {
      "text/plain": [
       "<Axes: xlabel='sim_slot'>"
      ]
     },
     "execution_count": 30,
     "metadata": {},
     "output_type": "execute_result"
    },
    {
     "data": {
      "image/png": "[encoded data removed]",
      "text/plain": [
       "<Figure size 640x480 with 1 Axes>"
      ]
     },
     "metadata": {},
     "output_type": "display_data"
    }
   ],
   "source": [
    "df1.sim_slot.value_counts().plot(kind='bar')"
   ]
  },
  {
   "cell_type": "code",
   "execution_count": 31,
   "metadata": {},
   "outputs": [
    {
     "data": {
      "text/plain": [
       "network_3g\n",
       "1    1369\n",
       "Name: count, dtype: int64"
      ]
     },
     "execution_count": 31,
     "metadata": {},
     "output_type": "execute_result"
    }
   ],
   "source": [
    "df1.network_3g.value_counts()"
   ]
  },
  {
   "cell_type": "code",
   "execution_count": 32,
   "metadata": {},
   "outputs": [
    {
     "data": {
      "text/plain": [
       "network_4g\n",
       "1    1368\n",
       "0       1\n",
       "Name: count, dtype: int64"
      ]
     },
     "execution_count": 32,
     "metadata": {},
     "output_type": "execute_result"
    }
   ],
   "source": [
    "df1.network_4g.value_counts()"
   ]
  },
  {
   "cell_type": "code",
   "execution_count": 33,
   "metadata": {},
   "outputs": [
    {
     "data": {
      "text/plain": [
       "network_5g\n",
       "1    930\n",
       "0    439\n",
       "Name: count, dtype: int64"
      ]
     },
     "execution_count": 33,
     "metadata": {},
     "output_type": "execute_result"
    }
   ],
   "source": [
    "df1.network_5g.value_counts()"
   ]
  },
  {
   "cell_type": "markdown",
   "metadata": {},
   "source": [
    "## RAM\n",
    "#### changes \n",
    "- created new featur for cleaned RAM\n",
    "- change some values manually\n",
    "- changed dtype to int\n",
    "- replace the values from ram to inbuilt_memory which are actually from the inbuilt_memory feature\n",
    "- and replace values with 8\n",
    "\n",
    "#### observation\n",
    "- found values from different columns \n",
    "- "
   ]
  },
  {
   "cell_type": "code",
   "execution_count": 34,
   "metadata": {},
   "outputs": [],
   "source": [
    "df1['cleaned_RAM'] = df1['Ram'].str.split(' ').str.get(0)"
   ]
  },
  {
   "cell_type": "code",
   "execution_count": 35,
   "metadata": {},
   "outputs": [
    {
     "data": {
      "text/plain": [
       "array(['4', '2', '6', '8', '12', '1', '3', '16', 'Helio', '24', '18',\n",
       "       '1.5', '128', '6000', '256', '512'], dtype=object)"
      ]
     },
     "execution_count": 35,
     "metadata": {},
     "output_type": "execute_result"
    }
   ],
   "source": [
    "df1['cleaned_RAM'].unique()"
   ]
  },
  {
   "cell_type": "code",
   "execution_count": 36,
   "metadata": {},
   "outputs": [
    {
     "data": {
      "text/html": [
       "<div>\n",
       "<style scoped>\n",
       "    .dataframe tbody tr th:only-of-type {\n",
       "        vertical-align: middle;\n",
       "    }\n",
       "\n",
       "    .dataframe tbody tr th {\n",
       "        vertical-align: top;\n",
       "    }\n",
       "\n",
       "    .dataframe thead th {\n",
       "        text-align: right;\n",
       "    }\n",
       "</style>\n",
       "<table border=\"1\" class=\"dataframe\">\n",
       "  <thead>\n",
       "    <tr style=\"text-align: right;\">\n",
       "      <th></th>\n",
       "      <th>Name</th>\n",
       "      <th>Rating</th>\n",
       "      <th>Spec_score</th>\n",
       "      <th>No_of_sim</th>\n",
       "      <th>Ram</th>\n",
       "      <th>Battery</th>\n",
       "      <th>Display</th>\n",
       "      <th>Camera</th>\n",
       "      <th>External_Memory</th>\n",
       "      <th>Android_version</th>\n",
       "      <th>...</th>\n",
       "      <th>fast_charging</th>\n",
       "      <th>Screen_resolution</th>\n",
       "      <th>Processor</th>\n",
       "      <th>Processor_name</th>\n",
       "      <th>Model</th>\n",
       "      <th>sim_slot</th>\n",
       "      <th>network_3g</th>\n",
       "      <th>network_4g</th>\n",
       "      <th>network_5g</th>\n",
       "      <th>cleaned_RAM</th>\n",
       "    </tr>\n",
       "  </thead>\n",
       "  <tbody>\n",
       "    <tr>\n",
       "      <th>264</th>\n",
       "      <td>Realme 6i (6GB RAM + 64GB)</td>\n",
       "      <td>3.85</td>\n",
       "      <td>76</td>\n",
       "      <td>Dual Sim, 3G, 4G, VoLTE,</td>\n",
       "      <td>Helio G90T</td>\n",
       "      <td>6 GB RAM, 64 GB inbuilt</td>\n",
       "      <td>4300 mAh Battery with 30W Fast Charging</td>\n",
       "      <td>6.5 inches, 1080 x 2400 px, 90 Hz Display with...</td>\n",
       "      <td>48 MP Quad Rear &amp;amp; 16 MP Front Camera</td>\n",
       "      <td>NaN</td>\n",
       "      <td>...</td>\n",
       "      <td>NaN</td>\n",
       "      <td>NaN</td>\n",
       "      <td>NaN</td>\n",
       "      <td>No Wifi</td>\n",
       "      <td>6i</td>\n",
       "      <td>Dual</td>\n",
       "      <td>1</td>\n",
       "      <td>1</td>\n",
       "      <td>0</td>\n",
       "      <td>Helio</td>\n",
       "    </tr>\n",
       "  </tbody>\n",
       "</table>\n",
       "<p>1 rows × 23 columns</p>\n",
       "</div>"
      ],
      "text/plain": [
       "                           Name  Rating  Spec_score  \\\n",
       "264  Realme 6i (6GB RAM + 64GB)    3.85          76   \n",
       "\n",
       "                     No_of_sim         Ram                  Battery  \\\n",
       "264  Dual Sim, 3G, 4G, VoLTE,   Helio G90T  6 GB RAM, 64 GB inbuilt   \n",
       "\n",
       "                                     Display  \\\n",
       "264  4300 mAh Battery with 30W Fast Charging   \n",
       "\n",
       "                                                Camera  \\\n",
       "264  6.5 inches, 1080 x 2400 px, 90 Hz Display with...   \n",
       "\n",
       "                              External_Memory Android_version  ...  \\\n",
       "264  48 MP Quad Rear &amp; 16 MP Front Camera             NaN  ...   \n",
       "\n",
       "    fast_charging Screen_resolution Processor Processor_name Model sim_slot  \\\n",
       "264           NaN               NaN       NaN        No Wifi    6i     Dual   \n",
       "\n",
       "    network_3g network_4g network_5g  cleaned_RAM  \n",
       "264          1          1          0        Helio  \n",
       "\n",
       "[1 rows x 23 columns]"
      ]
     },
     "execution_count": 36,
     "metadata": {},
     "output_type": "execute_result"
    }
   ],
   "source": [
    "df1[df1['cleaned_RAM'] == 'Helio']"
   ]
  },
  {
   "cell_type": "code",
   "execution_count": 37,
   "metadata": {},
   "outputs": [],
   "source": [
    "# changing values manually\n",
    "df1.at[264,'cleaned_RAM'] = 6"
   ]
  },
  {
   "cell_type": "code",
   "execution_count": 38,
   "metadata": {},
   "outputs": [
    {
     "data": {
      "text/plain": [
       "array(['4', '2', '6', '8', '12', '1', '3', '16', 6, '24', '18', '1.5',\n",
       "       '128', '6000', '256', '512'], dtype=object)"
      ]
     },
     "execution_count": 38,
     "metadata": {},
     "output_type": "execute_result"
    }
   ],
   "source": [
    "df1['cleaned_RAM'].unique()"
   ]
  },
  {
   "cell_type": "code",
   "execution_count": 39,
   "metadata": {},
   "outputs": [
    {
     "data": {
      "text/html": [
       "<div>\n",
       "<style scoped>\n",
       "    .dataframe tbody tr th:only-of-type {\n",
       "        vertical-align: middle;\n",
       "    }\n",
       "\n",
       "    .dataframe tbody tr th {\n",
       "        vertical-align: top;\n",
       "    }\n",
       "\n",
       "    .dataframe thead th {\n",
       "        text-align: right;\n",
       "    }\n",
       "</style>\n",
       "<table border=\"1\" class=\"dataframe\">\n",
       "  <thead>\n",
       "    <tr style=\"text-align: right;\">\n",
       "      <th></th>\n",
       "      <th>Name</th>\n",
       "      <th>Rating</th>\n",
       "      <th>Spec_score</th>\n",
       "      <th>No_of_sim</th>\n",
       "      <th>Ram</th>\n",
       "      <th>Battery</th>\n",
       "      <th>Display</th>\n",
       "      <th>Camera</th>\n",
       "      <th>External_Memory</th>\n",
       "      <th>Android_version</th>\n",
       "      <th>...</th>\n",
       "      <th>fast_charging</th>\n",
       "      <th>Screen_resolution</th>\n",
       "      <th>Processor</th>\n",
       "      <th>Processor_name</th>\n",
       "      <th>Model</th>\n",
       "      <th>sim_slot</th>\n",
       "      <th>network_3g</th>\n",
       "      <th>network_4g</th>\n",
       "      <th>network_5g</th>\n",
       "      <th>cleaned_RAM</th>\n",
       "    </tr>\n",
       "  </thead>\n",
       "  <tbody>\n",
       "    <tr>\n",
       "      <th>719</th>\n",
       "      <td>Samsung Galaxy J2 Prime</td>\n",
       "      <td>4.0</td>\n",
       "      <td>49</td>\n",
       "      <td>Dual Sim, 3G, 4G, VoLTE,</td>\n",
       "      <td>1.5 GB RAM</td>\n",
       "      <td>2600 mAh Battery</td>\n",
       "      <td>5 inches</td>\n",
       "      <td>8 MP Rear &amp;amp; 5 MP Front Camera</td>\n",
       "      <td>Memory Card Supported</td>\n",
       "      <td>6.0 (Marshmallow)</td>\n",
       "      <td>...</td>\n",
       "      <td>NaN</td>\n",
       "      <td>540 x 960 px Display</td>\n",
       "      <td>Quad Core</td>\n",
       "      <td>Helio MT6737T</td>\n",
       "      <td>Galaxy J2 Prime</td>\n",
       "      <td>Dual</td>\n",
       "      <td>1</td>\n",
       "      <td>1</td>\n",
       "      <td>0</td>\n",
       "      <td>1.5</td>\n",
       "    </tr>\n",
       "  </tbody>\n",
       "</table>\n",
       "<p>1 rows × 23 columns</p>\n",
       "</div>"
      ],
      "text/plain": [
       "                        Name  Rating  Spec_score                  No_of_sim  \\\n",
       "719  Samsung Galaxy J2 Prime     4.0          49  Dual Sim, 3G, 4G, VoLTE,    \n",
       "\n",
       "            Ram           Battery   Display  \\\n",
       "719  1.5 GB RAM  2600 mAh Battery  5 inches   \n",
       "\n",
       "                                Camera        External_Memory  \\\n",
       "719  8 MP Rear &amp; 5 MP Front Camera  Memory Card Supported   \n",
       "\n",
       "       Android_version  ... fast_charging      Screen_resolution   Processor  \\\n",
       "719  6.0 (Marshmallow)  ...           NaN   540 x 960 px Display   Quad Core   \n",
       "\n",
       "    Processor_name            Model sim_slot network_3g network_4g network_5g  \\\n",
       "719  Helio MT6737T  Galaxy J2 Prime     Dual          1          1          0   \n",
       "\n",
       "     cleaned_RAM  \n",
       "719          1.5  \n",
       "\n",
       "[1 rows x 23 columns]"
      ]
     },
     "execution_count": 39,
     "metadata": {},
     "output_type": "execute_result"
    }
   ],
   "source": [
    "# changing values manually\n",
    "df1[df1['cleaned_RAM'] == '1.5']"
   ]
  },
  {
   "cell_type": "code",
   "execution_count": 40,
   "metadata": {},
   "outputs": [],
   "source": [
    "df1.at[719,'cleaned_RAM'] = 2"
   ]
  },
  {
   "cell_type": "code",
   "execution_count": 41,
   "metadata": {},
   "outputs": [
    {
     "data": {
      "text/plain": [
       "array(['4', '2', '6', '8', '12', '1', '3', '16', 6, '24', '18', 2, '128',\n",
       "       '6000', '256', '512'], dtype=object)"
      ]
     },
     "execution_count": 41,
     "metadata": {},
     "output_type": "execute_result"
    }
   ],
   "source": [
    "df1['cleaned_RAM'].unique()\n"
   ]
  },
  {
   "cell_type": "code",
   "execution_count": 42,
   "metadata": {},
   "outputs": [],
   "source": [
    "df1['cleaned_RAM'] = df1['cleaned_RAM'].astype(int)"
   ]
  },
  {
   "cell_type": "code",
   "execution_count": 43,
   "metadata": {},
   "outputs": [
    {
     "data": {
      "text/html": [
       "<div>\n",
       "<style scoped>\n",
       "    .dataframe tbody tr th:only-of-type {\n",
       "        vertical-align: middle;\n",
       "    }\n",
       "\n",
       "    .dataframe tbody tr th {\n",
       "        vertical-align: top;\n",
       "    }\n",
       "\n",
       "    .dataframe thead th {\n",
       "        text-align: right;\n",
       "    }\n",
       "</style>\n",
       "<table border=\"1\" class=\"dataframe\">\n",
       "  <thead>\n",
       "    <tr style=\"text-align: right;\">\n",
       "      <th></th>\n",
       "      <th>Name</th>\n",
       "      <th>Rating</th>\n",
       "      <th>Spec_score</th>\n",
       "      <th>No_of_sim</th>\n",
       "      <th>Ram</th>\n",
       "      <th>Battery</th>\n",
       "      <th>Display</th>\n",
       "      <th>Camera</th>\n",
       "      <th>External_Memory</th>\n",
       "      <th>Android_version</th>\n",
       "      <th>...</th>\n",
       "      <th>fast_charging</th>\n",
       "      <th>Screen_resolution</th>\n",
       "      <th>Processor</th>\n",
       "      <th>Processor_name</th>\n",
       "      <th>Model</th>\n",
       "      <th>sim_slot</th>\n",
       "      <th>network_3g</th>\n",
       "      <th>network_4g</th>\n",
       "      <th>network_5g</th>\n",
       "      <th>cleaned_RAM</th>\n",
       "    </tr>\n",
       "  </thead>\n",
       "  <tbody>\n",
       "    <tr>\n",
       "      <th>351</th>\n",
       "      <td>OPPO F25</td>\n",
       "      <td>4.7</td>\n",
       "      <td>86</td>\n",
       "      <td>Dual Sim, 3G, 4G, 5G, VoLTE,</td>\n",
       "      <td>8 GB RAM</td>\n",
       "      <td>5000 mAh Battery</td>\n",
       "      <td>6.7 inches</td>\n",
       "      <td>64 MP + 32 MP + 8 MP Triple Rear &amp;amp; 32 MP F...</td>\n",
       "      <td>Memory Card (Hybrid)</td>\n",
       "      <td>14</td>\n",
       "      <td>...</td>\n",
       "      <td>67W Fast Charging</td>\n",
       "      <td>1080 x 2412 px</td>\n",
       "      <td>Octa Core</td>\n",
       "      <td>Dimensity 7050</td>\n",
       "      <td>F25</td>\n",
       "      <td>Dual</td>\n",
       "      <td>1</td>\n",
       "      <td>1</td>\n",
       "      <td>1</td>\n",
       "      <td>8</td>\n",
       "    </tr>\n",
       "  </tbody>\n",
       "</table>\n",
       "<p>1 rows × 23 columns</p>\n",
       "</div>"
      ],
      "text/plain": [
       "         Name  Rating  Spec_score                      No_of_sim       Ram  \\\n",
       "351  OPPO F25     4.7          86  Dual Sim, 3G, 4G, 5G, VoLTE,   8 GB RAM   \n",
       "\n",
       "               Battery     Display  \\\n",
       "351  5000 mAh Battery   6.7 inches   \n",
       "\n",
       "                                                Camera       External_Memory  \\\n",
       "351  64 MP + 32 MP + 8 MP Triple Rear &amp; 32 MP F...  Memory Card (Hybrid)   \n",
       "\n",
       "    Android_version  ...       fast_charging Screen_resolution   Processor  \\\n",
       "351              14  ...   67W Fast Charging    1080 x 2412 px   Octa Core   \n",
       "\n",
       "     Processor_name Model sim_slot network_3g network_4g network_5g  \\\n",
       "351  Dimensity 7050   F25     Dual          1          1          1   \n",
       "\n",
       "     cleaned_RAM  \n",
       "351            8  \n",
       "\n",
       "[1 rows x 23 columns]"
      ]
     },
     "execution_count": 43,
     "metadata": {},
     "output_type": "execute_result"
    }
   ],
   "source": [
    "df1.sample(1)"
   ]
  },
  {
   "cell_type": "code",
   "execution_count": 44,
   "metadata": {},
   "outputs": [
    {
     "data": {
      "text/plain": [
       "cleaned_RAM\n",
       "8       528\n",
       "4       253\n",
       "12      246\n",
       "6       214\n",
       "16       41\n",
       "3        38\n",
       "2        23\n",
       "256       8\n",
       "128       7\n",
       "18        4\n",
       "512       3\n",
       "24        2\n",
       "1         1\n",
       "6000      1\n",
       "Name: count, dtype: int64"
      ]
     },
     "execution_count": 44,
     "metadata": {},
     "output_type": "execute_result"
    }
   ],
   "source": [
    "df1['cleaned_RAM'].value_counts()"
   ]
  },
  {
   "cell_type": "code",
   "execution_count": 45,
   "metadata": {},
   "outputs": [
    {
     "data": {
      "text/plain": [
       "19"
      ]
     },
     "execution_count": 45,
     "metadata": {},
     "output_type": "execute_result"
    }
   ],
   "source": [
    "len(df1[df1['cleaned_RAM'] > 24] )"
   ]
  },
  {
   "cell_type": "code",
   "execution_count": 46,
   "metadata": {},
   "outputs": [],
   "source": [
    "pd.set_option('display.max_columns',None)"
   ]
  },
  {
   "cell_type": "code",
   "execution_count": 47,
   "metadata": {},
   "outputs": [
    {
     "data": {
      "text/html": [
       "<div>\n",
       "<style scoped>\n",
       "    .dataframe tbody tr th:only-of-type {\n",
       "        vertical-align: middle;\n",
       "    }\n",
       "\n",
       "    .dataframe tbody tr th {\n",
       "        vertical-align: top;\n",
       "    }\n",
       "\n",
       "    .dataframe thead th {\n",
       "        text-align: right;\n",
       "    }\n",
       "</style>\n",
       "<table border=\"1\" class=\"dataframe\">\n",
       "  <thead>\n",
       "    <tr style=\"text-align: right;\">\n",
       "      <th></th>\n",
       "      <th>Name</th>\n",
       "      <th>Rating</th>\n",
       "      <th>Spec_score</th>\n",
       "      <th>No_of_sim</th>\n",
       "      <th>Ram</th>\n",
       "      <th>Battery</th>\n",
       "      <th>Display</th>\n",
       "      <th>Camera</th>\n",
       "      <th>External_Memory</th>\n",
       "      <th>Android_version</th>\n",
       "      <th>Price</th>\n",
       "      <th>company</th>\n",
       "      <th>Inbuilt_memory</th>\n",
       "      <th>fast_charging</th>\n",
       "      <th>Screen_resolution</th>\n",
       "      <th>Processor</th>\n",
       "      <th>Processor_name</th>\n",
       "      <th>Model</th>\n",
       "      <th>sim_slot</th>\n",
       "      <th>network_3g</th>\n",
       "      <th>network_4g</th>\n",
       "      <th>network_5g</th>\n",
       "      <th>cleaned_RAM</th>\n",
       "    </tr>\n",
       "  </thead>\n",
       "  <tbody>\n",
       "    <tr>\n",
       "      <th>1232</th>\n",
       "      <td>Huawei Enjoy 70</td>\n",
       "      <td>4.65</td>\n",
       "      <td>65</td>\n",
       "      <td>Dual Sim, 3G, 4G, VoLTE,</td>\n",
       "      <td>128 GB inbuilt</td>\n",
       "      <td>6000 mAh Battery</td>\n",
       "      <td>6.75 inches</td>\n",
       "      <td>50 MP + 2 MP Dual Rear &amp;amp; 8 MP Front Camera</td>\n",
       "      <td>Memory Card Supported, upto 256 GB</td>\n",
       "      <td>4.0</td>\n",
       "      <td>14,990</td>\n",
       "      <td>Huawei</td>\n",
       "      <td>NaN</td>\n",
       "      <td>22.5W Fast Charging</td>\n",
       "      <td>720 x 1600 px</td>\n",
       "      <td>Octa Core</td>\n",
       "      <td>Kirin 710A</td>\n",
       "      <td>Enjoy 70</td>\n",
       "      <td>Dual</td>\n",
       "      <td>1</td>\n",
       "      <td>1</td>\n",
       "      <td>0</td>\n",
       "      <td>128</td>\n",
       "    </tr>\n",
       "    <tr>\n",
       "      <th>1233</th>\n",
       "      <td>Huawei Enjoy 60</td>\n",
       "      <td>4.35</td>\n",
       "      <td>63</td>\n",
       "      <td>Dual Sim, 3G, 4G, VoLTE,</td>\n",
       "      <td>128 GB inbuilt</td>\n",
       "      <td>6000 mAh Battery</td>\n",
       "      <td>6.75 inches</td>\n",
       "      <td>48 MP + 2 MP Dual Rear &amp;amp; 8 MP Front Camera</td>\n",
       "      <td>Memory Card Supported</td>\n",
       "      <td>3.0 (Honeycomb)</td>\n",
       "      <td>14,990</td>\n",
       "      <td>Huawei</td>\n",
       "      <td>NaN</td>\n",
       "      <td>22.5W Fast Charging</td>\n",
       "      <td>720 x 1600 px Display with Water Drop Notch</td>\n",
       "      <td>Quad Core</td>\n",
       "      <td>Kirin 710A</td>\n",
       "      <td>Enjoy 60</td>\n",
       "      <td>Dual</td>\n",
       "      <td>1</td>\n",
       "      <td>1</td>\n",
       "      <td>0</td>\n",
       "      <td>128</td>\n",
       "    </tr>\n",
       "    <tr>\n",
       "      <th>1239</th>\n",
       "      <td>Huawei Enjoy 70z</td>\n",
       "      <td>4.05</td>\n",
       "      <td>56</td>\n",
       "      <td>Dual Sim, 3G, 4G, VoLTE,</td>\n",
       "      <td>128 GB inbuilt</td>\n",
       "      <td>6000 mAh Battery</td>\n",
       "      <td>6.75 inches</td>\n",
       "      <td>13 MP + 2 MP Dual Rear &amp;amp; 8 MP Front Camera</td>\n",
       "      <td>HarmonyOS v4</td>\n",
       "      <td>NaN</td>\n",
       "      <td>15,990</td>\n",
       "      <td>Huawei</td>\n",
       "      <td>NaN</td>\n",
       "      <td>22.5W Fast Charging</td>\n",
       "      <td>720 x 1600 px Display with Water Drop Notch</td>\n",
       "      <td>NaN</td>\n",
       "      <td>Octa Core Processor</td>\n",
       "      <td>Enjoy 70z</td>\n",
       "      <td>Dual</td>\n",
       "      <td>1</td>\n",
       "      <td>1</td>\n",
       "      <td>0</td>\n",
       "      <td>128</td>\n",
       "    </tr>\n",
       "  </tbody>\n",
       "</table>\n",
       "</div>"
      ],
      "text/plain": [
       "                  Name  Rating  Spec_score                  No_of_sim  \\\n",
       "1232   Huawei Enjoy 70    4.65          65  Dual Sim, 3G, 4G, VoLTE,    \n",
       "1233   Huawei Enjoy 60    4.35          63  Dual Sim, 3G, 4G, VoLTE,    \n",
       "1239  Huawei Enjoy 70z    4.05          56  Dual Sim, 3G, 4G, VoLTE,    \n",
       "\n",
       "                 Ram            Battery      Display  \\\n",
       "1232  128 GB inbuilt  6000 mAh Battery   6.75 inches   \n",
       "1233  128 GB inbuilt  6000 mAh Battery   6.75 inches   \n",
       "1239  128 GB inbuilt  6000 mAh Battery   6.75 inches   \n",
       "\n",
       "                                              Camera  \\\n",
       "1232  50 MP + 2 MP Dual Rear &amp; 8 MP Front Camera   \n",
       "1233  48 MP + 2 MP Dual Rear &amp; 8 MP Front Camera   \n",
       "1239  13 MP + 2 MP Dual Rear &amp; 8 MP Front Camera   \n",
       "\n",
       "                         External_Memory  Android_version   Price company  \\\n",
       "1232  Memory Card Supported, upto 256 GB              4.0  14,990  Huawei   \n",
       "1233               Memory Card Supported  3.0 (Honeycomb)  14,990  Huawei   \n",
       "1239                        HarmonyOS v4              NaN  15,990  Huawei   \n",
       "\n",
       "     Inbuilt_memory         fast_charging  \\\n",
       "1232            NaN   22.5W Fast Charging   \n",
       "1233            NaN   22.5W Fast Charging   \n",
       "1239            NaN   22.5W Fast Charging   \n",
       "\n",
       "                                 Screen_resolution   Processor  \\\n",
       "1232                                 720 x 1600 px   Octa Core   \n",
       "1233   720 x 1600 px Display with Water Drop Notch   Quad Core   \n",
       "1239   720 x 1600 px Display with Water Drop Notch         NaN   \n",
       "\n",
       "           Processor_name      Model sim_slot  network_3g  network_4g  \\\n",
       "1232           Kirin 710A   Enjoy 70     Dual           1           1   \n",
       "1233           Kirin 710A   Enjoy 60     Dual           1           1   \n",
       "1239  Octa Core Processor  Enjoy 70z     Dual           1           1   \n",
       "\n",
       "      network_5g  cleaned_RAM  \n",
       "1232           0          128  \n",
       "1233           0          128  \n",
       "1239           0          128  "
      ]
     },
     "execution_count": 47,
     "metadata": {},
     "output_type": "execute_result"
    }
   ],
   "source": [
    "df1[df1['cleaned_RAM'] > 24].head(3)"
   ]
  },
  {
   "cell_type": "code",
   "execution_count": 48,
   "metadata": {},
   "outputs": [],
   "source": [
    "# Step 1: Identify rows where cleaned_RAM > 24\n",
    "mask = df1['cleaned_RAM'] > 24\n",
    "\n",
    "# Step 2: Assign those values to Inbuilt_memory\n",
    "df1.loc[mask, 'Inbuilt_memory'] = df1.loc[mask, 'cleaned_RAM']\n",
    "\n",
    "# Step 3: Replace those values in cleaned_RAM with 8\n",
    "df1.loc[mask, 'cleaned_RAM'] = 8"
   ]
  },
  {
   "cell_type": "code",
   "execution_count": 49,
   "metadata": {},
   "outputs": [
    {
     "data": {
      "text/html": [
       "<div>\n",
       "<style scoped>\n",
       "    .dataframe tbody tr th:only-of-type {\n",
       "        vertical-align: middle;\n",
       "    }\n",
       "\n",
       "    .dataframe tbody tr th {\n",
       "        vertical-align: top;\n",
       "    }\n",
       "\n",
       "    .dataframe thead th {\n",
       "        text-align: right;\n",
       "    }\n",
       "</style>\n",
       "<table border=\"1\" class=\"dataframe\">\n",
       "  <thead>\n",
       "    <tr style=\"text-align: right;\">\n",
       "      <th></th>\n",
       "      <th>Name</th>\n",
       "      <th>Rating</th>\n",
       "      <th>Spec_score</th>\n",
       "      <th>No_of_sim</th>\n",
       "      <th>Ram</th>\n",
       "      <th>Battery</th>\n",
       "      <th>Display</th>\n",
       "      <th>Camera</th>\n",
       "      <th>External_Memory</th>\n",
       "      <th>Android_version</th>\n",
       "      <th>Price</th>\n",
       "      <th>company</th>\n",
       "      <th>Inbuilt_memory</th>\n",
       "      <th>fast_charging</th>\n",
       "      <th>Screen_resolution</th>\n",
       "      <th>Processor</th>\n",
       "      <th>Processor_name</th>\n",
       "      <th>Model</th>\n",
       "      <th>sim_slot</th>\n",
       "      <th>network_3g</th>\n",
       "      <th>network_4g</th>\n",
       "      <th>network_5g</th>\n",
       "      <th>cleaned_RAM</th>\n",
       "    </tr>\n",
       "  </thead>\n",
       "  <tbody>\n",
       "  </tbody>\n",
       "</table>\n",
       "</div>"
      ],
      "text/plain": [
       "Empty DataFrame\n",
       "Columns: [Name, Rating, Spec_score, No_of_sim, Ram, Battery, Display, Camera, External_Memory, Android_version, Price, company, Inbuilt_memory, fast_charging, Screen_resolution, Processor, Processor_name, Model, sim_slot, network_3g, network_4g, network_5g, cleaned_RAM]\n",
       "Index: []"
      ]
     },
     "execution_count": 49,
     "metadata": {},
     "output_type": "execute_result"
    }
   ],
   "source": [
    "df1[df1['cleaned_RAM'] > 24]"
   ]
  },
  {
   "cell_type": "code",
   "execution_count": 50,
   "metadata": {},
   "outputs": [
    {
     "data": {
      "text/plain": [
       "np.int64(0)"
      ]
     },
     "execution_count": 50,
     "metadata": {},
     "output_type": "execute_result"
    }
   ],
   "source": [
    "df1['Inbuilt_memory'].isnull().sum()"
   ]
  },
  {
   "cell_type": "code",
   "execution_count": 51,
   "metadata": {},
   "outputs": [
    {
     "data": {
      "text/plain": [
       "np.int64(0)"
      ]
     },
     "execution_count": 51,
     "metadata": {},
     "output_type": "execute_result"
    }
   ],
   "source": [
    "df1['cleaned_RAM'].isnull().sum()"
   ]
  },
  {
   "cell_type": "code",
   "execution_count": 52,
   "metadata": {},
   "outputs": [
    {
     "data": {
      "text/plain": [
       "<Axes: xlabel='cleaned_RAM'>"
      ]
     },
     "execution_count": 52,
     "metadata": {},
     "output_type": "execute_result"
    },
    {
     "data": {
      "image/png": "[encoded data removed]",
      "text/plain": [
       "<Figure size 640x480 with 1 Axes>"
      ]
     },
     "metadata": {},
     "output_type": "display_data"
    }
   ],
   "source": [
    "df1['cleaned_RAM'].value_counts().plot(kind='bar')"
   ]
  },
  {
   "cell_type": "markdown",
   "metadata": {},
   "source": [
    "## Battery\n",
    "#### changes\n",
    "- put the right values in 266,264,1246,1248\n",
    "- created new feature Battery_mAh\n",
    "#### observations\n",
    "- in 266,264,1246,1248 diff values found\n",
    "- most of the phones has battery mAh between 4000 to 6000\n",
    "- few phones have battery mAh >= 7000"
   ]
  },
  {
   "cell_type": "code",
   "execution_count": 53,
   "metadata": {},
   "outputs": [],
   "source": [
    "df1['Battery_mAh'] = df1['Battery'].str.split(' ').str.get(0)"
   ]
  },
  {
   "cell_type": "code",
   "execution_count": 54,
   "metadata": {},
   "outputs": [],
   "source": [
    "df1.at[266,'Battery_mAh'] = 4300\n",
    "df1.at[1248,'Battery_mAh'] = 6000"
   ]
  },
  {
   "cell_type": "code",
   "execution_count": 55,
   "metadata": {},
   "outputs": [
    {
     "data": {
      "text/html": [
       "<div>\n",
       "<style scoped>\n",
       "    .dataframe tbody tr th:only-of-type {\n",
       "        vertical-align: middle;\n",
       "    }\n",
       "\n",
       "    .dataframe tbody tr th {\n",
       "        vertical-align: top;\n",
       "    }\n",
       "\n",
       "    .dataframe thead th {\n",
       "        text-align: right;\n",
       "    }\n",
       "</style>\n",
       "<table border=\"1\" class=\"dataframe\">\n",
       "  <thead>\n",
       "    <tr style=\"text-align: right;\">\n",
       "      <th></th>\n",
       "      <th>Name</th>\n",
       "      <th>Rating</th>\n",
       "      <th>Spec_score</th>\n",
       "      <th>No_of_sim</th>\n",
       "      <th>Ram</th>\n",
       "      <th>Battery</th>\n",
       "      <th>Display</th>\n",
       "      <th>Camera</th>\n",
       "      <th>External_Memory</th>\n",
       "      <th>Android_version</th>\n",
       "      <th>Price</th>\n",
       "      <th>company</th>\n",
       "      <th>Inbuilt_memory</th>\n",
       "      <th>fast_charging</th>\n",
       "      <th>Screen_resolution</th>\n",
       "      <th>Processor</th>\n",
       "      <th>Processor_name</th>\n",
       "      <th>Model</th>\n",
       "      <th>sim_slot</th>\n",
       "      <th>network_3g</th>\n",
       "      <th>network_4g</th>\n",
       "      <th>network_5g</th>\n",
       "      <th>cleaned_RAM</th>\n",
       "      <th>Battery_mAh</th>\n",
       "    </tr>\n",
       "  </thead>\n",
       "  <tbody>\n",
       "    <tr>\n",
       "      <th>455</th>\n",
       "      <td>iQOO 9 Pro 5G (12GB RAM + 256GB)</td>\n",
       "      <td>4.45</td>\n",
       "      <td>88</td>\n",
       "      <td>Dual Sim, 3G, 4G, 5G, VoLTE,</td>\n",
       "      <td>12 GB RAM</td>\n",
       "      <td>4700 mAh Battery</td>\n",
       "      <td>6.78 inches</td>\n",
       "      <td>50 MP + 50 MP + 16 MP Triple Rear &amp;amp; 16 MP ...</td>\n",
       "      <td>Android v12</td>\n",
       "      <td>NaN</td>\n",
       "      <td>76,429</td>\n",
       "      <td>iQOO</td>\n",
       "      <td>256 GB inbuilt</td>\n",
       "      <td>120W Fast Charging</td>\n",
       "      <td>1440 x 3200 px</td>\n",
       "      <td>Octa Core</td>\n",
       "      <td>Snapdragon 8 Gen1</td>\n",
       "      <td>9 Pro</td>\n",
       "      <td>Dual</td>\n",
       "      <td>1</td>\n",
       "      <td>1</td>\n",
       "      <td>1</td>\n",
       "      <td>12</td>\n",
       "      <td>4700</td>\n",
       "    </tr>\n",
       "    <tr>\n",
       "      <th>22</th>\n",
       "      <td>Samsung Galaxy F32</td>\n",
       "      <td>4.50</td>\n",
       "      <td>75</td>\n",
       "      <td>Dual Sim, 3G, 4G, 5G, VoLTE,</td>\n",
       "      <td>8 GB RAM</td>\n",
       "      <td>5000 mAh Battery</td>\n",
       "      <td>6.67 inches</td>\n",
       "      <td>50 MP + 2 MP Dual Rear &amp;amp; 16 MP Front Camera</td>\n",
       "      <td>Memory Card Supported, upto 1 TB</td>\n",
       "      <td>13</td>\n",
       "      <td>19,990</td>\n",
       "      <td>Samsung</td>\n",
       "      <td>128 GB inbuilt</td>\n",
       "      <td>25W Fast Charging</td>\n",
       "      <td>1080 x 2408 px</td>\n",
       "      <td>NaN</td>\n",
       "      <td>Octa Core Processor</td>\n",
       "      <td>Galaxy F32</td>\n",
       "      <td>Dual</td>\n",
       "      <td>1</td>\n",
       "      <td>1</td>\n",
       "      <td>1</td>\n",
       "      <td>8</td>\n",
       "      <td>5000</td>\n",
       "    </tr>\n",
       "  </tbody>\n",
       "</table>\n",
       "</div>"
      ],
      "text/plain": [
       "                                 Name  Rating  Spec_score  \\\n",
       "455  iQOO 9 Pro 5G (12GB RAM + 256GB)    4.45          88   \n",
       "22                 Samsung Galaxy F32    4.50          75   \n",
       "\n",
       "                         No_of_sim        Ram            Battery      Display  \\\n",
       "455  Dual Sim, 3G, 4G, 5G, VoLTE,   12 GB RAM  4700 mAh Battery   6.78 inches   \n",
       "22   Dual Sim, 3G, 4G, 5G, VoLTE,    8 GB RAM  5000 mAh Battery   6.67 inches   \n",
       "\n",
       "                                                Camera  \\\n",
       "455  50 MP + 50 MP + 16 MP Triple Rear &amp; 16 MP ...   \n",
       "22     50 MP + 2 MP Dual Rear &amp; 16 MP Front Camera   \n",
       "\n",
       "                      External_Memory Android_version   Price  company  \\\n",
       "455                       Android v12             NaN  76,429     iQOO   \n",
       "22   Memory Card Supported, upto 1 TB              13  19,990  Samsung   \n",
       "\n",
       "      Inbuilt_memory        fast_charging Screen_resolution   Processor  \\\n",
       "455   256 GB inbuilt   120W Fast Charging    1440 x 3200 px   Octa Core   \n",
       "22    128 GB inbuilt    25W Fast Charging    1080 x 2408 px         NaN   \n",
       "\n",
       "          Processor_name       Model sim_slot  network_3g  network_4g  \\\n",
       "455    Snapdragon 8 Gen1       9 Pro     Dual           1           1   \n",
       "22   Octa Core Processor  Galaxy F32     Dual           1           1   \n",
       "\n",
       "     network_5g  cleaned_RAM Battery_mAh  \n",
       "455           1           12        4700  \n",
       "22            1            8        5000  "
      ]
     },
     "execution_count": 55,
     "metadata": {},
     "output_type": "execute_result"
    }
   ],
   "source": [
    "df1.sample(2)"
   ]
  },
  {
   "cell_type": "code",
   "execution_count": 56,
   "metadata": {},
   "outputs": [
    {
     "data": {
      "text/plain": [
       "array(['6000', '4000', '5000', '3500', '4500', '3400', '3300', '4050',\n",
       "       '3900', '4300', '4800', '4200', '3700', '4400', '4320', '4030',\n",
       "       '1900', '2650', '3000', '4600', '4100', '5500', '4830', '4700',\n",
       "       '4810', '5100', '5400', '4870', '5700', '4730', '6', 4300, '5200',\n",
       "       '5240', '5050', '4310', '4350', '4880', '4520', '4260', '4820',\n",
       "       '4805', '5160', '5080', '5065', '5800', '5300', '5450', '5600',\n",
       "       '2800', '4620', '4385', '4410', '4355', '4492', '4575', '5003',\n",
       "       '4821', '7000', '3760', '2600', '4900', '4020', '4450', '4610',\n",
       "       '3800', '3440', '2510', '6100', '2100', '5020', '4980', '4250',\n",
       "       '6.75', 6000, '4460', '4815', '4750', '5330', '5010'], dtype=object)"
      ]
     },
     "execution_count": 56,
     "metadata": {},
     "output_type": "execute_result"
    }
   ],
   "source": [
    "df1['Battery_mAh'].unique()"
   ]
  },
  {
   "cell_type": "code",
   "execution_count": 57,
   "metadata": {},
   "outputs": [],
   "source": [
    "df1.at[264,'Battery_mAh'] = 4300\n",
    "df1.at[1246,'Battery_mAh'] = 6000"
   ]
  },
  {
   "cell_type": "code",
   "execution_count": 58,
   "metadata": {},
   "outputs": [
    {
     "data": {
      "text/plain": [
       "array(['6000', '4000', '5000', '3500', '4500', '3400', '3300', '4050',\n",
       "       '3900', '4300', '4800', '4200', '3700', '4400', '4320', '4030',\n",
       "       '1900', '2650', '3000', '4600', '4100', '5500', '4830', '4700',\n",
       "       '4810', '5100', '5400', '4870', '5700', '4730', 4300, '5200',\n",
       "       '5240', '5050', '4310', '4350', '4880', '4520', '4260', '4820',\n",
       "       '4805', '5160', '5080', '5065', '5800', '5300', '5450', '5600',\n",
       "       '2800', '4620', '4385', '4410', '4355', '4492', '4575', '5003',\n",
       "       '4821', '7000', '3760', '2600', '4900', '4020', '4450', '4610',\n",
       "       '3800', '3440', '2510', '6100', '2100', '5020', '4980', '4250',\n",
       "       6000, '4460', '4815', '4750', '5330', '5010'], dtype=object)"
      ]
     },
     "execution_count": 58,
     "metadata": {},
     "output_type": "execute_result"
    }
   ],
   "source": [
    "df1['Battery_mAh'].unique()"
   ]
  },
  {
   "cell_type": "code",
   "execution_count": 59,
   "metadata": {},
   "outputs": [],
   "source": [
    "df1['Battery_mAh'] = df1['Battery_mAh'].astype(int)"
   ]
  },
  {
   "cell_type": "code",
   "execution_count": 60,
   "metadata": {},
   "outputs": [
    {
     "data": {
      "text/plain": [
       "<Axes: ylabel='Frequency'>"
      ]
     },
     "execution_count": 60,
     "metadata": {},
     "output_type": "execute_result"
    },
    {
     "data": {
      "image/png": "[encoded data removed]",
      "text/plain": [
       "<Figure size 640x480 with 1 Axes>"
      ]
     },
     "metadata": {},
     "output_type": "display_data"
    }
   ],
   "source": [
    "df1['Battery_mAh'].plot(kind='hist', bins=20)"
   ]
  },
  {
   "cell_type": "code",
   "execution_count": 61,
   "metadata": {},
   "outputs": [
    {
     "data": {
      "text/html": [
       "<div>\n",
       "<style scoped>\n",
       "    .dataframe tbody tr th:only-of-type {\n",
       "        vertical-align: middle;\n",
       "    }\n",
       "\n",
       "    .dataframe tbody tr th {\n",
       "        vertical-align: top;\n",
       "    }\n",
       "\n",
       "    .dataframe thead th {\n",
       "        text-align: right;\n",
       "    }\n",
       "</style>\n",
       "<table border=\"1\" class=\"dataframe\">\n",
       "  <thead>\n",
       "    <tr style=\"text-align: right;\">\n",
       "      <th></th>\n",
       "      <th>Name</th>\n",
       "      <th>Rating</th>\n",
       "      <th>Spec_score</th>\n",
       "      <th>No_of_sim</th>\n",
       "      <th>Ram</th>\n",
       "      <th>Battery</th>\n",
       "      <th>Display</th>\n",
       "      <th>Camera</th>\n",
       "      <th>External_Memory</th>\n",
       "      <th>Android_version</th>\n",
       "      <th>Price</th>\n",
       "      <th>company</th>\n",
       "      <th>Inbuilt_memory</th>\n",
       "      <th>fast_charging</th>\n",
       "      <th>Screen_resolution</th>\n",
       "      <th>Processor</th>\n",
       "      <th>Processor_name</th>\n",
       "      <th>Model</th>\n",
       "      <th>sim_slot</th>\n",
       "      <th>network_3g</th>\n",
       "      <th>network_4g</th>\n",
       "      <th>network_5g</th>\n",
       "      <th>cleaned_RAM</th>\n",
       "      <th>Battery_mAh</th>\n",
       "    </tr>\n",
       "  </thead>\n",
       "  <tbody>\n",
       "    <tr>\n",
       "      <th>91</th>\n",
       "      <td>Vivo Y25</td>\n",
       "      <td>4.0</td>\n",
       "      <td>42</td>\n",
       "      <td>Dual Sim, 3G, 4G,</td>\n",
       "      <td>1 GB RAM</td>\n",
       "      <td>1900 mAh Battery</td>\n",
       "      <td>4.5 inches</td>\n",
       "      <td>5 MP Rear &amp;amp; 2 MP Front Camera</td>\n",
       "      <td>Memory Card Supported, upto 128 GB</td>\n",
       "      <td>5.1 (Lollipop)</td>\n",
       "      <td>7,499</td>\n",
       "      <td>Vivo</td>\n",
       "      <td>16 GB inbuilt</td>\n",
       "      <td>NaN</td>\n",
       "      <td>480 x 854 px Display</td>\n",
       "      <td>Quad Core</td>\n",
       "      <td>Helio MT6580</td>\n",
       "      <td>Y25</td>\n",
       "      <td>Dual</td>\n",
       "      <td>1</td>\n",
       "      <td>1</td>\n",
       "      <td>0</td>\n",
       "      <td>1</td>\n",
       "      <td>1900</td>\n",
       "    </tr>\n",
       "  </tbody>\n",
       "</table>\n",
       "</div>"
      ],
      "text/plain": [
       "        Name  Rating  Spec_score           No_of_sim       Ram  \\\n",
       "91  Vivo Y25     4.0          42  Dual Sim, 3G, 4G,   1 GB RAM   \n",
       "\n",
       "             Battery     Display                             Camera  \\\n",
       "91  1900 mAh Battery  4.5 inches  5 MP Rear &amp; 2 MP Front Camera   \n",
       "\n",
       "                       External_Memory Android_version  Price company  \\\n",
       "91  Memory Card Supported, upto 128 GB  5.1 (Lollipop)  7,499    Vivo   \n",
       "\n",
       "    Inbuilt_memory fast_charging      Screen_resolution   Processor  \\\n",
       "91   16 GB inbuilt           NaN   480 x 854 px Display   Quad Core   \n",
       "\n",
       "   Processor_name Model sim_slot  network_3g  network_4g  network_5g  \\\n",
       "91   Helio MT6580   Y25     Dual           1           1           0   \n",
       "\n",
       "    cleaned_RAM  Battery_mAh  \n",
       "91            1         1900  "
      ]
     },
     "execution_count": 61,
     "metadata": {},
     "output_type": "execute_result"
    }
   ],
   "source": [
    "df1[df1['Battery_mAh'] == df1['Battery_mAh'].min()]"
   ]
  },
  {
   "cell_type": "code",
   "execution_count": 62,
   "metadata": {},
   "outputs": [
    {
     "name": "stdout",
     "output_type": "stream",
     "text": [
      "<class 'pandas.core.frame.DataFrame'>\n",
      "Index: 1369 entries, 0 to 1369\n",
      "Data columns (total 24 columns):\n",
      " #   Column             Non-Null Count  Dtype  \n",
      "---  ------             --------------  -----  \n",
      " 0   Name               1369 non-null   object \n",
      " 1   Rating             1369 non-null   float64\n",
      " 2   Spec_score         1369 non-null   int64  \n",
      " 3   No_of_sim          1369 non-null   object \n",
      " 4   Ram                1369 non-null   object \n",
      " 5   Battery            1369 non-null   object \n",
      " 6   Display            1369 non-null   object \n",
      " 7   Camera             1369 non-null   object \n",
      " 8   External_Memory    1369 non-null   object \n",
      " 9   Android_version    926 non-null    object \n",
      " 10  Price              1369 non-null   object \n",
      " 11  company            1369 non-null   object \n",
      " 12  Inbuilt_memory     1369 non-null   object \n",
      " 13  fast_charging      1280 non-null   object \n",
      " 14  Screen_resolution  1367 non-null   object \n",
      " 15  Processor          1341 non-null   object \n",
      " 16  Processor_name     1369 non-null   object \n",
      " 17  Model              1369 non-null   object \n",
      " 18  sim_slot           1369 non-null   object \n",
      " 19  network_3g         1369 non-null   int64  \n",
      " 20  network_4g         1369 non-null   int64  \n",
      " 21  network_5g         1369 non-null   int64  \n",
      " 22  cleaned_RAM        1369 non-null   int64  \n",
      " 23  Battery_mAh        1369 non-null   int64  \n",
      "dtypes: float64(1), int64(6), object(17)\n",
      "memory usage: 299.7+ KB\n"
     ]
    }
   ],
   "source": [
    "df1.info()"
   ]
  },
  {
   "cell_type": "markdown",
   "metadata": {},
   "source": [
    "## Display\n",
    "#### changes\n",
    "- cahnged some incorrect values\n",
    "- created new display_inches feature\n",
    "#### observation\n",
    "- all values are correct except some\n",
    "- most of the phones have display in inches between 6 to 8\n",
    "- only one phon has 10 inches display(TCL Trifold) "
   ]
  },
  {
   "cell_type": "code",
   "execution_count": 63,
   "metadata": {},
   "outputs": [],
   "source": [
    "df1['Display_inches'] = df1['Display'].str.split(' ').str.get(0)"
   ]
  },
  {
   "cell_type": "code",
   "execution_count": 64,
   "metadata": {},
   "outputs": [],
   "source": [
    "df1.at[266,'Display_inches'] = 6.5\n",
    "df1.at[1248,'Display_inches'] = 6.75"
   ]
  },
  {
   "cell_type": "code",
   "execution_count": 65,
   "metadata": {},
   "outputs": [
    {
     "data": {
      "text/plain": [
       "array(['6.6', '6.4', '6.5', '6.1', '6.7', '6.21', '6.67', '6.58', '6.71',\n",
       "       '6.78', '6.8', '6.56', '6.3', '7.45', '6.2', '8.2', '7.6', '8',\n",
       "       '7.63', '6.22', '4.5', '6.51', '6.53', '6.35', '6.55', '6.64',\n",
       "       '5.2', '5.5', '6.72', '6.44', '6.82', '6.68', '7', '6.74', '8.03',\n",
       "       '8.02', '7.8', '6.52', '6.59', '6.43', '4300', 6.5, '6.62', '6.57',\n",
       "       '6.73', '6.83', '7.1', '7.4', '7.56', '7.82', '6.38', '6.79',\n",
       "       '6.61', '6.69', '6.77', '6.75', '6.81', '7.2', '7.71', '7.92',\n",
       "       '6.76', '7.9', '5.6', '5.7', '6.34', '6.14', '6.03', '8.3', '5.9',\n",
       "       '5.92', '6', '6.26', '6.09', '5.99', '6.92', '5', '6.45', '6.9',\n",
       "       '6.47', '6.28', '6.49', '6.08', '7.85', '7.11', '6.95', '48', 6.75,\n",
       "       '6.94', '7.09', '10'], dtype=object)"
      ]
     },
     "execution_count": 65,
     "metadata": {},
     "output_type": "execute_result"
    }
   ],
   "source": [
    "df1['Display_inches'].unique()"
   ]
  },
  {
   "cell_type": "code",
   "execution_count": 66,
   "metadata": {},
   "outputs": [],
   "source": [
    "df1['Display_inches'] = df1['Display_inches'].astype(float)"
   ]
  },
  {
   "cell_type": "code",
   "execution_count": 67,
   "metadata": {},
   "outputs": [
    {
     "data": {
      "text/html": [
       "<div>\n",
       "<style scoped>\n",
       "    .dataframe tbody tr th:only-of-type {\n",
       "        vertical-align: middle;\n",
       "    }\n",
       "\n",
       "    .dataframe tbody tr th {\n",
       "        vertical-align: top;\n",
       "    }\n",
       "\n",
       "    .dataframe thead th {\n",
       "        text-align: right;\n",
       "    }\n",
       "</style>\n",
       "<table border=\"1\" class=\"dataframe\">\n",
       "  <thead>\n",
       "    <tr style=\"text-align: right;\">\n",
       "      <th></th>\n",
       "      <th>Name</th>\n",
       "      <th>Rating</th>\n",
       "      <th>Spec_score</th>\n",
       "      <th>No_of_sim</th>\n",
       "      <th>Ram</th>\n",
       "      <th>Battery</th>\n",
       "      <th>Display</th>\n",
       "      <th>Camera</th>\n",
       "      <th>External_Memory</th>\n",
       "      <th>Android_version</th>\n",
       "      <th>Price</th>\n",
       "      <th>company</th>\n",
       "      <th>Inbuilt_memory</th>\n",
       "      <th>fast_charging</th>\n",
       "      <th>Screen_resolution</th>\n",
       "      <th>Processor</th>\n",
       "      <th>Processor_name</th>\n",
       "      <th>Model</th>\n",
       "      <th>sim_slot</th>\n",
       "      <th>network_3g</th>\n",
       "      <th>network_4g</th>\n",
       "      <th>network_5g</th>\n",
       "      <th>cleaned_RAM</th>\n",
       "      <th>Battery_mAh</th>\n",
       "      <th>Display_inches</th>\n",
       "    </tr>\n",
       "  </thead>\n",
       "  <tbody>\n",
       "    <tr>\n",
       "      <th>264</th>\n",
       "      <td>Realme 6i (6GB RAM + 64GB)</td>\n",
       "      <td>3.85</td>\n",
       "      <td>76</td>\n",
       "      <td>Dual Sim, 3G, 4G, VoLTE,</td>\n",
       "      <td>Helio G90T</td>\n",
       "      <td>6 GB RAM, 64 GB inbuilt</td>\n",
       "      <td>4300 mAh Battery with 30W Fast Charging</td>\n",
       "      <td>6.5 inches, 1080 x 2400 px, 90 Hz Display with...</td>\n",
       "      <td>48 MP Quad Rear &amp;amp; 16 MP Front Camera</td>\n",
       "      <td>NaN</td>\n",
       "      <td>14,999</td>\n",
       "      <td>Realme</td>\n",
       "      <td>Octa Core</td>\n",
       "      <td>NaN</td>\n",
       "      <td>NaN</td>\n",
       "      <td>NaN</td>\n",
       "      <td>No Wifi</td>\n",
       "      <td>6i</td>\n",
       "      <td>Dual</td>\n",
       "      <td>1</td>\n",
       "      <td>1</td>\n",
       "      <td>0</td>\n",
       "      <td>6</td>\n",
       "      <td>4300</td>\n",
       "      <td>4300.0</td>\n",
       "    </tr>\n",
       "  </tbody>\n",
       "</table>\n",
       "</div>"
      ],
      "text/plain": [
       "                           Name  Rating  Spec_score  \\\n",
       "264  Realme 6i (6GB RAM + 64GB)    3.85          76   \n",
       "\n",
       "                     No_of_sim         Ram                  Battery  \\\n",
       "264  Dual Sim, 3G, 4G, VoLTE,   Helio G90T  6 GB RAM, 64 GB inbuilt   \n",
       "\n",
       "                                     Display  \\\n",
       "264  4300 mAh Battery with 30W Fast Charging   \n",
       "\n",
       "                                                Camera  \\\n",
       "264  6.5 inches, 1080 x 2400 px, 90 Hz Display with...   \n",
       "\n",
       "                              External_Memory Android_version   Price company  \\\n",
       "264  48 MP Quad Rear &amp; 16 MP Front Camera             NaN  14,999  Realme   \n",
       "\n",
       "    Inbuilt_memory fast_charging Screen_resolution Processor Processor_name  \\\n",
       "264      Octa Core           NaN               NaN       NaN        No Wifi   \n",
       "\n",
       "    Model sim_slot  network_3g  network_4g  network_5g  cleaned_RAM  \\\n",
       "264    6i     Dual           1           1           0            6   \n",
       "\n",
       "     Battery_mAh  Display_inches  \n",
       "264         4300          4300.0  "
      ]
     },
     "execution_count": 67,
     "metadata": {},
     "output_type": "execute_result"
    }
   ],
   "source": [
    "df1[df1['Display_inches'] == 4300]"
   ]
  },
  {
   "cell_type": "code",
   "execution_count": 68,
   "metadata": {},
   "outputs": [],
   "source": [
    "df1.at[264,'Display_inches'] = 6.5\n",
    "df1.at[1246,'Display_inches'] = 6.75"
   ]
  },
  {
   "cell_type": "code",
   "execution_count": 69,
   "metadata": {},
   "outputs": [
    {
     "data": {
      "text/plain": [
       "array([ 6.6 ,  6.4 ,  6.5 ,  6.1 ,  6.7 ,  6.21,  6.67,  6.58,  6.71,\n",
       "        6.78,  6.8 ,  6.56,  6.3 ,  7.45,  6.2 ,  8.2 ,  7.6 ,  8.  ,\n",
       "        7.63,  6.22,  4.5 ,  6.51,  6.53,  6.35,  6.55,  6.64,  5.2 ,\n",
       "        5.5 ,  6.72,  6.44,  6.82,  6.68,  7.  ,  6.74,  8.03,  8.02,\n",
       "        7.8 ,  6.52,  6.59,  6.43,  6.62,  6.57,  6.73,  6.83,  7.1 ,\n",
       "        7.4 ,  7.56,  7.82,  6.38,  6.79,  6.61,  6.69,  6.77,  6.75,\n",
       "        6.81,  7.2 ,  7.71,  7.92,  6.76,  7.9 ,  5.6 ,  5.7 ,  6.34,\n",
       "        6.14,  6.03,  8.3 ,  5.9 ,  5.92,  6.  ,  6.26,  6.09,  5.99,\n",
       "        6.92,  5.  ,  6.45,  6.9 ,  6.47,  6.28,  6.49,  6.08,  7.85,\n",
       "        7.11,  6.95,  6.94,  7.09, 10.  ])"
      ]
     },
     "execution_count": 69,
     "metadata": {},
     "output_type": "execute_result"
    }
   ],
   "source": [
    "df1['Display_inches'].unique()"
   ]
  },
  {
   "cell_type": "code",
   "execution_count": 70,
   "metadata": {},
   "outputs": [
    {
     "data": {
      "text/plain": [
       "<Axes: ylabel='Frequency'>"
      ]
     },
     "execution_count": 70,
     "metadata": {},
     "output_type": "execute_result"
    },
    {
     "data": {
      "image/png": "[encoded data removed]",
      "text/plain": [
       "<Figure size 640x480 with 1 Axes>"
      ]
     },
     "metadata": {},
     "output_type": "display_data"
    }
   ],
   "source": [
    "df1['Display_inches'].plot(kind='hist' , bins=20)"
   ]
  },
  {
   "cell_type": "code",
   "execution_count": 71,
   "metadata": {},
   "outputs": [
    {
     "data": {
      "text/plain": [
       "count    1369.000000\n",
       "mean        6.660029\n",
       "std         0.298311\n",
       "min         4.500000\n",
       "25%         6.550000\n",
       "50%         6.670000\n",
       "75%         6.740000\n",
       "max        10.000000\n",
       "Name: Display_inches, dtype: float64"
      ]
     },
     "execution_count": 71,
     "metadata": {},
     "output_type": "execute_result"
    }
   ],
   "source": [
    "df1['Display_inches'].describe()"
   ]
  },
  {
   "cell_type": "code",
   "execution_count": 72,
   "metadata": {},
   "outputs": [
    {
     "data": {
      "text/html": [
       "<div>\n",
       "<style scoped>\n",
       "    .dataframe tbody tr th:only-of-type {\n",
       "        vertical-align: middle;\n",
       "    }\n",
       "\n",
       "    .dataframe tbody tr th {\n",
       "        vertical-align: top;\n",
       "    }\n",
       "\n",
       "    .dataframe thead th {\n",
       "        text-align: right;\n",
       "    }\n",
       "</style>\n",
       "<table border=\"1\" class=\"dataframe\">\n",
       "  <thead>\n",
       "    <tr style=\"text-align: right;\">\n",
       "      <th></th>\n",
       "      <th>Name</th>\n",
       "      <th>Rating</th>\n",
       "      <th>Spec_score</th>\n",
       "      <th>No_of_sim</th>\n",
       "      <th>Ram</th>\n",
       "      <th>Battery</th>\n",
       "      <th>Display</th>\n",
       "      <th>Camera</th>\n",
       "      <th>External_Memory</th>\n",
       "      <th>Android_version</th>\n",
       "      <th>Price</th>\n",
       "      <th>company</th>\n",
       "      <th>Inbuilt_memory</th>\n",
       "      <th>fast_charging</th>\n",
       "      <th>Screen_resolution</th>\n",
       "      <th>Processor</th>\n",
       "      <th>Processor_name</th>\n",
       "      <th>Model</th>\n",
       "      <th>sim_slot</th>\n",
       "      <th>network_3g</th>\n",
       "      <th>network_4g</th>\n",
       "      <th>network_5g</th>\n",
       "      <th>cleaned_RAM</th>\n",
       "      <th>Battery_mAh</th>\n",
       "      <th>Display_inches</th>\n",
       "    </tr>\n",
       "  </thead>\n",
       "  <tbody>\n",
       "    <tr>\n",
       "      <th>76</th>\n",
       "      <td>Samsung Galaxy Z Fold 6 Ultra</td>\n",
       "      <td>4.05</td>\n",
       "      <td>96</td>\n",
       "      <td>Dual Sim, 3G, 4G, 5G, VoLTE, Vo5G,</td>\n",
       "      <td>12 GB RAM</td>\n",
       "      <td>5000 mAh Battery</td>\n",
       "      <td>8.2 inches</td>\n",
       "      <td>Foldable Display, Dual Display</td>\n",
       "      <td>200 MP Quad Rear &amp;amp; 12 MP + 12 MP Dual Fron...</td>\n",
       "      <td>14</td>\n",
       "      <td>1,99,990</td>\n",
       "      <td>Samsung</td>\n",
       "      <td>256 GB inbuilt</td>\n",
       "      <td>80W Fast Charging</td>\n",
       "      <td>1812 x 2176 px</td>\n",
       "      <td>Octa Core</td>\n",
       "      <td>Snapdragon 8 Gen3</td>\n",
       "      <td>Galaxy Z Fold 6 Ultra</td>\n",
       "      <td>Dual</td>\n",
       "      <td>1</td>\n",
       "      <td>1</td>\n",
       "      <td>1</td>\n",
       "      <td>12</td>\n",
       "      <td>5000</td>\n",
       "      <td>8.20</td>\n",
       "    </tr>\n",
       "    <tr>\n",
       "      <th>197</th>\n",
       "      <td>Vivo X Fold 3</td>\n",
       "      <td>4.00</td>\n",
       "      <td>94</td>\n",
       "      <td>Dual Sim, 3G, 4G, 5G, VoLTE,</td>\n",
       "      <td>12 GB RAM</td>\n",
       "      <td>5500 mAh Battery</td>\n",
       "      <td>8.03 inches</td>\n",
       "      <td>Foldable Display, Dual Display</td>\n",
       "      <td>50 MP + 50 MP + 50 MP Triple Rear &amp;amp; 32 MP ...</td>\n",
       "      <td>14</td>\n",
       "      <td>80,990</td>\n",
       "      <td>Vivo</td>\n",
       "      <td>256 GB inbuilt</td>\n",
       "      <td>80W Fast Charging</td>\n",
       "      <td>2200 x 2480 px</td>\n",
       "      <td>Octa Core</td>\n",
       "      <td>Snapdragon 8 Gen2</td>\n",
       "      <td>X Fold 3</td>\n",
       "      <td>Dual</td>\n",
       "      <td>1</td>\n",
       "      <td>1</td>\n",
       "      <td>1</td>\n",
       "      <td>12</td>\n",
       "      <td>5500</td>\n",
       "      <td>8.03</td>\n",
       "    </tr>\n",
       "    <tr>\n",
       "      <th>198</th>\n",
       "      <td>Vivo X Fold 4</td>\n",
       "      <td>4.15</td>\n",
       "      <td>86</td>\n",
       "      <td>Dual Sim, 3G, 4G, 5G, VoLTE,</td>\n",
       "      <td>12 GB RAM</td>\n",
       "      <td>5000 mAh Battery</td>\n",
       "      <td>8.2 inches</td>\n",
       "      <td>Foldable Display, Dual Display</td>\n",
       "      <td>200 MP + 12 MP + 12 MP Triple Rear &amp;amp; 32 MP...</td>\n",
       "      <td>15</td>\n",
       "      <td>1,39,990</td>\n",
       "      <td>Vivo</td>\n",
       "      <td>256 GB inbuilt</td>\n",
       "      <td>150W Fast Charging</td>\n",
       "      <td>1916 x 2160 px</td>\n",
       "      <td>Octa Core Processor</td>\n",
       "      <td>Snapdragon 8 Gen3</td>\n",
       "      <td>X Fold 4</td>\n",
       "      <td>Dual</td>\n",
       "      <td>1</td>\n",
       "      <td>1</td>\n",
       "      <td>1</td>\n",
       "      <td>12</td>\n",
       "      <td>5000</td>\n",
       "      <td>8.20</td>\n",
       "    </tr>\n",
       "    <tr>\n",
       "      <th>199</th>\n",
       "      <td>Vivo X Fold 5G (12GB RAM + 512GB)</td>\n",
       "      <td>4.55</td>\n",
       "      <td>93</td>\n",
       "      <td>Dual Sim, 3G, 4G, 5G, VoLTE,</td>\n",
       "      <td>12 GB RAM</td>\n",
       "      <td>4600 mAh Battery</td>\n",
       "      <td>8.03 inches</td>\n",
       "      <td>Foldable Display, Dual Display</td>\n",
       "      <td>50 MP Quad Rear &amp;amp; 16 MP Front Camera</td>\n",
       "      <td>12</td>\n",
       "      <td>1,18,990</td>\n",
       "      <td>Vivo</td>\n",
       "      <td>512 GB inbuilt</td>\n",
       "      <td>66W Fast Charging</td>\n",
       "      <td>1916 x 2160 px</td>\n",
       "      <td>Octa Core</td>\n",
       "      <td>Snapdragon 8 Gen1</td>\n",
       "      <td>X Fold</td>\n",
       "      <td>Dual</td>\n",
       "      <td>1</td>\n",
       "      <td>1</td>\n",
       "      <td>1</td>\n",
       "      <td>12</td>\n",
       "      <td>4600</td>\n",
       "      <td>8.03</td>\n",
       "    </tr>\n",
       "    <tr>\n",
       "      <th>200</th>\n",
       "      <td>Vivo X Fold 3 Pro</td>\n",
       "      <td>4.45</td>\n",
       "      <td>98</td>\n",
       "      <td>Dual Sim, 3G, 4G, 5G, VoLTE,</td>\n",
       "      <td>16 GB RAM</td>\n",
       "      <td>5700 mAh Battery</td>\n",
       "      <td>8.03 inches</td>\n",
       "      <td>Foldable Display, Dual Display</td>\n",
       "      <td>64 MP + 50 MP + 50 MP Triple Rear &amp;amp; 32 MP ...</td>\n",
       "      <td>14</td>\n",
       "      <td>1,15,990</td>\n",
       "      <td>Vivo</td>\n",
       "      <td>512 GB inbuilt</td>\n",
       "      <td>100W Fast Charging</td>\n",
       "      <td>2200 x 2480 px</td>\n",
       "      <td>Octa Core</td>\n",
       "      <td>Snapdragon 8 Gen3</td>\n",
       "      <td>X Fold 3 Pro</td>\n",
       "      <td>Dual</td>\n",
       "      <td>1</td>\n",
       "      <td>1</td>\n",
       "      <td>1</td>\n",
       "      <td>16</td>\n",
       "      <td>5700</td>\n",
       "      <td>8.03</td>\n",
       "    </tr>\n",
       "    <tr>\n",
       "      <th>201</th>\n",
       "      <td>Vivo X Fold Plus</td>\n",
       "      <td>4.20</td>\n",
       "      <td>93</td>\n",
       "      <td>Dual Sim, 3G, 4G, 5G, VoLTE,</td>\n",
       "      <td>12 GB RAM</td>\n",
       "      <td>4730 mAh Battery</td>\n",
       "      <td>8.03 inches</td>\n",
       "      <td>Foldable Display, Dual Display</td>\n",
       "      <td>50 MP Quad Rear &amp;amp; 16 MP + 16 MP Dual Front...</td>\n",
       "      <td>12</td>\n",
       "      <td>1,13,990</td>\n",
       "      <td>Vivo</td>\n",
       "      <td>256 GB inbuilt</td>\n",
       "      <td>80W Fast Charging</td>\n",
       "      <td>1916 x 2160 px</td>\n",
       "      <td>Octa Core</td>\n",
       "      <td>Snapdragon 8+ Gen1</td>\n",
       "      <td>X Fold Plus</td>\n",
       "      <td>Dual</td>\n",
       "      <td>1</td>\n",
       "      <td>1</td>\n",
       "      <td>1</td>\n",
       "      <td>12</td>\n",
       "      <td>4730</td>\n",
       "      <td>8.03</td>\n",
       "    </tr>\n",
       "    <tr>\n",
       "      <th>202</th>\n",
       "      <td>Vivo X Fold S</td>\n",
       "      <td>4.30</td>\n",
       "      <td>90</td>\n",
       "      <td>Dual Sim, 3G, 4G, 5G, VoLTE,</td>\n",
       "      <td>8 GB RAM</td>\n",
       "      <td>4700 mAh Battery</td>\n",
       "      <td>8.02 inches</td>\n",
       "      <td>Foldable Display, Dual Display</td>\n",
       "      <td>48 MP + 48 MP + 10 MP Triple Rear &amp;amp; 16 MP ...</td>\n",
       "      <td>12</td>\n",
       "      <td>1,10,990</td>\n",
       "      <td>Vivo</td>\n",
       "      <td>128 GB inbuilt</td>\n",
       "      <td>80W Fast Charging</td>\n",
       "      <td>1916 x 2160 px</td>\n",
       "      <td>Octa Core</td>\n",
       "      <td>Snapdragon 8+ Gen1</td>\n",
       "      <td>X Fold S</td>\n",
       "      <td>Dual</td>\n",
       "      <td>1</td>\n",
       "      <td>1</td>\n",
       "      <td>1</td>\n",
       "      <td>8</td>\n",
       "      <td>4700</td>\n",
       "      <td>8.02</td>\n",
       "    </tr>\n",
       "    <tr>\n",
       "      <th>204</th>\n",
       "      <td>Vivo X Fold 2</td>\n",
       "      <td>4.25</td>\n",
       "      <td>91</td>\n",
       "      <td>Dual Sim, 3G, 4G, 5G, VoLTE,</td>\n",
       "      <td>12 GB RAM</td>\n",
       "      <td>4800 mAh Battery</td>\n",
       "      <td>8.03 inches</td>\n",
       "      <td>Foldable Display, Dual Display</td>\n",
       "      <td>50 MP + 12 MP + 12 MP Triple Rear &amp;amp; 16 MP ...</td>\n",
       "      <td>13</td>\n",
       "      <td>1,07,990</td>\n",
       "      <td>Vivo</td>\n",
       "      <td>256 GB inbuilt</td>\n",
       "      <td>120W Fast Charging</td>\n",
       "      <td>1916 x 2160 px</td>\n",
       "      <td>Octa Core</td>\n",
       "      <td>Snapdragon 8 Gen2</td>\n",
       "      <td>X Fold 2</td>\n",
       "      <td>Dual</td>\n",
       "      <td>1</td>\n",
       "      <td>1</td>\n",
       "      <td>1</td>\n",
       "      <td>12</td>\n",
       "      <td>4800</td>\n",
       "      <td>8.03</td>\n",
       "    </tr>\n",
       "    <tr>\n",
       "      <th>205</th>\n",
       "      <td>Vivo X Fold 5G</td>\n",
       "      <td>4.40</td>\n",
       "      <td>92</td>\n",
       "      <td>Dual Sim, 3G, 4G, 5G, VoLTE,</td>\n",
       "      <td>12 GB RAM</td>\n",
       "      <td>4600 mAh Battery</td>\n",
       "      <td>8.03 inches</td>\n",
       "      <td>Foldable Display, Dual Display</td>\n",
       "      <td>50 MP Quad Rear &amp;amp; 16 MP Front Camera</td>\n",
       "      <td>12</td>\n",
       "      <td>1,06,990</td>\n",
       "      <td>Vivo</td>\n",
       "      <td>256 GB inbuilt</td>\n",
       "      <td>66W Fast Charging</td>\n",
       "      <td>1916 x 2160 px</td>\n",
       "      <td>Octa Core</td>\n",
       "      <td>Snapdragon 8 Gen1</td>\n",
       "      <td>X Fold</td>\n",
       "      <td>Dual</td>\n",
       "      <td>1</td>\n",
       "      <td>1</td>\n",
       "      <td>1</td>\n",
       "      <td>12</td>\n",
       "      <td>4600</td>\n",
       "      <td>8.03</td>\n",
       "    </tr>\n",
       "    <tr>\n",
       "      <th>648</th>\n",
       "      <td>Google Pixel Notepad</td>\n",
       "      <td>4.45</td>\n",
       "      <td>83</td>\n",
       "      <td>Dual Sim, 3G, 4G, 5G, VoLTE,</td>\n",
       "      <td>12 GB RAM</td>\n",
       "      <td>5003 mAh Battery</td>\n",
       "      <td>8.3 inches</td>\n",
       "      <td>50 MP + 48 MP + 12 MP Triple Rear &amp;amp; 12 MP ...</td>\n",
       "      <td>Android v12</td>\n",
       "      <td>NaN</td>\n",
       "      <td>1,25,990</td>\n",
       "      <td>Google</td>\n",
       "      <td>128 GB inbuilt</td>\n",
       "      <td>30W Fast Charging</td>\n",
       "      <td>1940 x 3120 px</td>\n",
       "      <td>Octa Core Processor</td>\n",
       "      <td>Google Tensor 2</td>\n",
       "      <td>Pixel Notepad</td>\n",
       "      <td>Dual</td>\n",
       "      <td>1</td>\n",
       "      <td>1</td>\n",
       "      <td>1</td>\n",
       "      <td>12</td>\n",
       "      <td>5003</td>\n",
       "      <td>8.30</td>\n",
       "    </tr>\n",
       "    <tr>\n",
       "      <th>650</th>\n",
       "      <td>Google Pixel Fold 2</td>\n",
       "      <td>4.35</td>\n",
       "      <td>84</td>\n",
       "      <td>Dual Sim, 3G, 4G, 5G, VoLTE,</td>\n",
       "      <td>12 GB RAM</td>\n",
       "      <td>5000 mAh Battery</td>\n",
       "      <td>8.02 inches</td>\n",
       "      <td>Foldable Display, Dual Display</td>\n",
       "      <td>50 MP + 10.8 MP + 10.8 MP Triple Rear &amp;amp; 12...</td>\n",
       "      <td>14</td>\n",
       "      <td>1,59,990</td>\n",
       "      <td>Google</td>\n",
       "      <td>256 GB inbuilt</td>\n",
       "      <td>45W Fast Charging</td>\n",
       "      <td>1840 x 2208 px</td>\n",
       "      <td>Deca Core Processor</td>\n",
       "      <td>Google Tensor G4</td>\n",
       "      <td>Pixel Fold 2</td>\n",
       "      <td>Dual</td>\n",
       "      <td>1</td>\n",
       "      <td>1</td>\n",
       "      <td>1</td>\n",
       "      <td>12</td>\n",
       "      <td>5000</td>\n",
       "      <td>8.02</td>\n",
       "    </tr>\n",
       "    <tr>\n",
       "      <th>1369</th>\n",
       "      <td>TCL Trifold</td>\n",
       "      <td>4.65</td>\n",
       "      <td>93</td>\n",
       "      <td>Dual Sim, 3G, 4G, 5G, VoLTE, Vo5G,</td>\n",
       "      <td>12 GB RAM</td>\n",
       "      <td>4600 mAh Battery</td>\n",
       "      <td>10 inches</td>\n",
       "      <td>Foldable Display, Dual Display</td>\n",
       "      <td>50 MP + 48 MP + 8 MP Triple Rear &amp;amp; 32 MP F...</td>\n",
       "      <td>13</td>\n",
       "      <td>1,19,990</td>\n",
       "      <td>TCL</td>\n",
       "      <td>256 GB inbuilt</td>\n",
       "      <td>67W Fast Charging</td>\n",
       "      <td>1916 x 2160 px</td>\n",
       "      <td>Octa Core</td>\n",
       "      <td>Snapdragon 8 Gen2</td>\n",
       "      <td>Trifold</td>\n",
       "      <td>Dual</td>\n",
       "      <td>1</td>\n",
       "      <td>1</td>\n",
       "      <td>1</td>\n",
       "      <td>12</td>\n",
       "      <td>4600</td>\n",
       "      <td>10.00</td>\n",
       "    </tr>\n",
       "  </tbody>\n",
       "</table>\n",
       "</div>"
      ],
      "text/plain": [
       "                                   Name  Rating  Spec_score  \\\n",
       "76        Samsung Galaxy Z Fold 6 Ultra    4.05          96   \n",
       "197                       Vivo X Fold 3    4.00          94   \n",
       "198                       Vivo X Fold 4    4.15          86   \n",
       "199   Vivo X Fold 5G (12GB RAM + 512GB)    4.55          93   \n",
       "200                   Vivo X Fold 3 Pro    4.45          98   \n",
       "201                    Vivo X Fold Plus    4.20          93   \n",
       "202                       Vivo X Fold S    4.30          90   \n",
       "204                       Vivo X Fold 2    4.25          91   \n",
       "205                      Vivo X Fold 5G    4.40          92   \n",
       "648                Google Pixel Notepad    4.45          83   \n",
       "650                 Google Pixel Fold 2    4.35          84   \n",
       "1369                        TCL Trifold    4.65          93   \n",
       "\n",
       "                                No_of_sim        Ram            Battery  \\\n",
       "76    Dual Sim, 3G, 4G, 5G, VoLTE, Vo5G,   12 GB RAM  5000 mAh Battery    \n",
       "197         Dual Sim, 3G, 4G, 5G, VoLTE,   12 GB RAM  5500 mAh Battery    \n",
       "198         Dual Sim, 3G, 4G, 5G, VoLTE,   12 GB RAM  5000 mAh Battery    \n",
       "199         Dual Sim, 3G, 4G, 5G, VoLTE,   12 GB RAM  4600 mAh Battery    \n",
       "200         Dual Sim, 3G, 4G, 5G, VoLTE,   16 GB RAM  5700 mAh Battery    \n",
       "201         Dual Sim, 3G, 4G, 5G, VoLTE,   12 GB RAM  4730 mAh Battery    \n",
       "202         Dual Sim, 3G, 4G, 5G, VoLTE,    8 GB RAM  4700 mAh Battery    \n",
       "204         Dual Sim, 3G, 4G, 5G, VoLTE,   12 GB RAM  4800 mAh Battery    \n",
       "205         Dual Sim, 3G, 4G, 5G, VoLTE,   12 GB RAM  4600 mAh Battery    \n",
       "648         Dual Sim, 3G, 4G, 5G, VoLTE,   12 GB RAM  5003 mAh Battery    \n",
       "650         Dual Sim, 3G, 4G, 5G, VoLTE,   12 GB RAM  5000 mAh Battery    \n",
       "1369  Dual Sim, 3G, 4G, 5G, VoLTE, Vo5G,   12 GB RAM  4600 mAh Battery    \n",
       "\n",
       "          Display                                             Camera  \\\n",
       "76     8.2 inches                     Foldable Display, Dual Display   \n",
       "197   8.03 inches                     Foldable Display, Dual Display   \n",
       "198    8.2 inches                     Foldable Display, Dual Display   \n",
       "199   8.03 inches                     Foldable Display, Dual Display   \n",
       "200   8.03 inches                     Foldable Display, Dual Display   \n",
       "201   8.03 inches                     Foldable Display, Dual Display   \n",
       "202   8.02 inches                     Foldable Display, Dual Display   \n",
       "204   8.03 inches                     Foldable Display, Dual Display   \n",
       "205   8.03 inches                     Foldable Display, Dual Display   \n",
       "648    8.3 inches  50 MP + 48 MP + 12 MP Triple Rear &amp; 12 MP ...   \n",
       "650   8.02 inches                     Foldable Display, Dual Display   \n",
       "1369    10 inches                     Foldable Display, Dual Display   \n",
       "\n",
       "                                        External_Memory Android_version  \\\n",
       "76    200 MP Quad Rear &amp; 12 MP + 12 MP Dual Fron...              14   \n",
       "197   50 MP + 50 MP + 50 MP Triple Rear &amp; 32 MP ...              14   \n",
       "198   200 MP + 12 MP + 12 MP Triple Rear &amp; 32 MP...              15   \n",
       "199            50 MP Quad Rear &amp; 16 MP Front Camera              12   \n",
       "200   64 MP + 50 MP + 50 MP Triple Rear &amp; 32 MP ...              14   \n",
       "201   50 MP Quad Rear &amp; 16 MP + 16 MP Dual Front...              12   \n",
       "202   48 MP + 48 MP + 10 MP Triple Rear &amp; 16 MP ...              12   \n",
       "204   50 MP + 12 MP + 12 MP Triple Rear &amp; 16 MP ...              13   \n",
       "205            50 MP Quad Rear &amp; 16 MP Front Camera              12   \n",
       "648                                         Android v12             NaN   \n",
       "650   50 MP + 10.8 MP + 10.8 MP Triple Rear &amp; 12...              14   \n",
       "1369  50 MP + 48 MP + 8 MP Triple Rear &amp; 32 MP F...              13   \n",
       "\n",
       "         Price  company   Inbuilt_memory        fast_charging  \\\n",
       "76    1,99,990  Samsung   256 GB inbuilt    80W Fast Charging   \n",
       "197     80,990     Vivo   256 GB inbuilt    80W Fast Charging   \n",
       "198   1,39,990     Vivo   256 GB inbuilt   150W Fast Charging   \n",
       "199   1,18,990     Vivo   512 GB inbuilt    66W Fast Charging   \n",
       "200   1,15,990     Vivo   512 GB inbuilt   100W Fast Charging   \n",
       "201   1,13,990     Vivo   256 GB inbuilt    80W Fast Charging   \n",
       "202   1,10,990     Vivo   128 GB inbuilt    80W Fast Charging   \n",
       "204   1,07,990     Vivo   256 GB inbuilt   120W Fast Charging   \n",
       "205   1,06,990     Vivo   256 GB inbuilt    66W Fast Charging   \n",
       "648   1,25,990   Google   128 GB inbuilt    30W Fast Charging   \n",
       "650   1,59,990   Google   256 GB inbuilt    45W Fast Charging   \n",
       "1369  1,19,990      TCL   256 GB inbuilt    67W Fast Charging   \n",
       "\n",
       "     Screen_resolution             Processor      Processor_name  \\\n",
       "76      1812 x 2176 px             Octa Core   Snapdragon 8 Gen3   \n",
       "197     2200 x 2480 px             Octa Core   Snapdragon 8 Gen2   \n",
       "198     1916 x 2160 px   Octa Core Processor   Snapdragon 8 Gen3   \n",
       "199     1916 x 2160 px             Octa Core   Snapdragon 8 Gen1   \n",
       "200     2200 x 2480 px             Octa Core   Snapdragon 8 Gen3   \n",
       "201     1916 x 2160 px             Octa Core  Snapdragon 8+ Gen1   \n",
       "202     1916 x 2160 px             Octa Core  Snapdragon 8+ Gen1   \n",
       "204     1916 x 2160 px             Octa Core   Snapdragon 8 Gen2   \n",
       "205     1916 x 2160 px             Octa Core   Snapdragon 8 Gen1   \n",
       "648     1940 x 3120 px   Octa Core Processor     Google Tensor 2   \n",
       "650     1840 x 2208 px   Deca Core Processor    Google Tensor G4   \n",
       "1369    1916 x 2160 px             Octa Core   Snapdragon 8 Gen2   \n",
       "\n",
       "                      Model sim_slot  network_3g  network_4g  network_5g  \\\n",
       "76    Galaxy Z Fold 6 Ultra     Dual           1           1           1   \n",
       "197                X Fold 3     Dual           1           1           1   \n",
       "198                X Fold 4     Dual           1           1           1   \n",
       "199                  X Fold     Dual           1           1           1   \n",
       "200            X Fold 3 Pro     Dual           1           1           1   \n",
       "201             X Fold Plus     Dual           1           1           1   \n",
       "202                X Fold S     Dual           1           1           1   \n",
       "204                X Fold 2     Dual           1           1           1   \n",
       "205                  X Fold     Dual           1           1           1   \n",
       "648           Pixel Notepad     Dual           1           1           1   \n",
       "650            Pixel Fold 2     Dual           1           1           1   \n",
       "1369                Trifold     Dual           1           1           1   \n",
       "\n",
       "      cleaned_RAM  Battery_mAh  Display_inches  \n",
       "76             12         5000            8.20  \n",
       "197            12         5500            8.03  \n",
       "198            12         5000            8.20  \n",
       "199            12         4600            8.03  \n",
       "200            16         5700            8.03  \n",
       "201            12         4730            8.03  \n",
       "202             8         4700            8.02  \n",
       "204            12         4800            8.03  \n",
       "205            12         4600            8.03  \n",
       "648            12         5003            8.30  \n",
       "650            12         5000            8.02  \n",
       "1369           12         4600           10.00  "
      ]
     },
     "execution_count": 72,
     "metadata": {},
     "output_type": "execute_result"
    }
   ],
   "source": [
    "df1[df1['Display_inches'] > 8]"
   ]
  },
  {
   "cell_type": "markdown",
   "metadata": {},
   "source": [
    "## Camera\n",
    "#### changes\n",
    "- we ramoved wrong values to the correct values which are located in different columns\n",
    "- create 2 new features for front and rear cameras and add values accordingly\n",
    "- in some cases we have to values manually \n",
    "#### observations\n",
    "- most of the phone has 50mp in rear and 16mp in front\n",
    "#### aproch\n",
    "- removed wrong values , add correct values from different columns,create new columns for preventing messy data\n"
   ]
  },
  {
   "cell_type": "code",
   "execution_count": 73,
   "metadata": {},
   "outputs": [],
   "source": [
    "df1.loc[df1['Camera'].str.contains('Foldable Display, Dual Display', na=False), 'Camera'] = df1['External_Memory']\n",
    "df1.loc[df1['Camera'].str.contains('Dual Display', na=False), 'Camera'] = df1['External_Memory']\n",
    "df1.loc[df1['Camera'].str.contains('Foldable Display', na=False), 'Camera'] = df1['External_Memory']\n"
   ]
  },
  {
   "cell_type": "code",
   "execution_count": 74,
   "metadata": {},
   "outputs": [
    {
     "data": {
      "text/html": [
       "<div>\n",
       "<style scoped>\n",
       "    .dataframe tbody tr th:only-of-type {\n",
       "        vertical-align: middle;\n",
       "    }\n",
       "\n",
       "    .dataframe tbody tr th {\n",
       "        vertical-align: top;\n",
       "    }\n",
       "\n",
       "    .dataframe thead th {\n",
       "        text-align: right;\n",
       "    }\n",
       "</style>\n",
       "<table border=\"1\" class=\"dataframe\">\n",
       "  <thead>\n",
       "    <tr style=\"text-align: right;\">\n",
       "      <th></th>\n",
       "      <th>Name</th>\n",
       "      <th>Rating</th>\n",
       "      <th>Spec_score</th>\n",
       "      <th>No_of_sim</th>\n",
       "      <th>Ram</th>\n",
       "      <th>Battery</th>\n",
       "      <th>Display</th>\n",
       "      <th>Camera</th>\n",
       "      <th>External_Memory</th>\n",
       "      <th>Android_version</th>\n",
       "      <th>Price</th>\n",
       "      <th>company</th>\n",
       "      <th>Inbuilt_memory</th>\n",
       "      <th>fast_charging</th>\n",
       "      <th>Screen_resolution</th>\n",
       "      <th>Processor</th>\n",
       "      <th>Processor_name</th>\n",
       "      <th>Model</th>\n",
       "      <th>sim_slot</th>\n",
       "      <th>network_3g</th>\n",
       "      <th>network_4g</th>\n",
       "      <th>network_5g</th>\n",
       "      <th>cleaned_RAM</th>\n",
       "      <th>Battery_mAh</th>\n",
       "      <th>Display_inches</th>\n",
       "    </tr>\n",
       "  </thead>\n",
       "  <tbody>\n",
       "    <tr>\n",
       "      <th>264</th>\n",
       "      <td>Realme 6i (6GB RAM + 64GB)</td>\n",
       "      <td>3.85</td>\n",
       "      <td>76</td>\n",
       "      <td>Dual Sim, 3G, 4G, VoLTE,</td>\n",
       "      <td>Helio G90T</td>\n",
       "      <td>6 GB RAM, 64 GB inbuilt</td>\n",
       "      <td>4300 mAh Battery with 30W Fast Charging</td>\n",
       "      <td>6.5 inches, 1080 x 2400 px, 90 Hz Display with...</td>\n",
       "      <td>48 MP Quad Rear &amp;amp; 16 MP Front Camera</td>\n",
       "      <td>NaN</td>\n",
       "      <td>14,999</td>\n",
       "      <td>Realme</td>\n",
       "      <td>Octa Core</td>\n",
       "      <td>NaN</td>\n",
       "      <td>NaN</td>\n",
       "      <td>NaN</td>\n",
       "      <td>No Wifi</td>\n",
       "      <td>6i</td>\n",
       "      <td>Dual</td>\n",
       "      <td>1</td>\n",
       "      <td>1</td>\n",
       "      <td>0</td>\n",
       "      <td>6</td>\n",
       "      <td>4300</td>\n",
       "      <td>6.50</td>\n",
       "    </tr>\n",
       "    <tr>\n",
       "      <th>265</th>\n",
       "      <td>Realme Narzo 80x 5G</td>\n",
       "      <td>4.35</td>\n",
       "      <td>71</td>\n",
       "      <td>Dual Sim, 3G, 4G, 5G, VoLTE,</td>\n",
       "      <td>6 GB RAM</td>\n",
       "      <td>5000 mAh Battery</td>\n",
       "      <td>6.72 inches</td>\n",
       "      <td>50 MP + 8 MP + 2 MP Triple Rear &amp;amp; 16 MP Fr...</td>\n",
       "      <td>Memory Card (Hybrid), upto 2 TB</td>\n",
       "      <td>15</td>\n",
       "      <td>14,990</td>\n",
       "      <td>Realme</td>\n",
       "      <td>128 GB inbuilt</td>\n",
       "      <td>65W Fast Charging</td>\n",
       "      <td>1080 x 2400 px</td>\n",
       "      <td>Octa Core Processor</td>\n",
       "      <td>Dimensity 7025</td>\n",
       "      <td>Narzo 80x</td>\n",
       "      <td>Dual</td>\n",
       "      <td>1</td>\n",
       "      <td>1</td>\n",
       "      <td>1</td>\n",
       "      <td>6</td>\n",
       "      <td>5000</td>\n",
       "      <td>6.72</td>\n",
       "    </tr>\n",
       "  </tbody>\n",
       "</table>\n",
       "</div>"
      ],
      "text/plain": [
       "                           Name  Rating  Spec_score  \\\n",
       "264  Realme 6i (6GB RAM + 64GB)    3.85          76   \n",
       "265         Realme Narzo 80x 5G    4.35          71   \n",
       "\n",
       "                         No_of_sim         Ram                  Battery  \\\n",
       "264      Dual Sim, 3G, 4G, VoLTE,   Helio G90T  6 GB RAM, 64 GB inbuilt   \n",
       "265  Dual Sim, 3G, 4G, 5G, VoLTE,     6 GB RAM        5000 mAh Battery    \n",
       "\n",
       "                                     Display  \\\n",
       "264  4300 mAh Battery with 30W Fast Charging   \n",
       "265                              6.72 inches   \n",
       "\n",
       "                                                Camera  \\\n",
       "264  6.5 inches, 1080 x 2400 px, 90 Hz Display with...   \n",
       "265  50 MP + 8 MP + 2 MP Triple Rear &amp; 16 MP Fr...   \n",
       "\n",
       "                              External_Memory Android_version   Price company  \\\n",
       "264  48 MP Quad Rear &amp; 16 MP Front Camera             NaN  14,999  Realme   \n",
       "265           Memory Card (Hybrid), upto 2 TB              15  14,990  Realme   \n",
       "\n",
       "      Inbuilt_memory       fast_charging Screen_resolution  \\\n",
       "264        Octa Core                 NaN               NaN   \n",
       "265   128 GB inbuilt   65W Fast Charging    1080 x 2400 px   \n",
       "\n",
       "                Processor  Processor_name      Model sim_slot  network_3g  \\\n",
       "264                   NaN         No Wifi         6i     Dual           1   \n",
       "265   Octa Core Processor  Dimensity 7025  Narzo 80x     Dual           1   \n",
       "\n",
       "     network_4g  network_5g  cleaned_RAM  Battery_mAh  Display_inches  \n",
       "264           1           0            6         4300            6.50  \n",
       "265           1           1            6         5000            6.72  "
      ]
     },
     "execution_count": 74,
     "metadata": {},
     "output_type": "execute_result"
    }
   ],
   "source": [
    "df1.iloc[264:266:]"
   ]
  },
  {
   "cell_type": "code",
   "execution_count": 75,
   "metadata": {},
   "outputs": [],
   "source": [
    "df1['rear_camera'] = df1['Camera'].str.split(';').str.get(0)\n",
    "df1['front_camera'] = df1['Camera'].str.split(';').str.get(1)\n",
    "\n",
    "df1['rear_camera'] = df1['rear_camera'].str.split(' ').str.get(0)\n",
    "df1['front_camera'] = df1['front_camera'].str.split(' ').str.get(1)\n"
   ]
  },
  {
   "cell_type": "code",
   "execution_count": 76,
   "metadata": {},
   "outputs": [
    {
     "data": {
      "text/html": [
       "<div>\n",
       "<style scoped>\n",
       "    .dataframe tbody tr th:only-of-type {\n",
       "        vertical-align: middle;\n",
       "    }\n",
       "\n",
       "    .dataframe tbody tr th {\n",
       "        vertical-align: top;\n",
       "    }\n",
       "\n",
       "    .dataframe thead th {\n",
       "        text-align: right;\n",
       "    }\n",
       "</style>\n",
       "<table border=\"1\" class=\"dataframe\">\n",
       "  <thead>\n",
       "    <tr style=\"text-align: right;\">\n",
       "      <th></th>\n",
       "      <th>Name</th>\n",
       "      <th>Rating</th>\n",
       "      <th>Spec_score</th>\n",
       "      <th>No_of_sim</th>\n",
       "      <th>Ram</th>\n",
       "      <th>Battery</th>\n",
       "      <th>Display</th>\n",
       "      <th>Camera</th>\n",
       "      <th>External_Memory</th>\n",
       "      <th>Android_version</th>\n",
       "      <th>Price</th>\n",
       "      <th>company</th>\n",
       "      <th>Inbuilt_memory</th>\n",
       "      <th>fast_charging</th>\n",
       "      <th>Screen_resolution</th>\n",
       "      <th>Processor</th>\n",
       "      <th>Processor_name</th>\n",
       "      <th>Model</th>\n",
       "      <th>sim_slot</th>\n",
       "      <th>network_3g</th>\n",
       "      <th>network_4g</th>\n",
       "      <th>network_5g</th>\n",
       "      <th>cleaned_RAM</th>\n",
       "      <th>Battery_mAh</th>\n",
       "      <th>Display_inches</th>\n",
       "      <th>rear_camera</th>\n",
       "      <th>front_camera</th>\n",
       "    </tr>\n",
       "  </thead>\n",
       "  <tbody>\n",
       "    <tr>\n",
       "      <th>995</th>\n",
       "      <td>Motorola Moto G Stylus 5G</td>\n",
       "      <td>4.55</td>\n",
       "      <td>81</td>\n",
       "      <td>Single Sim, 3G, 4G, 5G, VoLTE,</td>\n",
       "      <td>6 GB RAM</td>\n",
       "      <td>5000 mAh Battery</td>\n",
       "      <td>6.8 inches</td>\n",
       "      <td>48 MP Quad Rear &amp;amp; 16 MP Front Camera</td>\n",
       "      <td>Memory Card Supported, upto 1 TB</td>\n",
       "      <td>11</td>\n",
       "      <td>28,990</td>\n",
       "      <td>Motorola</td>\n",
       "      <td>256 GB inbuilt</td>\n",
       "      <td>NaN</td>\n",
       "      <td>1080 x 2400 px Display with Punch Hole</td>\n",
       "      <td>Octa Core</td>\n",
       "      <td>Snapdragon 480</td>\n",
       "      <td>Moto G Stylus</td>\n",
       "      <td>Single</td>\n",
       "      <td>1</td>\n",
       "      <td>1</td>\n",
       "      <td>1</td>\n",
       "      <td>6</td>\n",
       "      <td>5000</td>\n",
       "      <td>6.8</td>\n",
       "      <td>48</td>\n",
       "      <td>16</td>\n",
       "    </tr>\n",
       "  </tbody>\n",
       "</table>\n",
       "</div>"
      ],
      "text/plain": [
       "                          Name  Rating  Spec_score  \\\n",
       "995  Motorola Moto G Stylus 5G    4.55          81   \n",
       "\n",
       "                           No_of_sim       Ram           Battery     Display  \\\n",
       "995  Single Sim, 3G, 4G, 5G, VoLTE,   6 GB RAM  5000 mAh Battery  6.8 inches   \n",
       "\n",
       "                                       Camera  \\\n",
       "995  48 MP Quad Rear &amp; 16 MP Front Camera   \n",
       "\n",
       "                      External_Memory Android_version   Price   company  \\\n",
       "995  Memory Card Supported, upto 1 TB              11  28,990  Motorola   \n",
       "\n",
       "      Inbuilt_memory fast_charging                        Screen_resolution  \\\n",
       "995   256 GB inbuilt           NaN   1080 x 2400 px Display with Punch Hole   \n",
       "\n",
       "      Processor  Processor_name          Model sim_slot  network_3g  \\\n",
       "995   Octa Core  Snapdragon 480  Moto G Stylus   Single           1   \n",
       "\n",
       "     network_4g  network_5g  cleaned_RAM  Battery_mAh  Display_inches  \\\n",
       "995           1           1            6         5000             6.8   \n",
       "\n",
       "    rear_camera front_camera  \n",
       "995          48           16  "
      ]
     },
     "execution_count": 76,
     "metadata": {},
     "output_type": "execute_result"
    }
   ],
   "source": [
    "df1.sample()"
   ]
  },
  {
   "cell_type": "code",
   "execution_count": 77,
   "metadata": {},
   "outputs": [
    {
     "data": {
      "text/html": [
       "<div>\n",
       "<style scoped>\n",
       "    .dataframe tbody tr th:only-of-type {\n",
       "        vertical-align: middle;\n",
       "    }\n",
       "\n",
       "    .dataframe tbody tr th {\n",
       "        vertical-align: top;\n",
       "    }\n",
       "\n",
       "    .dataframe thead th {\n",
       "        text-align: right;\n",
       "    }\n",
       "</style>\n",
       "<table border=\"1\" class=\"dataframe\">\n",
       "  <thead>\n",
       "    <tr style=\"text-align: right;\">\n",
       "      <th></th>\n",
       "      <th>Name</th>\n",
       "      <th>Rating</th>\n",
       "      <th>Spec_score</th>\n",
       "      <th>No_of_sim</th>\n",
       "      <th>Ram</th>\n",
       "      <th>Battery</th>\n",
       "      <th>Display</th>\n",
       "      <th>Camera</th>\n",
       "      <th>External_Memory</th>\n",
       "      <th>Android_version</th>\n",
       "      <th>Price</th>\n",
       "      <th>company</th>\n",
       "      <th>Inbuilt_memory</th>\n",
       "      <th>fast_charging</th>\n",
       "      <th>Screen_resolution</th>\n",
       "      <th>Processor</th>\n",
       "      <th>Processor_name</th>\n",
       "      <th>Model</th>\n",
       "      <th>sim_slot</th>\n",
       "      <th>network_3g</th>\n",
       "      <th>network_4g</th>\n",
       "      <th>network_5g</th>\n",
       "      <th>cleaned_RAM</th>\n",
       "      <th>Battery_mAh</th>\n",
       "      <th>Display_inches</th>\n",
       "      <th>rear_camera</th>\n",
       "      <th>front_camera</th>\n",
       "    </tr>\n",
       "  </thead>\n",
       "  <tbody>\n",
       "    <tr>\n",
       "      <th>251</th>\n",
       "      <td>Realme C67 4G</td>\n",
       "      <td>4.40</td>\n",
       "      <td>80</td>\n",
       "      <td>Dual Sim, 3G, 4G, VoLTE,</td>\n",
       "      <td>8 GB RAM</td>\n",
       "      <td>5000 mAh Battery</td>\n",
       "      <td>6.72 inches</td>\n",
       "      <td>108 MP + 2 MP Dual Rear Camera</td>\n",
       "      <td>Memory Card Supported, upto 1 TB</td>\n",
       "      <td>14</td>\n",
       "      <td>11,990</td>\n",
       "      <td>Realme</td>\n",
       "      <td>128 GB inbuilt</td>\n",
       "      <td>33W Fast Charging</td>\n",
       "      <td>1080 x 2400 px</td>\n",
       "      <td>Octa Core</td>\n",
       "      <td>Snapdragon 685</td>\n",
       "      <td>C67</td>\n",
       "      <td>Dual</td>\n",
       "      <td>1</td>\n",
       "      <td>1</td>\n",
       "      <td>0</td>\n",
       "      <td>8</td>\n",
       "      <td>5000</td>\n",
       "      <td>6.72</td>\n",
       "      <td>108</td>\n",
       "      <td>NaN</td>\n",
       "    </tr>\n",
       "    <tr>\n",
       "      <th>264</th>\n",
       "      <td>Realme 6i (6GB RAM + 64GB)</td>\n",
       "      <td>3.85</td>\n",
       "      <td>76</td>\n",
       "      <td>Dual Sim, 3G, 4G, VoLTE,</td>\n",
       "      <td>Helio G90T</td>\n",
       "      <td>6 GB RAM, 64 GB inbuilt</td>\n",
       "      <td>4300 mAh Battery with 30W Fast Charging</td>\n",
       "      <td>6.5 inches, 1080 x 2400 px, 90 Hz Display with...</td>\n",
       "      <td>48 MP Quad Rear &amp;amp; 16 MP Front Camera</td>\n",
       "      <td>NaN</td>\n",
       "      <td>14,999</td>\n",
       "      <td>Realme</td>\n",
       "      <td>Octa Core</td>\n",
       "      <td>NaN</td>\n",
       "      <td>NaN</td>\n",
       "      <td>NaN</td>\n",
       "      <td>No Wifi</td>\n",
       "      <td>6i</td>\n",
       "      <td>Dual</td>\n",
       "      <td>1</td>\n",
       "      <td>1</td>\n",
       "      <td>0</td>\n",
       "      <td>6</td>\n",
       "      <td>4300</td>\n",
       "      <td>6.50</td>\n",
       "      <td>6.5</td>\n",
       "      <td>NaN</td>\n",
       "    </tr>\n",
       "    <tr>\n",
       "      <th>1142</th>\n",
       "      <td>Xiaomi Qin 2 Pro</td>\n",
       "      <td>4.00</td>\n",
       "      <td>46</td>\n",
       "      <td>Dual Sim, 3G, VoLTE,</td>\n",
       "      <td>2 GB RAM</td>\n",
       "      <td>2100 mAh Battery</td>\n",
       "      <td>5 inches</td>\n",
       "      <td>13 MP Rear Camera</td>\n",
       "      <td>No FM Radio</td>\n",
       "      <td>NaN</td>\n",
       "      <td>9,990</td>\n",
       "      <td>Xiaomi</td>\n",
       "      <td>64 GB inbuilt</td>\n",
       "      <td>NaN</td>\n",
       "      <td>576 x 1440 px Display</td>\n",
       "      <td>Quad Core</td>\n",
       "      <td>Unisoc SC9832E</td>\n",
       "      <td>Qin 2 Pro</td>\n",
       "      <td>Dual</td>\n",
       "      <td>1</td>\n",
       "      <td>0</td>\n",
       "      <td>0</td>\n",
       "      <td>2</td>\n",
       "      <td>2100</td>\n",
       "      <td>5.00</td>\n",
       "      <td>13</td>\n",
       "      <td>NaN</td>\n",
       "    </tr>\n",
       "    <tr>\n",
       "      <th>1246</th>\n",
       "      <td>Huawei Nova Y70 Plus</td>\n",
       "      <td>4.55</td>\n",
       "      <td>66</td>\n",
       "      <td>Dual Sim, 3G, 4G, VoLTE,</td>\n",
       "      <td>6000 mAh Battery with 22.5W Fast Charging</td>\n",
       "      <td>6.75 inches, 720 x 1600 px Display</td>\n",
       "      <td>48 MP + 5 MP + 2 MP Triple Rear &amp;amp; 8 MP Fro...</td>\n",
       "      <td>Memory Card (Hybrid)</td>\n",
       "      <td>Android</td>\n",
       "      <td>NaN</td>\n",
       "      <td>24,999</td>\n",
       "      <td>Huawei</td>\n",
       "      <td>6000</td>\n",
       "      <td>Water Drop Notch</td>\n",
       "      <td>NaN</td>\n",
       "      <td>128 GB inbuilt</td>\n",
       "      <td>4 GB RAM</td>\n",
       "      <td>Nova Y70 Plus</td>\n",
       "      <td>Dual</td>\n",
       "      <td>1</td>\n",
       "      <td>1</td>\n",
       "      <td>0</td>\n",
       "      <td>8</td>\n",
       "      <td>6000</td>\n",
       "      <td>6.75</td>\n",
       "      <td>Memory</td>\n",
       "      <td>NaN</td>\n",
       "    </tr>\n",
       "  </tbody>\n",
       "</table>\n",
       "</div>"
      ],
      "text/plain": [
       "                            Name  Rating  Spec_score  \\\n",
       "251                Realme C67 4G    4.40          80   \n",
       "264   Realme 6i (6GB RAM + 64GB)    3.85          76   \n",
       "1142            Xiaomi Qin 2 Pro    4.00          46   \n",
       "1246        Huawei Nova Y70 Plus    4.55          66   \n",
       "\n",
       "                      No_of_sim                                        Ram  \\\n",
       "251   Dual Sim, 3G, 4G, VoLTE,                                    8 GB RAM   \n",
       "264   Dual Sim, 3G, 4G, VoLTE,                                  Helio G90T   \n",
       "1142      Dual Sim, 3G, VoLTE,                                    2 GB RAM   \n",
       "1246  Dual Sim, 3G, 4G, VoLTE,   6000 mAh Battery with 22.5W Fast Charging   \n",
       "\n",
       "                                  Battery  \\\n",
       "251                     5000 mAh Battery    \n",
       "264               6 GB RAM, 64 GB inbuilt   \n",
       "1142                     2100 mAh Battery   \n",
       "1246  6.75 inches, 720 x 1600 px Display    \n",
       "\n",
       "                                                Display  \\\n",
       "251                                         6.72 inches   \n",
       "264             4300 mAh Battery with 30W Fast Charging   \n",
       "1142                                           5 inches   \n",
       "1246  48 MP + 5 MP + 2 MP Triple Rear &amp; 8 MP Fro...   \n",
       "\n",
       "                                                 Camera  \\\n",
       "251                      108 MP + 2 MP Dual Rear Camera   \n",
       "264   6.5 inches, 1080 x 2400 px, 90 Hz Display with...   \n",
       "1142                                  13 MP Rear Camera   \n",
       "1246                               Memory Card (Hybrid)   \n",
       "\n",
       "                               External_Memory Android_version   Price  \\\n",
       "251           Memory Card Supported, upto 1 TB              14  11,990   \n",
       "264   48 MP Quad Rear &amp; 16 MP Front Camera             NaN  14,999   \n",
       "1142                               No FM Radio             NaN   9,990   \n",
       "1246                                   Android             NaN  24,999   \n",
       "\n",
       "     company   Inbuilt_memory       fast_charging       Screen_resolution  \\\n",
       "251   Realme   128 GB inbuilt   33W Fast Charging          1080 x 2400 px   \n",
       "264   Realme        Octa Core                 NaN                     NaN   \n",
       "1142  Xiaomi    64 GB inbuilt                 NaN   576 x 1440 px Display   \n",
       "1246  Huawei             6000    Water Drop Notch                     NaN   \n",
       "\n",
       "            Processor  Processor_name          Model sim_slot  network_3g  \\\n",
       "251         Octa Core  Snapdragon 685            C67     Dual           1   \n",
       "264               NaN         No Wifi             6i     Dual           1   \n",
       "1142        Quad Core  Unisoc SC9832E      Qin 2 Pro     Dual           1   \n",
       "1246   128 GB inbuilt        4 GB RAM  Nova Y70 Plus     Dual           1   \n",
       "\n",
       "      network_4g  network_5g  cleaned_RAM  Battery_mAh  Display_inches  \\\n",
       "251            1           0            8         5000            6.72   \n",
       "264            1           0            6         4300            6.50   \n",
       "1142           0           0            2         2100            5.00   \n",
       "1246           1           0            8         6000            6.75   \n",
       "\n",
       "     rear_camera front_camera  \n",
       "251          108          NaN  \n",
       "264          6.5          NaN  \n",
       "1142          13          NaN  \n",
       "1246      Memory          NaN  "
      ]
     },
     "execution_count": 77,
     "metadata": {},
     "output_type": "execute_result"
    }
   ],
   "source": [
    "df1[df1['front_camera'].isnull()]"
   ]
  },
  {
   "cell_type": "code",
   "execution_count": 78,
   "metadata": {},
   "outputs": [],
   "source": [
    "df1.at[251, 'front_camera'] = 8\n",
    "df1.at[264, 'front_camera'] = 16\n",
    "df1.at[1142, 'front_camera'] = 0\n",
    "df1.at[1246, 'front_camera'] = 8\n",
    "\n",
    "df1.at[264, 'rear_camera'] = 48\n",
    "df1.at[1142, 'rear_camera'] = 0\n",
    "df1.at[1246, 'rear_camera'] = 48"
   ]
  },
  {
   "cell_type": "code",
   "execution_count": 79,
   "metadata": {},
   "outputs": [
    {
     "data": {
      "text/html": [
       "<div>\n",
       "<style scoped>\n",
       "    .dataframe tbody tr th:only-of-type {\n",
       "        vertical-align: middle;\n",
       "    }\n",
       "\n",
       "    .dataframe tbody tr th {\n",
       "        vertical-align: top;\n",
       "    }\n",
       "\n",
       "    .dataframe thead th {\n",
       "        text-align: right;\n",
       "    }\n",
       "</style>\n",
       "<table border=\"1\" class=\"dataframe\">\n",
       "  <thead>\n",
       "    <tr style=\"text-align: right;\">\n",
       "      <th></th>\n",
       "      <th>Name</th>\n",
       "      <th>Rating</th>\n",
       "      <th>Spec_score</th>\n",
       "      <th>No_of_sim</th>\n",
       "      <th>Ram</th>\n",
       "      <th>Battery</th>\n",
       "      <th>Display</th>\n",
       "      <th>Camera</th>\n",
       "      <th>External_Memory</th>\n",
       "      <th>Android_version</th>\n",
       "      <th>Price</th>\n",
       "      <th>company</th>\n",
       "      <th>Inbuilt_memory</th>\n",
       "      <th>fast_charging</th>\n",
       "      <th>Screen_resolution</th>\n",
       "      <th>Processor</th>\n",
       "      <th>Processor_name</th>\n",
       "      <th>Model</th>\n",
       "      <th>sim_slot</th>\n",
       "      <th>network_3g</th>\n",
       "      <th>network_4g</th>\n",
       "      <th>network_5g</th>\n",
       "      <th>cleaned_RAM</th>\n",
       "      <th>Battery_mAh</th>\n",
       "      <th>Display_inches</th>\n",
       "      <th>rear_camera</th>\n",
       "      <th>front_camera</th>\n",
       "    </tr>\n",
       "  </thead>\n",
       "  <tbody>\n",
       "  </tbody>\n",
       "</table>\n",
       "</div>"
      ],
      "text/plain": [
       "Empty DataFrame\n",
       "Columns: [Name, Rating, Spec_score, No_of_sim, Ram, Battery, Display, Camera, External_Memory, Android_version, Price, company, Inbuilt_memory, fast_charging, Screen_resolution, Processor, Processor_name, Model, sim_slot, network_3g, network_4g, network_5g, cleaned_RAM, Battery_mAh, Display_inches, rear_camera, front_camera]\n",
       "Index: []"
      ]
     },
     "execution_count": 79,
     "metadata": {},
     "output_type": "execute_result"
    }
   ],
   "source": [
    "df1[df1['front_camera'].isnull()]\n"
   ]
  },
  {
   "cell_type": "code",
   "execution_count": 80,
   "metadata": {},
   "outputs": [
    {
     "data": {
      "text/plain": [
       "<Axes: xlabel='front_camera'>"
      ]
     },
     "execution_count": 80,
     "metadata": {},
     "output_type": "execute_result"
    },
    {
     "data": {
      "image/png": "[encoded data removed]",
      "text/plain": [
       "<Figure size 640x480 with 1 Axes>"
      ]
     },
     "metadata": {},
     "output_type": "display_data"
    }
   ],
   "source": [
    "df1['front_camera'].value_counts().plot(kind='bar')\n"
   ]
  },
  {
   "cell_type": "code",
   "execution_count": 81,
   "metadata": {},
   "outputs": [
    {
     "data": {
      "text/plain": [
       "<Axes: xlabel='rear_camera'>"
      ]
     },
     "execution_count": 81,
     "metadata": {},
     "output_type": "execute_result"
    },
    {
     "data": {
      "image/png": "[encoded data removed]",
      "text/plain": [
       "<Figure size 640x480 with 1 Axes>"
      ]
     },
     "metadata": {},
     "output_type": "display_data"
    }
   ],
   "source": [
    "df1['rear_camera'].value_counts().plot(kind='bar')"
   ]
  },
  {
   "cell_type": "markdown",
   "metadata": {},
   "source": [
    "## External_Memory\n",
    "#### changes\n",
    "- removed unnecessary string and wrong values\n",
    "- filled 0 and null values with 128\n",
    "#### observations\n",
    "- only one phone has 32gb external memory other are between 2tb to 126gb"
   ]
  },
  {
   "cell_type": "code",
   "execution_count": 82,
   "metadata": {},
   "outputs": [],
   "source": [
    "def clean_external_memory(column):\n",
    "    if 'Memory Card' in column:\n",
    "        return column\n",
    "    else:\n",
    "        return None"
   ]
  },
  {
   "cell_type": "code",
   "execution_count": 83,
   "metadata": {},
   "outputs": [],
   "source": [
    "df1['cleaned_External_Memory'] = df1['External_Memory'].apply(clean_external_memory)"
   ]
  },
  {
   "cell_type": "code",
   "execution_count": 84,
   "metadata": {},
   "outputs": [
    {
     "data": {
      "text/html": [
       "<div>\n",
       "<style scoped>\n",
       "    .dataframe tbody tr th:only-of-type {\n",
       "        vertical-align: middle;\n",
       "    }\n",
       "\n",
       "    .dataframe tbody tr th {\n",
       "        vertical-align: top;\n",
       "    }\n",
       "\n",
       "    .dataframe thead th {\n",
       "        text-align: right;\n",
       "    }\n",
       "</style>\n",
       "<table border=\"1\" class=\"dataframe\">\n",
       "  <thead>\n",
       "    <tr style=\"text-align: right;\">\n",
       "      <th></th>\n",
       "      <th>Name</th>\n",
       "      <th>Rating</th>\n",
       "      <th>Spec_score</th>\n",
       "      <th>No_of_sim</th>\n",
       "      <th>Ram</th>\n",
       "      <th>Battery</th>\n",
       "      <th>Display</th>\n",
       "      <th>Camera</th>\n",
       "      <th>External_Memory</th>\n",
       "      <th>Android_version</th>\n",
       "      <th>Price</th>\n",
       "      <th>company</th>\n",
       "      <th>Inbuilt_memory</th>\n",
       "      <th>fast_charging</th>\n",
       "      <th>Screen_resolution</th>\n",
       "      <th>Processor</th>\n",
       "      <th>Processor_name</th>\n",
       "      <th>Model</th>\n",
       "      <th>sim_slot</th>\n",
       "      <th>network_3g</th>\n",
       "      <th>network_4g</th>\n",
       "      <th>network_5g</th>\n",
       "      <th>cleaned_RAM</th>\n",
       "      <th>Battery_mAh</th>\n",
       "      <th>Display_inches</th>\n",
       "      <th>rear_camera</th>\n",
       "      <th>front_camera</th>\n",
       "      <th>cleaned_External_Memory</th>\n",
       "    </tr>\n",
       "  </thead>\n",
       "  <tbody>\n",
       "    <tr>\n",
       "      <th>0</th>\n",
       "      <td>Samsung Galaxy F14 5G</td>\n",
       "      <td>4.65</td>\n",
       "      <td>68</td>\n",
       "      <td>Dual Sim, 3G, 4G, 5G, VoLTE,</td>\n",
       "      <td>4 GB RAM</td>\n",
       "      <td>6000 mAh Battery</td>\n",
       "      <td>6.6 inches</td>\n",
       "      <td>50 MP + 2 MP Dual Rear &amp;amp; 13 MP Front Camera</td>\n",
       "      <td>Memory Card Supported, upto 1 TB</td>\n",
       "      <td>13</td>\n",
       "      <td>9,999</td>\n",
       "      <td>Samsung</td>\n",
       "      <td>128 GB inbuilt</td>\n",
       "      <td>25W Fast Charging</td>\n",
       "      <td>2408 x 1080 px Display with Water Drop Notch</td>\n",
       "      <td>Octa Core Processor</td>\n",
       "      <td>Exynos 1330</td>\n",
       "      <td>Galaxy F14</td>\n",
       "      <td>Dual</td>\n",
       "      <td>1</td>\n",
       "      <td>1</td>\n",
       "      <td>1</td>\n",
       "      <td>4</td>\n",
       "      <td>6000</td>\n",
       "      <td>6.6</td>\n",
       "      <td>50</td>\n",
       "      <td>13</td>\n",
       "      <td>Memory Card Supported, upto 1 TB</td>\n",
       "    </tr>\n",
       "  </tbody>\n",
       "</table>\n",
       "</div>"
      ],
      "text/plain": [
       "                    Name  Rating  Spec_score                      No_of_sim  \\\n",
       "0  Samsung Galaxy F14 5G    4.65          68  Dual Sim, 3G, 4G, 5G, VoLTE,    \n",
       "\n",
       "        Ram            Battery     Display  \\\n",
       "0  4 GB RAM  6000 mAh Battery   6.6 inches   \n",
       "\n",
       "                                            Camera  \\\n",
       "0  50 MP + 2 MP Dual Rear &amp; 13 MP Front Camera   \n",
       "\n",
       "                    External_Memory Android_version  Price  company  \\\n",
       "0  Memory Card Supported, upto 1 TB              13  9,999  Samsung   \n",
       "\n",
       "    Inbuilt_memory       fast_charging  \\\n",
       "0   128 GB inbuilt   25W Fast Charging   \n",
       "\n",
       "                               Screen_resolution             Processor  \\\n",
       "0   2408 x 1080 px Display with Water Drop Notch   Octa Core Processor   \n",
       "\n",
       "  Processor_name       Model sim_slot  network_3g  network_4g  network_5g  \\\n",
       "0    Exynos 1330  Galaxy F14     Dual           1           1           1   \n",
       "\n",
       "   cleaned_RAM  Battery_mAh  Display_inches rear_camera front_camera  \\\n",
       "0            4         6000             6.6          50           13   \n",
       "\n",
       "            cleaned_External_Memory  \n",
       "0  Memory Card Supported, upto 1 TB  "
      ]
     },
     "execution_count": 84,
     "metadata": {},
     "output_type": "execute_result"
    }
   ],
   "source": [
    "df1.head(1)"
   ]
  },
  {
   "cell_type": "code",
   "execution_count": 85,
   "metadata": {},
   "outputs": [],
   "source": [
    "df1['cleaned_External_Memory'] = df1['cleaned_External_Memory'].str.split(' ').str.get(4) "
   ]
  },
  {
   "cell_type": "code",
   "execution_count": 86,
   "metadata": {},
   "outputs": [
    {
     "data": {
      "text/plain": [
       "np.int64(759)"
      ]
     },
     "execution_count": 86,
     "metadata": {},
     "output_type": "execute_result"
    }
   ],
   "source": [
    "df1['cleaned_External_Memory'].isnull().sum()"
   ]
  },
  {
   "cell_type": "code",
   "execution_count": 87,
   "metadata": {},
   "outputs": [],
   "source": [
    "def clean_and_transform_external_memory(x):\n",
    "    if pd.isna(x):  # Checks for both None and NaN\n",
    "        return 0\n",
    "    elif x == '1' or x == '2':\n",
    "        return int(x) * 1000\n",
    "    elif isinstance(x, str) and x.isdigit():\n",
    "        return int(x)\n",
    "    else:\n",
    "        return None"
   ]
  },
  {
   "cell_type": "code",
   "execution_count": 88,
   "metadata": {},
   "outputs": [],
   "source": [
    "# Apply the function to the DataFrame\n",
    "df1['cleaned_External_Memory'] = df1['cleaned_External_Memory'].apply(clean_and_transform_external_memory)"
   ]
  },
  {
   "cell_type": "code",
   "execution_count": 89,
   "metadata": {},
   "outputs": [
    {
     "data": {
      "text/html": [
       "<div>\n",
       "<style scoped>\n",
       "    .dataframe tbody tr th:only-of-type {\n",
       "        vertical-align: middle;\n",
       "    }\n",
       "\n",
       "    .dataframe tbody tr th {\n",
       "        vertical-align: top;\n",
       "    }\n",
       "\n",
       "    .dataframe thead th {\n",
       "        text-align: right;\n",
       "    }\n",
       "</style>\n",
       "<table border=\"1\" class=\"dataframe\">\n",
       "  <thead>\n",
       "    <tr style=\"text-align: right;\">\n",
       "      <th></th>\n",
       "      <th>Name</th>\n",
       "      <th>Rating</th>\n",
       "      <th>Spec_score</th>\n",
       "      <th>No_of_sim</th>\n",
       "      <th>Ram</th>\n",
       "      <th>Battery</th>\n",
       "      <th>Display</th>\n",
       "      <th>Camera</th>\n",
       "      <th>External_Memory</th>\n",
       "      <th>Android_version</th>\n",
       "      <th>Price</th>\n",
       "      <th>company</th>\n",
       "      <th>Inbuilt_memory</th>\n",
       "      <th>fast_charging</th>\n",
       "      <th>Screen_resolution</th>\n",
       "      <th>Processor</th>\n",
       "      <th>Processor_name</th>\n",
       "      <th>Model</th>\n",
       "      <th>sim_slot</th>\n",
       "      <th>network_3g</th>\n",
       "      <th>network_4g</th>\n",
       "      <th>network_5g</th>\n",
       "      <th>cleaned_RAM</th>\n",
       "      <th>Battery_mAh</th>\n",
       "      <th>Display_inches</th>\n",
       "      <th>rear_camera</th>\n",
       "      <th>front_camera</th>\n",
       "      <th>cleaned_External_Memory</th>\n",
       "    </tr>\n",
       "  </thead>\n",
       "  <tbody>\n",
       "    <tr>\n",
       "      <th>0</th>\n",
       "      <td>Samsung Galaxy F14 5G</td>\n",
       "      <td>4.65</td>\n",
       "      <td>68</td>\n",
       "      <td>Dual Sim, 3G, 4G, 5G, VoLTE,</td>\n",
       "      <td>4 GB RAM</td>\n",
       "      <td>6000 mAh Battery</td>\n",
       "      <td>6.6 inches</td>\n",
       "      <td>50 MP + 2 MP Dual Rear &amp;amp; 13 MP Front Camera</td>\n",
       "      <td>Memory Card Supported, upto 1 TB</td>\n",
       "      <td>13</td>\n",
       "      <td>9,999</td>\n",
       "      <td>Samsung</td>\n",
       "      <td>128 GB inbuilt</td>\n",
       "      <td>25W Fast Charging</td>\n",
       "      <td>2408 x 1080 px Display with Water Drop Notch</td>\n",
       "      <td>Octa Core Processor</td>\n",
       "      <td>Exynos 1330</td>\n",
       "      <td>Galaxy F14</td>\n",
       "      <td>Dual</td>\n",
       "      <td>1</td>\n",
       "      <td>1</td>\n",
       "      <td>1</td>\n",
       "      <td>4</td>\n",
       "      <td>6000</td>\n",
       "      <td>6.6</td>\n",
       "      <td>50</td>\n",
       "      <td>13</td>\n",
       "      <td>1000</td>\n",
       "    </tr>\n",
       "  </tbody>\n",
       "</table>\n",
       "</div>"
      ],
      "text/plain": [
       "                    Name  Rating  Spec_score                      No_of_sim  \\\n",
       "0  Samsung Galaxy F14 5G    4.65          68  Dual Sim, 3G, 4G, 5G, VoLTE,    \n",
       "\n",
       "        Ram            Battery     Display  \\\n",
       "0  4 GB RAM  6000 mAh Battery   6.6 inches   \n",
       "\n",
       "                                            Camera  \\\n",
       "0  50 MP + 2 MP Dual Rear &amp; 13 MP Front Camera   \n",
       "\n",
       "                    External_Memory Android_version  Price  company  \\\n",
       "0  Memory Card Supported, upto 1 TB              13  9,999  Samsung   \n",
       "\n",
       "    Inbuilt_memory       fast_charging  \\\n",
       "0   128 GB inbuilt   25W Fast Charging   \n",
       "\n",
       "                               Screen_resolution             Processor  \\\n",
       "0   2408 x 1080 px Display with Water Drop Notch   Octa Core Processor   \n",
       "\n",
       "  Processor_name       Model sim_slot  network_3g  network_4g  network_5g  \\\n",
       "0    Exynos 1330  Galaxy F14     Dual           1           1           1   \n",
       "\n",
       "   cleaned_RAM  Battery_mAh  Display_inches rear_camera front_camera  \\\n",
       "0            4         6000             6.6          50           13   \n",
       "\n",
       "   cleaned_External_Memory  \n",
       "0                     1000  "
      ]
     },
     "execution_count": 89,
     "metadata": {},
     "output_type": "execute_result"
    }
   ],
   "source": [
    "df1.head(1)"
   ]
  },
  {
   "cell_type": "code",
   "execution_count": 90,
   "metadata": {},
   "outputs": [
    {
     "data": {
      "text/plain": [
       "np.int64(0)"
      ]
     },
     "execution_count": 90,
     "metadata": {},
     "output_type": "execute_result"
    }
   ],
   "source": [
    "df1['cleaned_External_Memory'].isnull().sum()"
   ]
  },
  {
   "cell_type": "code",
   "execution_count": 91,
   "metadata": {},
   "outputs": [
    {
     "data": {
      "text/plain": [
       "array([1000,  512,    0,  256,  128, 2000,   32])"
      ]
     },
     "execution_count": 91,
     "metadata": {},
     "output_type": "execute_result"
    }
   ],
   "source": [
    "df1['cleaned_External_Memory'].unique()"
   ]
  },
  {
   "cell_type": "code",
   "execution_count": 92,
   "metadata": {},
   "outputs": [
    {
     "data": {
      "text/plain": [
       "cleaned_External_Memory\n",
       "0       759\n",
       "1000    394\n",
       "512      87\n",
       "256      75\n",
       "2000     47\n",
       "128       6\n",
       "32        1\n",
       "Name: count, dtype: int64"
      ]
     },
     "execution_count": 92,
     "metadata": {},
     "output_type": "execute_result"
    }
   ],
   "source": [
    "df1['cleaned_External_Memory'].value_counts()"
   ]
  },
  {
   "cell_type": "code",
   "execution_count": 93,
   "metadata": {},
   "outputs": [],
   "source": [
    "df1['cleaned_External_Memory'] = df1['cleaned_External_Memory'].apply(lambda x: x + 128 if x == 0 else x)"
   ]
  },
  {
   "cell_type": "code",
   "execution_count": 94,
   "metadata": {},
   "outputs": [
    {
     "data": {
      "text/plain": [
       "<Axes: xlabel='cleaned_External_Memory'>"
      ]
     },
     "execution_count": 94,
     "metadata": {},
     "output_type": "execute_result"
    },
    {
     "data": {
      "image/png": "[encoded data removed]",
      "text/plain": [
       "<Figure size 640x480 with 1 Axes>"
      ]
     },
     "metadata": {},
     "output_type": "display_data"
    }
   ],
   "source": [
    "df1['cleaned_External_Memory'].value_counts().plot(kind='bar')"
   ]
  },
  {
   "cell_type": "code",
   "execution_count": 95,
   "metadata": {},
   "outputs": [
    {
     "data": {
      "text/html": [
       "<div>\n",
       "<style scoped>\n",
       "    .dataframe tbody tr th:only-of-type {\n",
       "        vertical-align: middle;\n",
       "    }\n",
       "\n",
       "    .dataframe tbody tr th {\n",
       "        vertical-align: top;\n",
       "    }\n",
       "\n",
       "    .dataframe thead th {\n",
       "        text-align: right;\n",
       "    }\n",
       "</style>\n",
       "<table border=\"1\" class=\"dataframe\">\n",
       "  <thead>\n",
       "    <tr style=\"text-align: right;\">\n",
       "      <th></th>\n",
       "      <th>Name</th>\n",
       "      <th>Rating</th>\n",
       "      <th>Spec_score</th>\n",
       "      <th>No_of_sim</th>\n",
       "      <th>Ram</th>\n",
       "      <th>Battery</th>\n",
       "      <th>Display</th>\n",
       "      <th>Camera</th>\n",
       "      <th>External_Memory</th>\n",
       "      <th>Android_version</th>\n",
       "      <th>Price</th>\n",
       "      <th>company</th>\n",
       "      <th>Inbuilt_memory</th>\n",
       "      <th>fast_charging</th>\n",
       "      <th>Screen_resolution</th>\n",
       "      <th>Processor</th>\n",
       "      <th>Processor_name</th>\n",
       "      <th>Model</th>\n",
       "      <th>sim_slot</th>\n",
       "      <th>network_3g</th>\n",
       "      <th>network_4g</th>\n",
       "      <th>network_5g</th>\n",
       "      <th>cleaned_RAM</th>\n",
       "      <th>Battery_mAh</th>\n",
       "      <th>Display_inches</th>\n",
       "      <th>rear_camera</th>\n",
       "      <th>front_camera</th>\n",
       "      <th>cleaned_External_Memory</th>\n",
       "    </tr>\n",
       "  </thead>\n",
       "  <tbody>\n",
       "    <tr>\n",
       "      <th>651</th>\n",
       "      <td>itel S16 Pro</td>\n",
       "      <td>4.55</td>\n",
       "      <td>57</td>\n",
       "      <td>Dual Sim, 3G, 4G, VoLTE,</td>\n",
       "      <td>2 GB RAM</td>\n",
       "      <td>4000 mAh Battery</td>\n",
       "      <td>6.6 inches</td>\n",
       "      <td>8 MP + 2 MP + 0.3 MP Triple Rear &amp;amp; 8 MP Fr...</td>\n",
       "      <td>Memory Card Supported, upto 32 GB</td>\n",
       "      <td>10</td>\n",
       "      <td>6,990</td>\n",
       "      <td>itel</td>\n",
       "      <td>32 GB inbuilt</td>\n",
       "      <td>NaN</td>\n",
       "      <td>1600 x 720 px Display with Punch Hole</td>\n",
       "      <td>1.3 GHz Processor</td>\n",
       "      <td>Quad Core</td>\n",
       "      <td>S16 Pro</td>\n",
       "      <td>Dual</td>\n",
       "      <td>1</td>\n",
       "      <td>1</td>\n",
       "      <td>0</td>\n",
       "      <td>2</td>\n",
       "      <td>4000</td>\n",
       "      <td>6.6</td>\n",
       "      <td>8</td>\n",
       "      <td>8</td>\n",
       "      <td>32</td>\n",
       "    </tr>\n",
       "  </tbody>\n",
       "</table>\n",
       "</div>"
      ],
      "text/plain": [
       "             Name  Rating  Spec_score                  No_of_sim       Ram  \\\n",
       "651  itel S16 Pro    4.55          57  Dual Sim, 3G, 4G, VoLTE,   2 GB RAM   \n",
       "\n",
       "              Battery     Display  \\\n",
       "651  4000 mAh Battery  6.6 inches   \n",
       "\n",
       "                                                Camera  \\\n",
       "651  8 MP + 2 MP + 0.3 MP Triple Rear &amp; 8 MP Fr...   \n",
       "\n",
       "                       External_Memory Android_version  Price company  \\\n",
       "651  Memory Card Supported, upto 32 GB              10  6,990    itel   \n",
       "\n",
       "     Inbuilt_memory fast_charging                       Screen_resolution  \\\n",
       "651   32 GB inbuilt           NaN   1600 x 720 px Display with Punch Hole   \n",
       "\n",
       "              Processor Processor_name    Model sim_slot  network_3g  \\\n",
       "651   1.3 GHz Processor      Quad Core  S16 Pro     Dual           1   \n",
       "\n",
       "     network_4g  network_5g  cleaned_RAM  Battery_mAh  Display_inches  \\\n",
       "651           1           0            2         4000             6.6   \n",
       "\n",
       "    rear_camera front_camera  cleaned_External_Memory  \n",
       "651           8            8                       32  "
      ]
     },
     "execution_count": 95,
     "metadata": {},
     "output_type": "execute_result"
    }
   ],
   "source": [
    "df1[df1['cleaned_External_Memory'] == 32]"
   ]
  },
  {
   "cell_type": "markdown",
   "metadata": {},
   "source": [
    "## Android_version\n",
    "#### changes\n",
    "- add all missing values from other columns \n",
    "- fill null values with mode \n",
    "- convert dtype to float\n",
    "#### observations\n",
    "- most of the values from Android_version are located in External_Memory\n",
    "- most of the phone has versions 13"
   ]
  },
  {
   "cell_type": "code",
   "execution_count": 96,
   "metadata": {},
   "outputs": [
    {
     "data": {
      "text/plain": [
       "np.int64(443)"
      ]
     },
     "execution_count": 96,
     "metadata": {},
     "output_type": "execute_result"
    }
   ],
   "source": [
    "df1['Android_version'].isnull().sum()"
   ]
  },
  {
   "cell_type": "code",
   "execution_count": 97,
   "metadata": {},
   "outputs": [
    {
     "data": {
      "text/html": [
       "<div>\n",
       "<style scoped>\n",
       "    .dataframe tbody tr th:only-of-type {\n",
       "        vertical-align: middle;\n",
       "    }\n",
       "\n",
       "    .dataframe tbody tr th {\n",
       "        vertical-align: top;\n",
       "    }\n",
       "\n",
       "    .dataframe thead th {\n",
       "        text-align: right;\n",
       "    }\n",
       "</style>\n",
       "<table border=\"1\" class=\"dataframe\">\n",
       "  <thead>\n",
       "    <tr style=\"text-align: right;\">\n",
       "      <th></th>\n",
       "      <th>Android_version</th>\n",
       "      <th>External_Memory</th>\n",
       "    </tr>\n",
       "  </thead>\n",
       "  <tbody>\n",
       "    <tr>\n",
       "      <th>0</th>\n",
       "      <td>13</td>\n",
       "      <td>Memory Card Supported, upto 1 TB</td>\n",
       "    </tr>\n",
       "    <tr>\n",
       "      <th>1</th>\n",
       "      <td>10</td>\n",
       "      <td>Memory Card Supported, upto 512 GB</td>\n",
       "    </tr>\n",
       "    <tr>\n",
       "      <th>2</th>\n",
       "      <td>12</td>\n",
       "      <td>Memory Card Supported, upto 1 TB</td>\n",
       "    </tr>\n",
       "    <tr>\n",
       "      <th>3</th>\n",
       "      <td>12</td>\n",
       "      <td>Memory Card Supported, upto 1 TB</td>\n",
       "    </tr>\n",
       "    <tr>\n",
       "      <th>4</th>\n",
       "      <td>11</td>\n",
       "      <td>Memory Card Supported, upto 1 TB</td>\n",
       "    </tr>\n",
       "    <tr>\n",
       "      <th>...</th>\n",
       "      <td>...</td>\n",
       "      <td>...</td>\n",
       "    </tr>\n",
       "    <tr>\n",
       "      <th>1365</th>\n",
       "      <td>12</td>\n",
       "      <td>Memory Card (Hybrid)</td>\n",
       "    </tr>\n",
       "    <tr>\n",
       "      <th>1366</th>\n",
       "      <td>14</td>\n",
       "      <td>Memory Card (Hybrid)</td>\n",
       "    </tr>\n",
       "    <tr>\n",
       "      <th>1367</th>\n",
       "      <td>13</td>\n",
       "      <td>Memory Card Supported, upto 1 TB</td>\n",
       "    </tr>\n",
       "    <tr>\n",
       "      <th>1368</th>\n",
       "      <td>13</td>\n",
       "      <td>Memory Card Supported, upto 1 TB</td>\n",
       "    </tr>\n",
       "    <tr>\n",
       "      <th>1369</th>\n",
       "      <td>13</td>\n",
       "      <td>50 MP + 48 MP + 8 MP Triple Rear &amp;amp; 32 MP F...</td>\n",
       "    </tr>\n",
       "  </tbody>\n",
       "</table>\n",
       "<p>1369 rows × 2 columns</p>\n",
       "</div>"
      ],
      "text/plain": [
       "     Android_version                                    External_Memory\n",
       "0                 13                   Memory Card Supported, upto 1 TB\n",
       "1                 10                 Memory Card Supported, upto 512 GB\n",
       "2                 12                   Memory Card Supported, upto 1 TB\n",
       "3                 12                   Memory Card Supported, upto 1 TB\n",
       "4                 11                   Memory Card Supported, upto 1 TB\n",
       "...              ...                                                ...\n",
       "1365              12                               Memory Card (Hybrid)\n",
       "1366              14                               Memory Card (Hybrid)\n",
       "1367              13                   Memory Card Supported, upto 1 TB\n",
       "1368              13                   Memory Card Supported, upto 1 TB\n",
       "1369              13  50 MP + 48 MP + 8 MP Triple Rear &amp; 32 MP F...\n",
       "\n",
       "[1369 rows x 2 columns]"
      ]
     },
     "execution_count": 97,
     "metadata": {},
     "output_type": "execute_result"
    }
   ],
   "source": [
    "df1[['Android_version','External_Memory']]"
   ]
  },
  {
   "cell_type": "code",
   "execution_count": 98,
   "metadata": {},
   "outputs": [],
   "source": [
    "# Step 1: Identify rows \n",
    "mask = df1['External_Memory'].str.contains('Android', 'HarmonyOS')\n",
    "\n",
    "# Step 2: Assign those values \n",
    "df1.loc[mask, 'Android_version'] = df1.loc[mask, 'External_Memory']\n"
   ]
  },
  {
   "cell_type": "code",
   "execution_count": 99,
   "metadata": {},
   "outputs": [
    {
     "data": {
      "text/plain": [
       "np.int64(73)"
      ]
     },
     "execution_count": 99,
     "metadata": {},
     "output_type": "execute_result"
    }
   ],
   "source": [
    "df1['Android_version'].isnull().sum()"
   ]
  },
  {
   "cell_type": "code",
   "execution_count": 100,
   "metadata": {},
   "outputs": [
    {
     "data": {
      "text/plain": [
       "array(['13', '10', '12', '11', '15', '10.0', '9.0 (Pie)', '14', nan,\n",
       "       'Android v13', 'Android v10', 'Android v12', '7.1.1 (Nougat)',\n",
       "       '8.0 (Oreo)', '8.1 (Oreo)', '5.1 (Lollipop)', '6.0 (Marshmallow)',\n",
       "       'Android v11', 'Android v15', 'Android v14', 'Android v9.0 (Pie)',\n",
       "       '9 (Pie)', '3', '2', 'Android v10.0', 'Android v12.1', '4.0',\n",
       "       '3.0 (Honeycomb)', '2.0', 'Android', '3.0', '3.1', '5.0', '4.1'],\n",
       "      dtype=object)"
      ]
     },
     "execution_count": 100,
     "metadata": {},
     "output_type": "execute_result"
    }
   ],
   "source": [
    "df1['Android_version'].unique()\n"
   ]
  },
  {
   "cell_type": "code",
   "execution_count": 101,
   "metadata": {},
   "outputs": [],
   "source": [
    "# Fill missing values with the mode of the column\n",
    "android_version_mode = df1['Android_version'].mode()[0]  # Get the first mode value\n",
    "df1['Android_version'] = df1['Android_version'].fillna(android_version_mode)\n"
   ]
  },
  {
   "cell_type": "code",
   "execution_count": 102,
   "metadata": {},
   "outputs": [
    {
     "data": {
      "text/plain": [
       "np.int64(0)"
      ]
     },
     "execution_count": 102,
     "metadata": {},
     "output_type": "execute_result"
    }
   ],
   "source": [
    "df1['Android_version'].isnull().sum()\n"
   ]
  },
  {
   "cell_type": "code",
   "execution_count": 103,
   "metadata": {},
   "outputs": [
    {
     "data": {
      "text/html": [
       "<div>\n",
       "<style scoped>\n",
       "    .dataframe tbody tr th:only-of-type {\n",
       "        vertical-align: middle;\n",
       "    }\n",
       "\n",
       "    .dataframe tbody tr th {\n",
       "        vertical-align: top;\n",
       "    }\n",
       "\n",
       "    .dataframe thead th {\n",
       "        text-align: right;\n",
       "    }\n",
       "</style>\n",
       "<table border=\"1\" class=\"dataframe\">\n",
       "  <thead>\n",
       "    <tr style=\"text-align: right;\">\n",
       "      <th></th>\n",
       "      <th>Name</th>\n",
       "      <th>Rating</th>\n",
       "      <th>Spec_score</th>\n",
       "      <th>No_of_sim</th>\n",
       "      <th>Ram</th>\n",
       "      <th>Battery</th>\n",
       "      <th>Display</th>\n",
       "      <th>Camera</th>\n",
       "      <th>External_Memory</th>\n",
       "      <th>Android_version</th>\n",
       "      <th>Price</th>\n",
       "      <th>company</th>\n",
       "      <th>Inbuilt_memory</th>\n",
       "      <th>fast_charging</th>\n",
       "      <th>Screen_resolution</th>\n",
       "      <th>Processor</th>\n",
       "      <th>Processor_name</th>\n",
       "      <th>Model</th>\n",
       "      <th>sim_slot</th>\n",
       "      <th>network_3g</th>\n",
       "      <th>network_4g</th>\n",
       "      <th>network_5g</th>\n",
       "      <th>cleaned_RAM</th>\n",
       "      <th>Battery_mAh</th>\n",
       "      <th>Display_inches</th>\n",
       "      <th>rear_camera</th>\n",
       "      <th>front_camera</th>\n",
       "      <th>cleaned_External_Memory</th>\n",
       "    </tr>\n",
       "  </thead>\n",
       "  <tbody>\n",
       "    <tr>\n",
       "      <th>296</th>\n",
       "      <td>Realme 13 Pro 5G</td>\n",
       "      <td>4.65</td>\n",
       "      <td>84</td>\n",
       "      <td>Dual Sim, 3G, 4G, 5G, VoLTE,</td>\n",
       "      <td>8 GB RAM</td>\n",
       "      <td>5000 mAh Battery</td>\n",
       "      <td>6.74 inches</td>\n",
       "      <td>50 MP + 50 MP + 32 MP Triple Rear &amp;amp; 32 MP ...</td>\n",
       "      <td>Android v14</td>\n",
       "      <td>Android v14</td>\n",
       "      <td>29,990</td>\n",
       "      <td>Realme</td>\n",
       "      <td>128 GB inbuilt</td>\n",
       "      <td>80W Fast Charging</td>\n",
       "      <td>1080 x 2412 px</td>\n",
       "      <td>Octa Core</td>\n",
       "      <td>Snapdragon 7 Gen1</td>\n",
       "      <td>13 Pro</td>\n",
       "      <td>Dual</td>\n",
       "      <td>1</td>\n",
       "      <td>1</td>\n",
       "      <td>1</td>\n",
       "      <td>8</td>\n",
       "      <td>5000</td>\n",
       "      <td>6.74</td>\n",
       "      <td>50</td>\n",
       "      <td>32</td>\n",
       "      <td>128</td>\n",
       "    </tr>\n",
       "  </tbody>\n",
       "</table>\n",
       "</div>"
      ],
      "text/plain": [
       "                 Name  Rating  Spec_score                      No_of_sim  \\\n",
       "296  Realme 13 Pro 5G    4.65          84  Dual Sim, 3G, 4G, 5G, VoLTE,    \n",
       "\n",
       "          Ram            Battery      Display  \\\n",
       "296  8 GB RAM  5000 mAh Battery   6.74 inches   \n",
       "\n",
       "                                                Camera External_Memory  \\\n",
       "296  50 MP + 50 MP + 32 MP Triple Rear &amp; 32 MP ...     Android v14   \n",
       "\n",
       "    Android_version   Price company   Inbuilt_memory       fast_charging  \\\n",
       "296     Android v14  29,990  Realme   128 GB inbuilt   80W Fast Charging   \n",
       "\n",
       "    Screen_resolution   Processor     Processor_name   Model sim_slot  \\\n",
       "296    1080 x 2412 px   Octa Core  Snapdragon 7 Gen1  13 Pro     Dual   \n",
       "\n",
       "     network_3g  network_4g  network_5g  cleaned_RAM  Battery_mAh  \\\n",
       "296           1           1           1            8         5000   \n",
       "\n",
       "     Display_inches rear_camera front_camera  cleaned_External_Memory  \n",
       "296            6.74          50           32                      128  "
      ]
     },
     "execution_count": 103,
     "metadata": {},
     "output_type": "execute_result"
    }
   ],
   "source": [
    "df1.sample()"
   ]
  },
  {
   "cell_type": "code",
   "execution_count": 104,
   "metadata": {},
   "outputs": [],
   "source": [
    "# Function to extract the numeric part from the string\n",
    "def extract_numeric(version):\n",
    "    if pd.isna(version):\n",
    "        return version\n",
    "    # Extract the first number in the string\n",
    "    match = re.search(r'\\d+', version)\n",
    "    return int(match.group()) if match else np.nan\n",
    "\n",
    "# Apply the function to the Android_version column\n",
    "df1['Android_version'] = df1['Android_version'].apply(extract_numeric)"
   ]
  },
  {
   "cell_type": "code",
   "execution_count": 105,
   "metadata": {},
   "outputs": [
    {
     "data": {
      "text/plain": [
       "array([13., 10., 12., 11., 15.,  9., 14.,  7.,  8.,  5.,  6.,  3.,  2.,\n",
       "        4., nan])"
      ]
     },
     "execution_count": 105,
     "metadata": {},
     "output_type": "execute_result"
    }
   ],
   "source": [
    "df1['Android_version'].unique()"
   ]
  },
  {
   "cell_type": "code",
   "execution_count": 106,
   "metadata": {},
   "outputs": [
    {
     "data": {
      "text/plain": [
       "<Axes: xlabel='Android_version'>"
      ]
     },
     "execution_count": 106,
     "metadata": {},
     "output_type": "execute_result"
    },
    {
     "data": {
      "image/png": "[encoded data removed]",
      "text/plain": [
       "<Figure size 640x480 with 1 Axes>"
      ]
     },
     "metadata": {},
     "output_type": "display_data"
    }
   ],
   "source": [
    "df1['Android_version'].value_counts().plot(kind='bar')"
   ]
  },
  {
   "cell_type": "markdown",
   "metadata": {},
   "source": [
    "## price\n",
    "#### changes\n",
    "- removed coma \n",
    "- change dtype\n",
    "#### observations\n",
    "- most of the values are between 10000 to 50000 \n",
    "- few are between 100000 to 200000"
   ]
  },
  {
   "cell_type": "code",
   "execution_count": 107,
   "metadata": {},
   "outputs": [
    {
     "data": {
      "text/plain": [
       "np.int64(0)"
      ]
     },
     "execution_count": 107,
     "metadata": {},
     "output_type": "execute_result"
    }
   ],
   "source": [
    "df1['Price'].isnull().sum()"
   ]
  },
  {
   "cell_type": "code",
   "execution_count": 108,
   "metadata": {},
   "outputs": [],
   "source": [
    "df1['Price'] = df1['Price'].str.replace(',', '')"
   ]
  },
  {
   "cell_type": "code",
   "execution_count": 109,
   "metadata": {},
   "outputs": [
    {
     "data": {
      "text/plain": [
       "'19799'"
      ]
     },
     "execution_count": 109,
     "metadata": {},
     "output_type": "execute_result"
    }
   ],
   "source": [
    "df1['Price'][23]"
   ]
  },
  {
   "cell_type": "code",
   "execution_count": 110,
   "metadata": {},
   "outputs": [],
   "source": [
    "df1['Price'] = df1['Price'].astype(int)"
   ]
  },
  {
   "cell_type": "code",
   "execution_count": 111,
   "metadata": {},
   "outputs": [
    {
     "data": {
      "text/plain": [
       "<Axes: ylabel='Frequency'>"
      ]
     },
     "execution_count": 111,
     "metadata": {},
     "output_type": "execute_result"
    },
    {
     "data": {
      "image/png": "[encoded data removed]",
      "text/plain": [
       "<Figure size 1000x400 with 1 Axes>"
      ]
     },
     "metadata": {},
     "output_type": "display_data"
    }
   ],
   "source": [
    "df1['Price'].plot(kind='hist', bins=20, figsize=(10, 4))"
   ]
  },
  {
   "cell_type": "markdown",
   "metadata": {},
   "source": [
    "## company\n",
    "#### changes \n",
    "- nathing to change\n",
    "#### observations\n",
    "- most of the phone company's are samsung, vivo, realme and motorola rest are others"
   ]
  },
  {
   "cell_type": "code",
   "execution_count": 112,
   "metadata": {},
   "outputs": [
    {
     "data": {
      "text/plain": [
       "np.int64(0)"
      ]
     },
     "execution_count": 112,
     "metadata": {},
     "output_type": "execute_result"
    }
   ],
   "source": [
    "df1['company'].isnull().sum()"
   ]
  },
  {
   "cell_type": "code",
   "execution_count": 113,
   "metadata": {},
   "outputs": [
    {
     "data": {
      "text/plain": [
       "<Axes: ylabel='company'>"
      ]
     },
     "execution_count": 113,
     "metadata": {},
     "output_type": "execute_result"
    },
    {
     "data": {
      "image/png": "[encoded data removed]",
      "text/plain": [
       "<Figure size 600x600 with 1 Axes>"
      ]
     },
     "metadata": {},
     "output_type": "display_data"
    }
   ],
   "source": [
    "df1['company'].value_counts().plot(kind='barh', figsize=(6, 6))"
   ]
  },
  {
   "cell_type": "markdown",
   "metadata": {},
   "source": [
    "## inbuilt_memory\n",
    "#### changes\n",
    "- removes extra strings\n",
    "#### observations\n",
    "- 264 . 1246 has different values\n",
    "- most of the phone hase 64 to 128 gb inbuilt memory\n"
   ]
  },
  {
   "cell_type": "code",
   "execution_count": 114,
   "metadata": {},
   "outputs": [
    {
     "data": {
      "text/plain": [
       "array([' 128 GB inbuilt', ' 32 GB inbuilt', ' 64 GB inbuilt',\n",
       "       ' 256 GB inbuilt', ' 1 TB inbuilt', ' 512 GB inbuilt',\n",
       "       ' 16 GB inbuilt', ' Octa Core', ' 258 GB inbuilt', ' 8 GB inbuilt',\n",
       "       128, 6000, 256, 512], dtype=object)"
      ]
     },
     "execution_count": 114,
     "metadata": {},
     "output_type": "execute_result"
    }
   ],
   "source": [
    "df1['Inbuilt_memory'].unique()"
   ]
  },
  {
   "cell_type": "code",
   "execution_count": 115,
   "metadata": {},
   "outputs": [
    {
     "data": {
      "text/plain": [
       "Inbuilt_memory\n",
       " 128 GB inbuilt    643\n",
       " 256 GB inbuilt    405\n",
       " 64 GB inbuilt     184\n",
       " 512 GB inbuilt     59\n",
       " 32 GB inbuilt      48\n",
       "256                  8\n",
       "128                  7\n",
       " 1 TB inbuilt        5\n",
       " 16 GB inbuilt       3\n",
       "512                  3\n",
       " 8 GB inbuilt        1\n",
       " 258 GB inbuilt      1\n",
       " Octa Core           1\n",
       "6000                 1\n",
       "Name: count, dtype: int64"
      ]
     },
     "execution_count": 115,
     "metadata": {},
     "output_type": "execute_result"
    }
   ],
   "source": [
    "df1['Inbuilt_memory'].value_counts()"
   ]
  },
  {
   "cell_type": "code",
   "execution_count": 116,
   "metadata": {},
   "outputs": [],
   "source": [
    "df1['Inbuilt_memory'] = df1['Inbuilt_memory'].astype(str)"
   ]
  },
  {
   "cell_type": "code",
   "execution_count": 117,
   "metadata": {},
   "outputs": [],
   "source": [
    "def remove_first_space(data):\n",
    "    if data.startswith(' '):\n",
    "        return data[1:]  # Return the string starting from the second character\n",
    "    else:\n",
    "        return data \n",
    "    \n",
    "df1['cleaned_Inbuilt_memory'] = df1['Inbuilt_memory'].apply(remove_first_space)"
   ]
  },
  {
   "cell_type": "code",
   "execution_count": 118,
   "metadata": {},
   "outputs": [
    {
     "data": {
      "text/plain": [
       "cleaned_Inbuilt_memory\n",
       "128 GB inbuilt    643\n",
       "256 GB inbuilt    405\n",
       "64 GB inbuilt     184\n",
       "512 GB inbuilt     59\n",
       "32 GB inbuilt      48\n",
       "256                 8\n",
       "128                 7\n",
       "1 TB inbuilt        5\n",
       "16 GB inbuilt       3\n",
       "512                 3\n",
       "8 GB inbuilt        1\n",
       "258 GB inbuilt      1\n",
       "Octa Core           1\n",
       "6000                1\n",
       "Name: count, dtype: int64"
      ]
     },
     "execution_count": 118,
     "metadata": {},
     "output_type": "execute_result"
    }
   ],
   "source": [
    "df1['cleaned_Inbuilt_memory'].value_counts()"
   ]
  },
  {
   "cell_type": "code",
   "execution_count": 119,
   "metadata": {},
   "outputs": [],
   "source": [
    "df1['cleaned_Inbuilt_memory'] = df1['cleaned_Inbuilt_memory'].str.split(' ').str.get(0)"
   ]
  },
  {
   "cell_type": "code",
   "execution_count": 120,
   "metadata": {},
   "outputs": [
    {
     "data": {
      "text/plain": [
       "array(['128', '32', '64', '256', '1', '512', '16', 'Octa', '258', '8',\n",
       "       '6000'], dtype=object)"
      ]
     },
     "execution_count": 120,
     "metadata": {},
     "output_type": "execute_result"
    }
   ],
   "source": [
    "df1['cleaned_Inbuilt_memory'].unique()"
   ]
  },
  {
   "cell_type": "code",
   "execution_count": 121,
   "metadata": {},
   "outputs": [
    {
     "data": {
      "text/plain": [
       "cleaned_Inbuilt_memory\n",
       "128     650\n",
       "256     413\n",
       "64      184\n",
       "512      62\n",
       "32       48\n",
       "1         5\n",
       "16        3\n",
       "Octa      1\n",
       "258       1\n",
       "8         1\n",
       "6000      1\n",
       "Name: count, dtype: int64"
      ]
     },
     "execution_count": 121,
     "metadata": {},
     "output_type": "execute_result"
    }
   ],
   "source": [
    "df1['cleaned_Inbuilt_memory'].value_counts()\n"
   ]
  },
  {
   "cell_type": "code",
   "execution_count": 122,
   "metadata": {},
   "outputs": [
    {
     "data": {
      "text/html": [
       "<div>\n",
       "<style scoped>\n",
       "    .dataframe tbody tr th:only-of-type {\n",
       "        vertical-align: middle;\n",
       "    }\n",
       "\n",
       "    .dataframe tbody tr th {\n",
       "        vertical-align: top;\n",
       "    }\n",
       "\n",
       "    .dataframe thead th {\n",
       "        text-align: right;\n",
       "    }\n",
       "</style>\n",
       "<table border=\"1\" class=\"dataframe\">\n",
       "  <thead>\n",
       "    <tr style=\"text-align: right;\">\n",
       "      <th></th>\n",
       "      <th>Name</th>\n",
       "      <th>Rating</th>\n",
       "      <th>Spec_score</th>\n",
       "      <th>No_of_sim</th>\n",
       "      <th>Ram</th>\n",
       "      <th>Battery</th>\n",
       "      <th>Display</th>\n",
       "      <th>Camera</th>\n",
       "      <th>External_Memory</th>\n",
       "      <th>Android_version</th>\n",
       "      <th>Price</th>\n",
       "      <th>company</th>\n",
       "      <th>Inbuilt_memory</th>\n",
       "      <th>fast_charging</th>\n",
       "      <th>Screen_resolution</th>\n",
       "      <th>Processor</th>\n",
       "      <th>Processor_name</th>\n",
       "      <th>Model</th>\n",
       "      <th>sim_slot</th>\n",
       "      <th>network_3g</th>\n",
       "      <th>network_4g</th>\n",
       "      <th>network_5g</th>\n",
       "      <th>cleaned_RAM</th>\n",
       "      <th>Battery_mAh</th>\n",
       "      <th>Display_inches</th>\n",
       "      <th>rear_camera</th>\n",
       "      <th>front_camera</th>\n",
       "      <th>cleaned_External_Memory</th>\n",
       "      <th>cleaned_Inbuilt_memory</th>\n",
       "    </tr>\n",
       "  </thead>\n",
       "  <tbody>\n",
       "    <tr>\n",
       "      <th>1246</th>\n",
       "      <td>Huawei Nova Y70 Plus</td>\n",
       "      <td>4.55</td>\n",
       "      <td>66</td>\n",
       "      <td>Dual Sim, 3G, 4G, VoLTE,</td>\n",
       "      <td>6000 mAh Battery with 22.5W Fast Charging</td>\n",
       "      <td>6.75 inches, 720 x 1600 px Display</td>\n",
       "      <td>48 MP + 5 MP + 2 MP Triple Rear &amp;amp; 8 MP Fro...</td>\n",
       "      <td>Memory Card (Hybrid)</td>\n",
       "      <td>Android</td>\n",
       "      <td>NaN</td>\n",
       "      <td>24999</td>\n",
       "      <td>Huawei</td>\n",
       "      <td>6000</td>\n",
       "      <td>Water Drop Notch</td>\n",
       "      <td>NaN</td>\n",
       "      <td>128 GB inbuilt</td>\n",
       "      <td>4 GB RAM</td>\n",
       "      <td>Nova Y70 Plus</td>\n",
       "      <td>Dual</td>\n",
       "      <td>1</td>\n",
       "      <td>1</td>\n",
       "      <td>0</td>\n",
       "      <td>8</td>\n",
       "      <td>6000</td>\n",
       "      <td>6.75</td>\n",
       "      <td>48</td>\n",
       "      <td>8</td>\n",
       "      <td>128</td>\n",
       "      <td>6000</td>\n",
       "    </tr>\n",
       "  </tbody>\n",
       "</table>\n",
       "</div>"
      ],
      "text/plain": [
       "                      Name  Rating  Spec_score                  No_of_sim  \\\n",
       "1246  Huawei Nova Y70 Plus    4.55          66  Dual Sim, 3G, 4G, VoLTE,    \n",
       "\n",
       "                                            Ram  \\\n",
       "1246  6000 mAh Battery with 22.5W Fast Charging   \n",
       "\n",
       "                                  Battery  \\\n",
       "1246  6.75 inches, 720 x 1600 px Display    \n",
       "\n",
       "                                                Display                Camera  \\\n",
       "1246  48 MP + 5 MP + 2 MP Triple Rear &amp; 8 MP Fro...  Memory Card (Hybrid)   \n",
       "\n",
       "     External_Memory  Android_version  Price company Inbuilt_memory  \\\n",
       "1246         Android              NaN  24999  Huawei           6000   \n",
       "\n",
       "          fast_charging Screen_resolution        Processor Processor_name  \\\n",
       "1246   Water Drop Notch               NaN   128 GB inbuilt       4 GB RAM   \n",
       "\n",
       "              Model sim_slot  network_3g  network_4g  network_5g  cleaned_RAM  \\\n",
       "1246  Nova Y70 Plus     Dual           1           1           0            8   \n",
       "\n",
       "      Battery_mAh  Display_inches rear_camera front_camera  \\\n",
       "1246         6000            6.75          48            8   \n",
       "\n",
       "      cleaned_External_Memory cleaned_Inbuilt_memory  \n",
       "1246                      128                   6000  "
      ]
     },
     "execution_count": 122,
     "metadata": {},
     "output_type": "execute_result"
    }
   ],
   "source": [
    "df1[df1['cleaned_Inbuilt_memory'] == 'Octa']\n",
    "df1[df1['cleaned_Inbuilt_memory'] == '6000']"
   ]
  },
  {
   "cell_type": "code",
   "execution_count": 123,
   "metadata": {},
   "outputs": [],
   "source": [
    "df1.at[264, 'cleaned_Inbuilt_memory'] = 64\n",
    "df1.at[1246, 'cleaned_Inbuilt_memory'] = 128"
   ]
  },
  {
   "cell_type": "code",
   "execution_count": 124,
   "metadata": {},
   "outputs": [
    {
     "data": {
      "text/plain": [
       "array(['128', '32', '64', '256', '1', '512', '16', 64, '258', '8', 128],\n",
       "      dtype=object)"
      ]
     },
     "execution_count": 124,
     "metadata": {},
     "output_type": "execute_result"
    }
   ],
   "source": [
    "df1['cleaned_Inbuilt_memory'].unique()"
   ]
  },
  {
   "cell_type": "code",
   "execution_count": 125,
   "metadata": {},
   "outputs": [],
   "source": [
    "df1['cleaned_Inbuilt_memory'] = df1['cleaned_Inbuilt_memory'].astype(int)"
   ]
  },
  {
   "cell_type": "code",
   "execution_count": 126,
   "metadata": {},
   "outputs": [],
   "source": [
    "df1['cleaned_Inbuilt_memory'] = df1['cleaned_Inbuilt_memory'].apply(lambda x:x + 999 if x == 1 else x)"
   ]
  },
  {
   "cell_type": "code",
   "execution_count": 127,
   "metadata": {},
   "outputs": [
    {
     "data": {
      "text/plain": [
       "<Axes: xlabel='cleaned_Inbuilt_memory'>"
      ]
     },
     "execution_count": 127,
     "metadata": {},
     "output_type": "execute_result"
    },
    {
     "data": {
      "image/png": "[encoded data removed]",
      "text/plain": [
       "<Figure size 640x480 with 1 Axes>"
      ]
     },
     "metadata": {},
     "output_type": "display_data"
    }
   ],
   "source": [
    "df1['cleaned_Inbuilt_memory'].value_counts().plot(kind='bar')"
   ]
  },
  {
   "cell_type": "markdown",
   "metadata": {},
   "source": [
    "## fast_charging\n",
    "#### changes\n",
    "- convert dtype into int\n",
    "- removed unnecessary string\n",
    "- filled null values with mean\n",
    "#### observation \n",
    "- most of the phone has 18 to 100 w charger"
   ]
  },
  {
   "cell_type": "code",
   "execution_count": 128,
   "metadata": {},
   "outputs": [
    {
     "data": {
      "text/plain": [
       "np.int64(89)"
      ]
     },
     "execution_count": 128,
     "metadata": {},
     "output_type": "execute_result"
    }
   ],
   "source": [
    "df1['fast_charging'].isnull().sum()"
   ]
  },
  {
   "cell_type": "code",
   "execution_count": 129,
   "metadata": {},
   "outputs": [
    {
     "data": {
      "text/plain": [
       "count                   1280\n",
       "unique                    38\n",
       "top        18W Fast Charging\n",
       "freq                     157\n",
       "Name: fast_charging, dtype: object"
      ]
     },
     "execution_count": 129,
     "metadata": {},
     "output_type": "execute_result"
    }
   ],
   "source": [
    "df1['fast_charging'].describe()"
   ]
  },
  {
   "cell_type": "code",
   "execution_count": 130,
   "metadata": {},
   "outputs": [
    {
     "data": {
      "text/plain": [
       "0        25W Fast Charging\n",
       "1        15W Fast Charging\n",
       "2        25W Fast Charging\n",
       "3                      NaN\n",
       "4        15W Fast Charging\n",
       "               ...        \n",
       "1365     15W Fast Charging\n",
       "1366     33W Fast Charging\n",
       "1367     18W Fast Charging\n",
       "1368     15W Fast Charging\n",
       "1369     67W Fast Charging\n",
       "Name: fast_charging, Length: 1369, dtype: object"
      ]
     },
     "execution_count": 130,
     "metadata": {},
     "output_type": "execute_result"
    }
   ],
   "source": [
    "df1['fast_charging']"
   ]
  },
  {
   "cell_type": "code",
   "execution_count": 131,
   "metadata": {},
   "outputs": [],
   "source": [
    "df1['fast_charging'] = df1['fast_charging'].astype(str)\n",
    "def remove_first_space(data):\n",
    "    if data.startswith(' '):\n",
    "        return data[1:]  # Return the string starting from the second character\n",
    "    else:\n",
    "        return data \n",
    "    \n",
    "df1['cleaned_fast_charging'] = df1['fast_charging'].apply(remove_first_space)"
   ]
  },
  {
   "cell_type": "code",
   "execution_count": 132,
   "metadata": {},
   "outputs": [
    {
     "data": {
      "text/plain": [
       "cleaned_fast_charging\n",
       "18W Fast Charging      157\n",
       "33W Fast Charging      143\n",
       "67W Fast Charging      101\n",
       "25W Fast Charging       97\n",
       "nan                     89\n",
       "80W Fast Charging       78\n",
       "100W Fast Charging      70\n",
       "66W Fast Charging       66\n",
       "120W Fast Charging      65\n",
       "44W Fast Charging       61\n",
       "15W Fast Charging       61\n",
       "45W Fast Charging       58\n",
       "65W Fast Charging       50\n",
       "30W Fast Charging       44\n",
       "Fast Charging           39\n",
       "10W Fast Charging       39\n",
       "150W Fast Charging      24\n",
       "22.5W Fast Charging     20\n",
       "68W Fast Charging       20\n",
       "40W Fast Charging       17\n",
       "35W Fast Charging       14\n",
       "125W Fast Charging      12\n",
       "20W Fast Charging       11\n",
       "200W Fast Charging       7\n",
       "240W Fast Charging       3\n",
       "88W Fast Charging        3\n",
       "55W Fast Charging        3\n",
       "90W Fast Charging        3\n",
       "27W Fast Charging        2\n",
       "50W Fast Charging        2\n",
       "250W Fast Charging       2\n",
       "57W Fast Charging        1\n",
       "60W Fast Charging        1\n",
       "68.2W Fast Charging      1\n",
       "08W Fast Charging        1\n",
       "135W Fast Charging       1\n",
       "70W Fast Charging        1\n",
       "Water Drop Notch         1\n",
       "7.5W Fast Charging       1\n",
       "Name: count, dtype: int64"
      ]
     },
     "execution_count": 132,
     "metadata": {},
     "output_type": "execute_result"
    }
   ],
   "source": [
    "df1['cleaned_fast_charging'].value_counts()"
   ]
  },
  {
   "cell_type": "code",
   "execution_count": 133,
   "metadata": {},
   "outputs": [],
   "source": [
    "df1['cleaned_fast_charging'] = df1['cleaned_fast_charging'].str.split(' ').str.get(0)"
   ]
  },
  {
   "cell_type": "code",
   "execution_count": 134,
   "metadata": {},
   "outputs": [
    {
     "data": {
      "text/plain": [
       "array(['25W', '15W', 'nan', '18W', '30W', 'Fast', '45W', '33W', '67W',\n",
       "       '80W', '10W', '44W', '66W', '100W', '120W', '150W', '55W', '200W',\n",
       "       '65W', '60W', '20W', '50W', '57W', '240W', '125W', '68W', '250W',\n",
       "       '27W', '35W', '22.5W', '40W', '90W', '08W', '68.2W', '135W', '70W',\n",
       "       'Water', '88W', '7.5W'], dtype=object)"
      ]
     },
     "execution_count": 134,
     "metadata": {},
     "output_type": "execute_result"
    }
   ],
   "source": [
    "df1['cleaned_fast_charging'].unique()"
   ]
  },
  {
   "cell_type": "code",
   "execution_count": 135,
   "metadata": {},
   "outputs": [],
   "source": [
    "def remove_extra_strings(df1):\n",
    "    if df1.startswith('Water') or df1.startswith('Fast') or df1.startswith('nan'):\n",
    "        return 0\n",
    "    else:\n",
    "        return df1"
   ]
  },
  {
   "cell_type": "code",
   "execution_count": 136,
   "metadata": {},
   "outputs": [],
   "source": [
    "df1['cleaned_fast_charging'] = df1['cleaned_fast_charging'].apply(remove_extra_strings)"
   ]
  },
  {
   "cell_type": "code",
   "execution_count": 137,
   "metadata": {},
   "outputs": [
    {
     "data": {
      "text/plain": [
       "array(['25W', '15W', 0, '18W', '30W', '45W', '33W', '67W', '80W', '10W',\n",
       "       '44W', '66W', '100W', '120W', '150W', '55W', '200W', '65W', '60W',\n",
       "       '20W', '50W', '57W', '240W', '125W', '68W', '250W', '27W', '35W',\n",
       "       '22.5W', '40W', '90W', '08W', '68.2W', '135W', '70W', '88W',\n",
       "       '7.5W'], dtype=object)"
      ]
     },
     "execution_count": 137,
     "metadata": {},
     "output_type": "execute_result"
    }
   ],
   "source": [
    "df1['cleaned_fast_charging'].unique()"
   ]
  },
  {
   "cell_type": "code",
   "execution_count": 138,
   "metadata": {},
   "outputs": [],
   "source": [
    "df1['cleaned_fast_charging'] = list(map(lambda x: str(x).replace('W', '') if isinstance(x, str) else x, df1['cleaned_fast_charging']))"
   ]
  },
  {
   "cell_type": "code",
   "execution_count": 139,
   "metadata": {},
   "outputs": [
    {
     "data": {
      "text/plain": [
       "array(['25', '15', 0, '18', '30', '45', '33', '67', '80', '10', '44',\n",
       "       '66', '100', '120', '150', '55', '200', '65', '60', '20', '50',\n",
       "       '57', '240', '125', '68', '250', '27', '35', '22.5', '40', '90',\n",
       "       '08', '68.2', '135', '70', '88', '7.5'], dtype=object)"
      ]
     },
     "execution_count": 139,
     "metadata": {},
     "output_type": "execute_result"
    }
   ],
   "source": [
    "df1['cleaned_fast_charging'].unique()"
   ]
  },
  {
   "cell_type": "code",
   "execution_count": 140,
   "metadata": {},
   "outputs": [
    {
     "data": {
      "text/plain": [
       "np.int64(0)"
      ]
     },
     "execution_count": 140,
     "metadata": {},
     "output_type": "execute_result"
    }
   ],
   "source": [
    "df1['cleaned_fast_charging'].isnull().sum()"
   ]
  },
  {
   "cell_type": "code",
   "execution_count": 141,
   "metadata": {},
   "outputs": [],
   "source": [
    "df1['cleaned_fast_charging'] = df1['cleaned_fast_charging'].astype(float)"
   ]
  },
  {
   "cell_type": "code",
   "execution_count": 142,
   "metadata": {},
   "outputs": [],
   "source": [
    "mean = df1['cleaned_fast_charging'].mean()"
   ]
  },
  {
   "cell_type": "code",
   "execution_count": 143,
   "metadata": {},
   "outputs": [
    {
     "data": {
      "text/plain": [
       "np.float64(47.83104455807158)"
      ]
     },
     "execution_count": 143,
     "metadata": {},
     "output_type": "execute_result"
    }
   ],
   "source": [
    "mean"
   ]
  },
  {
   "cell_type": "code",
   "execution_count": 144,
   "metadata": {},
   "outputs": [],
   "source": [
    "df1['cleaned_fast_charging'] = df1['cleaned_fast_charging'].fillna(mean)"
   ]
  },
  {
   "cell_type": "code",
   "execution_count": 145,
   "metadata": {},
   "outputs": [],
   "source": [
    "df1['cleaned_fast_charging']  = df1['cleaned_fast_charging'].apply(lambda x: x+47 if x == 0 else x)"
   ]
  },
  {
   "cell_type": "code",
   "execution_count": 146,
   "metadata": {},
   "outputs": [],
   "source": [
    "df1['cleaned_fast_charging'] = df1['cleaned_fast_charging'].round()"
   ]
  },
  {
   "cell_type": "code",
   "execution_count": 147,
   "metadata": {},
   "outputs": [],
   "source": [
    "df1['cleaned_fast_charging'] = df1['cleaned_fast_charging'].astype(int)\n"
   ]
  },
  {
   "cell_type": "code",
   "execution_count": 148,
   "metadata": {},
   "outputs": [
    {
     "data": {
      "text/plain": [
       "array([ 25,  15,  47,  18,  30,  45,  33,  67,  80,  10,  44,  66, 100,\n",
       "       120, 150,  55, 200,  65,  60,  20,  50,  57, 240, 125,  68, 250,\n",
       "        27,  35,  22,  40,  90,   8, 135,  70,  88])"
      ]
     },
     "execution_count": 148,
     "metadata": {},
     "output_type": "execute_result"
    }
   ],
   "source": [
    "df1['cleaned_fast_charging'].unique()"
   ]
  },
  {
   "cell_type": "code",
   "execution_count": 149,
   "metadata": {},
   "outputs": [
    {
     "data": {
      "text/plain": [
       "<Axes: ylabel='cleaned_fast_charging'>"
      ]
     },
     "execution_count": 149,
     "metadata": {},
     "output_type": "execute_result"
    },
    {
     "data": {
      "image/png": "[encoded data removed]",
      "text/plain": [
       "<Figure size 600x600 with 1 Axes>"
      ]
     },
     "metadata": {},
     "output_type": "display_data"
    }
   ],
   "source": [
    "df1['cleaned_fast_charging'].value_counts().plot(kind='barh', figsize=(6,6))"
   ]
  },
  {
   "cell_type": "markdown",
   "metadata": {},
   "source": [
    "## screen_resolution \n",
    "#### changes \n",
    "- removed extra string\n",
    "- created new feature total px\n",
    "#### observation\n",
    "- most of the phone has high px"
   ]
  },
  {
   "cell_type": "code",
   "execution_count": 150,
   "metadata": {},
   "outputs": [
    {
     "data": {
      "text/plain": [
       "np.int64(2)"
      ]
     },
     "execution_count": 150,
     "metadata": {},
     "output_type": "execute_result"
    }
   ],
   "source": [
    "df1['Screen_resolution'].isnull().sum()"
   ]
  },
  {
   "cell_type": "code",
   "execution_count": 151,
   "metadata": {},
   "outputs": [
    {
     "data": {
      "text/plain": [
       "0        2408 x 1080 px Display with Water Drop Notch\n",
       "1               720 x 1560 px Display with Punch Hole\n",
       "2        1080 x 2408 px Display with Water Drop Notch\n",
       "3                                       720 x 1600 px\n",
       "4         720 x 1600 px Display with Water Drop Notch\n",
       "                            ...                      \n",
       "1365                                    720 x 1612 px\n",
       "1366                                   1200 x 2400 px\n",
       "1367                                    720 x 1612 px\n",
       "1368                                    720 x 1612 px\n",
       "1369                                   1916 x 2160 px\n",
       "Name: Screen_resolution, Length: 1369, dtype: object"
      ]
     },
     "execution_count": 151,
     "metadata": {},
     "output_type": "execute_result"
    }
   ],
   "source": [
    "df1['Screen_resolution']"
   ]
  },
  {
   "cell_type": "code",
   "execution_count": 152,
   "metadata": {},
   "outputs": [],
   "source": [
    "# Function to extract total pixels\n",
    "def extract_total_px(resolution):\n",
    "    if pd.isna(resolution):\n",
    "        return 0  # Return 0 for NaN values\n",
    "    resolution = resolution.strip()  # Remove leading and trailing spaces\n",
    "    parts = resolution.split(' ')\n",
    "    if len(parts) >= 3:\n",
    "        try:\n",
    "            return int(parts[0]) * int(parts[2])  # Multiply first and third elements\n",
    "        except ValueError:\n",
    "            return 0  # Handle cases where conversion fails\n",
    "    else:\n",
    "        return 0  # Return 0 if format is unexpected\n",
    "\n",
    "# Apply the function to create the total_px column\n",
    "df1['total_px'] = df1['Screen_resolution'].apply(extract_total_px)"
   ]
  },
  {
   "cell_type": "code",
   "execution_count": 153,
   "metadata": {},
   "outputs": [
    {
     "data": {
      "text/plain": [
       "np.float64(2562400.619430241)"
      ]
     },
     "execution_count": 153,
     "metadata": {},
     "output_type": "execute_result"
    }
   ],
   "source": [
    "mean = df1['total_px'].mean()\n",
    "mean"
   ]
  },
  {
   "cell_type": "code",
   "execution_count": 154,
   "metadata": {},
   "outputs": [],
   "source": [
    "df1['total_px'] = df1['total_px'].apply(lambda x: x+2563520 if x == 0 else x)"
   ]
  },
  {
   "cell_type": "code",
   "execution_count": 155,
   "metadata": {},
   "outputs": [
    {
     "data": {
      "text/plain": [
       "<Axes: ylabel='Frequency'>"
      ]
     },
     "execution_count": 155,
     "metadata": {},
     "output_type": "execute_result"
    },
    {
     "data": {
      "image/png": "[encoded data removed]",
      "text/plain": [
       "<Figure size 640x480 with 1 Axes>"
      ]
     },
     "metadata": {},
     "output_type": "display_data"
    }
   ],
   "source": [
    "df1['total_px'].plot(kind='hist')"
   ]
  },
  {
   "cell_type": "markdown",
   "metadata": {},
   "source": [
    "## processor \n",
    "#### cahnges\n",
    "- since almost all phone has same processor , the colunm is not defining anything\n",
    "so we dropping the colunm"
   ]
  },
  {
   "cell_type": "code",
   "execution_count": 156,
   "metadata": {},
   "outputs": [
    {
     "data": {
      "text/plain": [
       "0        Octa Core Processor\n",
       "1          1.8 GHz Processor\n",
       "2            2 GHz Processor\n",
       "3                  Octa Core\n",
       "4                  Octa Core\n",
       "                ...         \n",
       "1365               Octa Core\n",
       "1366               Octa Core\n",
       "1367               Octa Core\n",
       "1368               Octa Core\n",
       "1369               Octa Core\n",
       "Name: Processor, Length: 1369, dtype: object"
      ]
     },
     "execution_count": 156,
     "metadata": {},
     "output_type": "execute_result"
    }
   ],
   "source": [
    "df1['Processor']"
   ]
  },
  {
   "cell_type": "code",
   "execution_count": 157,
   "metadata": {},
   "outputs": [],
   "source": [
    "df1 = df1.drop('Processor', axis=1)"
   ]
  },
  {
   "cell_type": "markdown",
   "metadata": {},
   "source": [
    "## processor_name\n",
    "#### cahnges\n",
    "- categories processor_name into category based on top 5 processors\n",
    "#### observation\n",
    "- top 5 processors are 'Exynos', 'Octa', 'Helio', 'Dimensity', 'Snapdragon'"
   ]
  },
  {
   "cell_type": "code",
   "execution_count": 158,
   "metadata": {},
   "outputs": [
    {
     "data": {
      "text/plain": [
       "0             Exynos 1330\n",
       "1               Octa Core\n",
       "2               Octa Core\n",
       "3               Helio G88\n",
       "4               Helio P35\n",
       "              ...        \n",
       "1365     Dimensity 700 5G\n",
       "1366       Dimensity 7050\n",
       "1367       Dimensity 6080\n",
       "1368       Dimensity 6020\n",
       "1369    Snapdragon 8 Gen2\n",
       "Name: Processor_name, Length: 1369, dtype: object"
      ]
     },
     "execution_count": 158,
     "metadata": {},
     "output_type": "execute_result"
    }
   ],
   "source": [
    "df1['Processor_name']"
   ]
  },
  {
   "cell_type": "code",
   "execution_count": 159,
   "metadata": {},
   "outputs": [
    {
     "data": {
      "text/plain": [
       "np.int64(0)"
      ]
     },
     "execution_count": 159,
     "metadata": {},
     "output_type": "execute_result"
    }
   ],
   "source": [
    "df1['Processor_name'].isnull().sum()"
   ]
  },
  {
   "cell_type": "code",
   "execution_count": 160,
   "metadata": {},
   "outputs": [
    {
     "data": {
      "text/plain": [
       "276"
      ]
     },
     "execution_count": 160,
     "metadata": {},
     "output_type": "execute_result"
    }
   ],
   "source": [
    "df1['Processor_name'].nunique()"
   ]
  },
  {
   "cell_type": "code",
   "execution_count": 161,
   "metadata": {},
   "outputs": [
    {
     "data": {
      "text/plain": [
       "<Axes: xlabel='Processor_name'>"
      ]
     },
     "execution_count": 161,
     "metadata": {},
     "output_type": "execute_result"
    },
    {
     "data": {
      "image/png": "[encoded data removed]",
      "text/plain": [
       "<Figure size 640x480 with 1 Axes>"
      ]
     },
     "metadata": {},
     "output_type": "display_data"
    }
   ],
   "source": [
    "df1['Processor_name'].value_counts().plot(kind='bar')"
   ]
  },
  {
   "cell_type": "code",
   "execution_count": 162,
   "metadata": {},
   "outputs": [
    {
     "data": {
      "text/plain": [
       "array(['Exynos 1330', 'Octa Core', 'Helio G88', 'Helio P35',\n",
       "       'Dimensity 700', 'Exynos 9611', 'Exynos  850', 'Exynos 1280',\n",
       "       'Snapdragon 695', 'Exynos 850', 'Helio P65', 'Octa Core Processor',\n",
       "       'Snapdragon 680', 'Helio G80', 'Samsung Exynos 7884',\n",
       "       'Dimensity 6100 Plus', 'Dimensity 700 5G', 'Snapdragon  680',\n",
       "       'Snapdragon 888', 'Exynos 1380', 'Snapdragon 865', 'Exynos 980',\n",
       "       'Snapdragon 730', 'Snapdragon 675', 'Snapdragon 7 Gen1',\n",
       "       'Snapdragon 750G', 'Snapdragon 855+', 'Snapdragon 870',\n",
       "       'Snapdragon 710', 'Exynos 1480', 'Snapdragon  720G ',\n",
       "       'Snapdragon 778g', 'Exynos 2200', 'Snapdragon 7+ Gen2',\n",
       "       'Snapdragon 8 Gen 2', 'Exynos 9825', 'Snapdragon 7s Gen2',\n",
       "       'Exynos 2100', 'Dimensity 1300', 'Snapdragon 778G+',\n",
       "       'Snapdragon 778G', 'Exynos 2300', 'Snapdragon 8+ Gen1',\n",
       "       'Snapdragon 8 Gen3', 'Snapdragon  8+ Gen1', 'Snapdragon  8 Gen1',\n",
       "       'Exynos 990', 'Snapdragon 855', 'Exynos 8895', 'Exynos  2100',\n",
       "       'Exynos 9810', 'Snapdragon 8 Gen2', 'Helio G85', 'Helio P22',\n",
       "       'Helio MT6580', 'Snapdragon  439 ', 'Helio', 'Snapdragon  675',\n",
       "       'Snapdragon 450', 'Dimensity 6020', 'Helio  P22', 'Helio G70',\n",
       "       'Snapdragon 680 ', 'Snapdragon 460', 'Snapdragon 430',\n",
       "       'Helio  P70  ', 'Snapdragon MSM8937', 'Snapdragon 6 Gen1',\n",
       "       'Snapdragon 7 Gen2', 'Dimensity 7200', 'Snapdragon 4 Gen2',\n",
       "       'Snapdragon 685', 'Helio G99', 'Dimensity 1200', 'Dimensity 800U ',\n",
       "       'Snapdragon', 'Snapdragon 765G ', 'Dimensity 8200',\n",
       "       'Snapdragon 7 Gen3', 'Snapdragon 782G', 'Dimensity 9300',\n",
       "       'Dimensity 9200', 'Dimensity 1100', 'Dimensity  8200',\n",
       "       'Dimensity 9000 Plus', 'Dimensity 8300', 'Dimensity 9300 Plus',\n",
       "       'Dimensity  9200 Plus', 'Snapdragon  888+', 'Dimensity  9000',\n",
       "       'Dimensity 9400', 'Snapdragon 888 ', 'Snapdragon 8 Gen1',\n",
       "       'Unisoc SC9863A', 'Helio G35', 'Tiger T612', 'Unisoc T610',\n",
       "       'SC9863A', 'Unisoc  SC9863A', 'Snapdragon  665', 'Unisoc T612',\n",
       "       'Tiger  T616', 'Tiger  T610', 'Helio G96', 'Helio G36',\n",
       "       'Snapdragon 662', 'Helio  G35', 'Dimensity 6300', 'Helio G85 ',\n",
       "       'Helio  G95', 'Helio G95', 'Dimensity 810 5G', 'Dimensity  810 5G',\n",
       "       'No Wifi', 'Dimensity 7025', 'Dimensity  700 5G', 'Snapdragon 712',\n",
       "       'Dimensity 7050', 'Snapdragon 720G ', 'Snapdragon  7 Gen1',\n",
       "       'Snapdragon 7+ Gen3', 'Snapdragon  695', 'Dimensity  8100',\n",
       "       'Snapdragon  778G', 'Dimensity 1000+', 'Snapdragon 7s Gen3',\n",
       "       'Dimensity 6080', 'Snapdragon  888 ', 'Snapdragon 8s Gen3',\n",
       "       'Snapdragon 8 Gen4', 'Snapdragon 8 Gen1 Plus', 'Dimensity 7020',\n",
       "       'Snapdragon  730G', 'Snapdragon 480', 'Snapdragon 662 ',\n",
       "       'Dimensity 800U', 'Snapdragon  765G ', 'Dimensity 900',\n",
       "       'Dimensity  1200 Max', 'Dimensity 8100 Max', 'Dimensity 8100-Max',\n",
       "       'Dimensity 9200 Plus', 'Snapdragon 765G', 'Snapdragon  865 ',\n",
       "       'Dimensity 9000', 'Snapdragon  4 Gen 1', 'Snapdragon  695 ',\n",
       "       'Snapdragon 480+', 'Snapdragon 6 Gen 1', 'Snapdragon  778G Plus',\n",
       "       'Snapdragon  870', 'Helio  G85', 'Helio A22', 'Helio G25',\n",
       "       'Helio G37', 'Helio G91', 'Snapdragon 720G', 'Snapdragon 665',\n",
       "       'Snapdragon  732G', 'Snapdragon 695 ', 'Dimensity 920',\n",
       "       'Snapdragon 7s Gen 2', 'Dimensity 8300 Ultra', 'Dimensity 8100',\n",
       "       'Snapdragon  480+', 'Dimensity 7030', 'Dimensity  1100',\n",
       "       'Snapdragon 7 Gen 1 Accelerated Edition', 'Dimensity 8000',\n",
       "       'Exynos 1080', 'Snapdragon 8 Gen 1', 'Dimensity 7200 Pro',\n",
       "       'Snapdragon 778G Plus', 'Qualcomm Snapdragon 670', 'Tensor G2',\n",
       "       'Google  Tensor', 'Google Tensor G2', 'Tensor G3',\n",
       "       'Google Tensor 4', 'Google  Tensor G2', 'Google Tensor G4',\n",
       "       'Google Tensor 2', 'Quad Core', 'Unisoc T606', 'Unisoc T603',\n",
       "       ' Unisoc T606', 'Snapdragon  8 Gen1 Plus', 'Snapdragon 865+',\n",
       "       'Snapdragon  765G', 'Snapdragon  865', 'Helio P25',\n",
       "       'Qualcomm Snapdragon 450', 'Helio P60', 'Tiger T610', 'Tiger T310',\n",
       "       'Unisoc  SC9836A', 'Snapdragon  439', 'Unisoc  T606',\n",
       "       'Helio MT6737T', 'Snapdragon  450 ', 'Exynos 1280 ', 'Exynos',\n",
       "       'Snapdragon  750G', 'Exynos  1280', 'Dimensity 1080',\n",
       "       'Exynos 2400', 'Snapdragon  480 ', 'Helio P35 ',\n",
       "       'Snapdragon 4 Gen1', 'Dimensity  900', 'Tiger T616', 'Tiger T606',\n",
       "       'Snapdragon 636', 'Helio  G37', 'Helio  G99', 'Snapdragon SM4375',\n",
       "       'Dimensity 8020', 'Snapdragon  7+ Gen2', 'Snapdragon  778G ',\n",
       "       'Snapdragon 888+ ', 'Snapdragon  750G ', 'Snapdragon 888+',\n",
       "       ' Dimensity 7030', 'Snapdragon  6 Gen 1', 'Dimensity 1050',\n",
       "       'Snapdragon 8+ Gen2', 'Dimensity 930', 'Snapdragon (4 nm)',\n",
       "       'Snapdragon 460 ', 'Snapdragon  782G', 'Snapdragon 695 5G',\n",
       "       'Snapdragon 690', 'Dimensity  1300', 'Snapdragon  855+',\n",
       "       'Dimensity  1200 AI', 'Snapdragon  8 Gen4', 'Snapdragon  8 Gen2',\n",
       "       'Helio  G25', 'Unisoc SC9832E', 'Snapdragon 4 Gen 1',\n",
       "       'Snapdragon  712', 'Dimensity 700 ', 'Snapdragon  662 ',\n",
       "       'Helio  G96', 'Snapdragon 732G', 'Snapdragon 732G ',\n",
       "       'Snapdragon 678', 'Dimensity 8200 Ultra ', 'Dimensity 7200 Ultra',\n",
       "       'Dimensity  920 5G', 'Helio G99 Ultra', 'Dimensity (4 nm)',\n",
       "       'Dimensity 8050', 'Kirin 710A', 'Kirin  710A', 'Snapdragon (6 nm)',\n",
       "       'Snapdragon 778G 4G', '4 GB RAM', 'Sanpdragon 680', 'Kirin  710F',\n",
       "       'Kirin 830', 'Kirin 9000S', 'Kirin', 'Snapdragon 8+ Gen 1',\n",
       "       'Kirin 9010', 'Snapdragon 8+ Gen 1 ', 'Kirin  990', 'Kirin 9000E',\n",
       "       'Kirin  9000', 'Kirin 990', ' Helio G36', 'Snapdragon  888',\n",
       "       'Tiger   T616', 'Tiger  T616 ', 'Helio  A22', 'Helio A25'],\n",
       "      dtype=object)"
      ]
     },
     "execution_count": 162,
     "metadata": {},
     "output_type": "execute_result"
    }
   ],
   "source": [
    "df1['Processor_name'].unique()"
   ]
  },
  {
   "cell_type": "code",
   "execution_count": 163,
   "metadata": {},
   "outputs": [],
   "source": [
    "df1['Processor_name'] = df1['Processor_name'].str.split(' ').str.get(0)"
   ]
  },
  {
   "cell_type": "code",
   "execution_count": 164,
   "metadata": {},
   "outputs": [
    {
     "data": {
      "text/plain": [
       "Processor_name\n",
       "Snapdragon    647\n",
       "Dimensity     315\n",
       "Helio         203\n",
       "Exynos         65\n",
       "Octa           33\n",
       "Unisoc         30\n",
       "Kirin          24\n",
       "Tiger          20\n",
       "Google         10\n",
       "Tensor          9\n",
       "                4\n",
       "Sanpdragon      2\n",
       "Qualcomm        2\n",
       "Samsung         1\n",
       "No              1\n",
       "SC9863A         1\n",
       "Quad            1\n",
       "4               1\n",
       "Name: count, dtype: int64"
      ]
     },
     "execution_count": 164,
     "metadata": {},
     "output_type": "execute_result"
    }
   ],
   "source": [
    "df1['Processor_name'].value_counts()"
   ]
  },
  {
   "cell_type": "code",
   "execution_count": 165,
   "metadata": {},
   "outputs": [],
   "source": [
    "def processor_cat(processor):\n",
    "    if processor.startswith('Snapdragon'):\n",
    "        return 'Snapdragon'\n",
    "    elif processor.startswith('Exynos'):\n",
    "        return 'Exynos'\n",
    "    elif processor.startswith('Helio'):\n",
    "        return 'Helio'\n",
    "    elif processor.startswith('Dimensity'):\n",
    "        return 'Dimensity'\n",
    "    elif processor.startswith('Octa'):\n",
    "        return 'Octa'\n",
    "    elif processor.startswith('Unisoc'):\n",
    "        return 'Unisoc'\n",
    "    else:\n",
    "        return 'Other'"
   ]
  },
  {
   "cell_type": "code",
   "execution_count": 166,
   "metadata": {},
   "outputs": [],
   "source": [
    "df1['Processor_name'] = df1['Processor_name'].apply(processor_cat)"
   ]
  },
  {
   "cell_type": "code",
   "execution_count": 167,
   "metadata": {},
   "outputs": [
    {
     "data": {
      "text/plain": [
       "array(['Exynos', 'Octa', 'Helio', 'Dimensity', 'Snapdragon', 'Other',\n",
       "       'Unisoc'], dtype=object)"
      ]
     },
     "execution_count": 167,
     "metadata": {},
     "output_type": "execute_result"
    }
   ],
   "source": [
    "df1['Processor_name'].unique()"
   ]
  },
  {
   "cell_type": "code",
   "execution_count": 168,
   "metadata": {},
   "outputs": [
    {
     "data": {
      "text/plain": [
       "<Axes: xlabel='Processor_name'>"
      ]
     },
     "execution_count": 168,
     "metadata": {},
     "output_type": "execute_result"
    },
    {
     "data": {
      "image/png": "[encoded data removed]",
      "text/plain": [
       "<Figure size 640x480 with 1 Axes>"
      ]
     },
     "metadata": {},
     "output_type": "display_data"
    }
   ],
   "source": [
    "df1['Processor_name'].value_counts().plot(kind = 'bar')"
   ]
  },
  {
   "cell_type": "markdown",
   "metadata": {},
   "source": [
    "## droping all unwanted columns and saving the data"
   ]
  },
  {
   "cell_type": "code",
   "execution_count": 169,
   "metadata": {},
   "outputs": [
    {
     "data": {
      "text/html": [
       "<div>\n",
       "<style scoped>\n",
       "    .dataframe tbody tr th:only-of-type {\n",
       "        vertical-align: middle;\n",
       "    }\n",
       "\n",
       "    .dataframe tbody tr th {\n",
       "        vertical-align: top;\n",
       "    }\n",
       "\n",
       "    .dataframe thead th {\n",
       "        text-align: right;\n",
       "    }\n",
       "</style>\n",
       "<table border=\"1\" class=\"dataframe\">\n",
       "  <thead>\n",
       "    <tr style=\"text-align: right;\">\n",
       "      <th></th>\n",
       "      <th>Name</th>\n",
       "      <th>Rating</th>\n",
       "      <th>Spec_score</th>\n",
       "      <th>No_of_sim</th>\n",
       "      <th>Ram</th>\n",
       "      <th>Battery</th>\n",
       "      <th>Display</th>\n",
       "      <th>Camera</th>\n",
       "      <th>External_Memory</th>\n",
       "      <th>Android_version</th>\n",
       "      <th>Price</th>\n",
       "      <th>company</th>\n",
       "      <th>Inbuilt_memory</th>\n",
       "      <th>fast_charging</th>\n",
       "      <th>Screen_resolution</th>\n",
       "      <th>Processor_name</th>\n",
       "      <th>Model</th>\n",
       "      <th>sim_slot</th>\n",
       "      <th>network_3g</th>\n",
       "      <th>network_4g</th>\n",
       "      <th>network_5g</th>\n",
       "      <th>cleaned_RAM</th>\n",
       "      <th>Battery_mAh</th>\n",
       "      <th>Display_inches</th>\n",
       "      <th>rear_camera</th>\n",
       "      <th>front_camera</th>\n",
       "      <th>cleaned_External_Memory</th>\n",
       "      <th>cleaned_Inbuilt_memory</th>\n",
       "      <th>cleaned_fast_charging</th>\n",
       "      <th>total_px</th>\n",
       "    </tr>\n",
       "  </thead>\n",
       "  <tbody>\n",
       "    <tr>\n",
       "      <th>0</th>\n",
       "      <td>Samsung Galaxy F14 5G</td>\n",
       "      <td>4.65</td>\n",
       "      <td>68</td>\n",
       "      <td>Dual Sim, 3G, 4G, 5G, VoLTE,</td>\n",
       "      <td>4 GB RAM</td>\n",
       "      <td>6000 mAh Battery</td>\n",
       "      <td>6.6 inches</td>\n",
       "      <td>50 MP + 2 MP Dual Rear &amp;amp; 13 MP Front Camera</td>\n",
       "      <td>Memory Card Supported, upto 1 TB</td>\n",
       "      <td>13.0</td>\n",
       "      <td>9999</td>\n",
       "      <td>Samsung</td>\n",
       "      <td>128 GB inbuilt</td>\n",
       "      <td>25W Fast Charging</td>\n",
       "      <td>2408 x 1080 px Display with Water Drop Notch</td>\n",
       "      <td>Exynos</td>\n",
       "      <td>Galaxy F14</td>\n",
       "      <td>Dual</td>\n",
       "      <td>1</td>\n",
       "      <td>1</td>\n",
       "      <td>1</td>\n",
       "      <td>4</td>\n",
       "      <td>6000</td>\n",
       "      <td>6.6</td>\n",
       "      <td>50</td>\n",
       "      <td>13</td>\n",
       "      <td>1000</td>\n",
       "      <td>128</td>\n",
       "      <td>25</td>\n",
       "      <td>2600640</td>\n",
       "    </tr>\n",
       "  </tbody>\n",
       "</table>\n",
       "</div>"
      ],
      "text/plain": [
       "                    Name  Rating  Spec_score                      No_of_sim  \\\n",
       "0  Samsung Galaxy F14 5G    4.65          68  Dual Sim, 3G, 4G, 5G, VoLTE,    \n",
       "\n",
       "        Ram            Battery     Display  \\\n",
       "0  4 GB RAM  6000 mAh Battery   6.6 inches   \n",
       "\n",
       "                                            Camera  \\\n",
       "0  50 MP + 2 MP Dual Rear &amp; 13 MP Front Camera   \n",
       "\n",
       "                    External_Memory  Android_version  Price  company  \\\n",
       "0  Memory Card Supported, upto 1 TB             13.0   9999  Samsung   \n",
       "\n",
       "    Inbuilt_memory       fast_charging  \\\n",
       "0   128 GB inbuilt   25W Fast Charging   \n",
       "\n",
       "                               Screen_resolution Processor_name       Model  \\\n",
       "0   2408 x 1080 px Display with Water Drop Notch         Exynos  Galaxy F14   \n",
       "\n",
       "  sim_slot  network_3g  network_4g  network_5g  cleaned_RAM  Battery_mAh  \\\n",
       "0     Dual           1           1           1            4         6000   \n",
       "\n",
       "   Display_inches rear_camera front_camera  cleaned_External_Memory  \\\n",
       "0             6.6          50           13                     1000   \n",
       "\n",
       "   cleaned_Inbuilt_memory  cleaned_fast_charging  total_px  \n",
       "0                     128                     25   2600640  "
      ]
     },
     "execution_count": 169,
     "metadata": {},
     "output_type": "execute_result"
    }
   ],
   "source": [
    "df1.head(1)"
   ]
  },
  {
   "cell_type": "code",
   "execution_count": 170,
   "metadata": {},
   "outputs": [
    {
     "data": {
      "text/plain": [
       "Index(['Name', 'Rating', 'Spec_score', 'No_of_sim', 'Ram', 'Battery',\n",
       "       'Display', 'Camera', 'External_Memory', 'Android_version', 'Price',\n",
       "       'company', 'Inbuilt_memory', 'fast_charging', 'Screen_resolution',\n",
       "       'Processor_name', 'Model', 'sim_slot', 'network_3g', 'network_4g',\n",
       "       'network_5g', 'cleaned_RAM', 'Battery_mAh', 'Display_inches',\n",
       "       'rear_camera', 'front_camera', 'cleaned_External_Memory',\n",
       "       'cleaned_Inbuilt_memory', 'cleaned_fast_charging', 'total_px'],\n",
       "      dtype='object')"
      ]
     },
     "execution_count": 170,
     "metadata": {},
     "output_type": "execute_result"
    }
   ],
   "source": [
    "df1.columns"
   ]
  },
  {
   "cell_type": "code",
   "execution_count": 171,
   "metadata": {},
   "outputs": [],
   "source": [
    "clean_data = df1.drop(['Name', 'No_of_sim', 'Ram', 'Battery','Display','Camera','External_Memory','Inbuilt_memory','fast_charging','Screen_resolution'], axis=1)"
   ]
  },
  {
   "cell_type": "code",
   "execution_count": 172,
   "metadata": {},
   "outputs": [
    {
     "data": {
      "text/html": [
       "<div>\n",
       "<style scoped>\n",
       "    .dataframe tbody tr th:only-of-type {\n",
       "        vertical-align: middle;\n",
       "    }\n",
       "\n",
       "    .dataframe tbody tr th {\n",
       "        vertical-align: top;\n",
       "    }\n",
       "\n",
       "    .dataframe thead th {\n",
       "        text-align: right;\n",
       "    }\n",
       "</style>\n",
       "<table border=\"1\" class=\"dataframe\">\n",
       "  <thead>\n",
       "    <tr style=\"text-align: right;\">\n",
       "      <th></th>\n",
       "      <th>Rating</th>\n",
       "      <th>Spec_score</th>\n",
       "      <th>Android_version</th>\n",
       "      <th>Price</th>\n",
       "      <th>company</th>\n",
       "      <th>Processor_name</th>\n",
       "      <th>Model</th>\n",
       "      <th>sim_slot</th>\n",
       "      <th>network_3g</th>\n",
       "      <th>network_4g</th>\n",
       "      <th>network_5g</th>\n",
       "      <th>cleaned_RAM</th>\n",
       "      <th>Battery_mAh</th>\n",
       "      <th>Display_inches</th>\n",
       "      <th>rear_camera</th>\n",
       "      <th>front_camera</th>\n",
       "      <th>cleaned_External_Memory</th>\n",
       "      <th>cleaned_Inbuilt_memory</th>\n",
       "      <th>cleaned_fast_charging</th>\n",
       "      <th>total_px</th>\n",
       "    </tr>\n",
       "  </thead>\n",
       "  <tbody>\n",
       "    <tr>\n",
       "      <th>0</th>\n",
       "      <td>4.65</td>\n",
       "      <td>68</td>\n",
       "      <td>13.0</td>\n",
       "      <td>9999</td>\n",
       "      <td>Samsung</td>\n",
       "      <td>Exynos</td>\n",
       "      <td>Galaxy F14</td>\n",
       "      <td>Dual</td>\n",
       "      <td>1</td>\n",
       "      <td>1</td>\n",
       "      <td>1</td>\n",
       "      <td>4</td>\n",
       "      <td>6000</td>\n",
       "      <td>6.6</td>\n",
       "      <td>50</td>\n",
       "      <td>13</td>\n",
       "      <td>1000</td>\n",
       "      <td>128</td>\n",
       "      <td>25</td>\n",
       "      <td>2600640</td>\n",
       "    </tr>\n",
       "    <tr>\n",
       "      <th>1</th>\n",
       "      <td>4.20</td>\n",
       "      <td>63</td>\n",
       "      <td>10.0</td>\n",
       "      <td>9990</td>\n",
       "      <td>Samsung</td>\n",
       "      <td>Octa</td>\n",
       "      <td>Galaxy A11</td>\n",
       "      <td>Dual</td>\n",
       "      <td>1</td>\n",
       "      <td>1</td>\n",
       "      <td>0</td>\n",
       "      <td>2</td>\n",
       "      <td>4000</td>\n",
       "      <td>6.4</td>\n",
       "      <td>13</td>\n",
       "      <td>8</td>\n",
       "      <td>512</td>\n",
       "      <td>32</td>\n",
       "      <td>15</td>\n",
       "      <td>1123200</td>\n",
       "    </tr>\n",
       "    <tr>\n",
       "      <th>2</th>\n",
       "      <td>4.30</td>\n",
       "      <td>75</td>\n",
       "      <td>12.0</td>\n",
       "      <td>11999</td>\n",
       "      <td>Samsung</td>\n",
       "      <td>Octa</td>\n",
       "      <td>Galaxy A13</td>\n",
       "      <td>Dual</td>\n",
       "      <td>1</td>\n",
       "      <td>1</td>\n",
       "      <td>0</td>\n",
       "      <td>4</td>\n",
       "      <td>5000</td>\n",
       "      <td>6.6</td>\n",
       "      <td>50</td>\n",
       "      <td>8</td>\n",
       "      <td>1000</td>\n",
       "      <td>64</td>\n",
       "      <td>25</td>\n",
       "      <td>2600640</td>\n",
       "    </tr>\n",
       "    <tr>\n",
       "      <th>3</th>\n",
       "      <td>4.10</td>\n",
       "      <td>73</td>\n",
       "      <td>12.0</td>\n",
       "      <td>11999</td>\n",
       "      <td>Samsung</td>\n",
       "      <td>Helio</td>\n",
       "      <td>Galaxy F23</td>\n",
       "      <td>Dual</td>\n",
       "      <td>1</td>\n",
       "      <td>1</td>\n",
       "      <td>0</td>\n",
       "      <td>4</td>\n",
       "      <td>6000</td>\n",
       "      <td>6.4</td>\n",
       "      <td>48</td>\n",
       "      <td>13</td>\n",
       "      <td>1000</td>\n",
       "      <td>64</td>\n",
       "      <td>47</td>\n",
       "      <td>1152000</td>\n",
       "    </tr>\n",
       "    <tr>\n",
       "      <th>4</th>\n",
       "      <td>4.10</td>\n",
       "      <td>69</td>\n",
       "      <td>11.0</td>\n",
       "      <td>11999</td>\n",
       "      <td>Samsung</td>\n",
       "      <td>Helio</td>\n",
       "      <td>Galaxy A03s</td>\n",
       "      <td>Dual</td>\n",
       "      <td>1</td>\n",
       "      <td>1</td>\n",
       "      <td>0</td>\n",
       "      <td>4</td>\n",
       "      <td>5000</td>\n",
       "      <td>6.5</td>\n",
       "      <td>13</td>\n",
       "      <td>5</td>\n",
       "      <td>1000</td>\n",
       "      <td>64</td>\n",
       "      <td>15</td>\n",
       "      <td>1152000</td>\n",
       "    </tr>\n",
       "    <tr>\n",
       "      <th>...</th>\n",
       "      <td>...</td>\n",
       "      <td>...</td>\n",
       "      <td>...</td>\n",
       "      <td>...</td>\n",
       "      <td>...</td>\n",
       "      <td>...</td>\n",
       "      <td>...</td>\n",
       "      <td>...</td>\n",
       "      <td>...</td>\n",
       "      <td>...</td>\n",
       "      <td>...</td>\n",
       "      <td>...</td>\n",
       "      <td>...</td>\n",
       "      <td>...</td>\n",
       "      <td>...</td>\n",
       "      <td>...</td>\n",
       "      <td>...</td>\n",
       "      <td>...</td>\n",
       "      <td>...</td>\n",
       "      <td>...</td>\n",
       "    </tr>\n",
       "    <tr>\n",
       "      <th>1365</th>\n",
       "      <td>4.05</td>\n",
       "      <td>75</td>\n",
       "      <td>12.0</td>\n",
       "      <td>18999</td>\n",
       "      <td>TCL</td>\n",
       "      <td>Dimensity</td>\n",
       "      <td>40R</td>\n",
       "      <td>Dual</td>\n",
       "      <td>1</td>\n",
       "      <td>1</td>\n",
       "      <td>1</td>\n",
       "      <td>4</td>\n",
       "      <td>5000</td>\n",
       "      <td>6.6</td>\n",
       "      <td>50</td>\n",
       "      <td>8</td>\n",
       "      <td>128</td>\n",
       "      <td>64</td>\n",
       "      <td>15</td>\n",
       "      <td>1160640</td>\n",
       "    </tr>\n",
       "    <tr>\n",
       "      <th>1366</th>\n",
       "      <td>4.10</td>\n",
       "      <td>80</td>\n",
       "      <td>14.0</td>\n",
       "      <td>24990</td>\n",
       "      <td>TCL</td>\n",
       "      <td>Dimensity</td>\n",
       "      <td>50 XL NxtPaper</td>\n",
       "      <td>Dual</td>\n",
       "      <td>1</td>\n",
       "      <td>1</td>\n",
       "      <td>0</td>\n",
       "      <td>8</td>\n",
       "      <td>5000</td>\n",
       "      <td>6.8</td>\n",
       "      <td>50</td>\n",
       "      <td>16</td>\n",
       "      <td>128</td>\n",
       "      <td>128</td>\n",
       "      <td>33</td>\n",
       "      <td>2880000</td>\n",
       "    </tr>\n",
       "    <tr>\n",
       "      <th>1367</th>\n",
       "      <td>4.00</td>\n",
       "      <td>80</td>\n",
       "      <td>13.0</td>\n",
       "      <td>23990</td>\n",
       "      <td>TCL</td>\n",
       "      <td>Dimensity</td>\n",
       "      <td>50 XE NxtPaper</td>\n",
       "      <td>Dual</td>\n",
       "      <td>1</td>\n",
       "      <td>1</td>\n",
       "      <td>1</td>\n",
       "      <td>6</td>\n",
       "      <td>5000</td>\n",
       "      <td>6.6</td>\n",
       "      <td>50</td>\n",
       "      <td>16</td>\n",
       "      <td>1000</td>\n",
       "      <td>256</td>\n",
       "      <td>18</td>\n",
       "      <td>1160640</td>\n",
       "    </tr>\n",
       "    <tr>\n",
       "      <th>1368</th>\n",
       "      <td>4.50</td>\n",
       "      <td>79</td>\n",
       "      <td>13.0</td>\n",
       "      <td>22499</td>\n",
       "      <td>TCL</td>\n",
       "      <td>Dimensity</td>\n",
       "      <td>40 NxtPaper</td>\n",
       "      <td>Dual</td>\n",
       "      <td>1</td>\n",
       "      <td>1</td>\n",
       "      <td>1</td>\n",
       "      <td>6</td>\n",
       "      <td>5000</td>\n",
       "      <td>6.6</td>\n",
       "      <td>50</td>\n",
       "      <td>8</td>\n",
       "      <td>1000</td>\n",
       "      <td>256</td>\n",
       "      <td>15</td>\n",
       "      <td>1160640</td>\n",
       "    </tr>\n",
       "    <tr>\n",
       "      <th>1369</th>\n",
       "      <td>4.65</td>\n",
       "      <td>93</td>\n",
       "      <td>13.0</td>\n",
       "      <td>119990</td>\n",
       "      <td>TCL</td>\n",
       "      <td>Snapdragon</td>\n",
       "      <td>Trifold</td>\n",
       "      <td>Dual</td>\n",
       "      <td>1</td>\n",
       "      <td>1</td>\n",
       "      <td>1</td>\n",
       "      <td>12</td>\n",
       "      <td>4600</td>\n",
       "      <td>10.0</td>\n",
       "      <td>50</td>\n",
       "      <td>32</td>\n",
       "      <td>128</td>\n",
       "      <td>256</td>\n",
       "      <td>67</td>\n",
       "      <td>4138560</td>\n",
       "    </tr>\n",
       "  </tbody>\n",
       "</table>\n",
       "<p>1369 rows × 20 columns</p>\n",
       "</div>"
      ],
      "text/plain": [
       "      Rating  Spec_score  Android_version   Price  company Processor_name  \\\n",
       "0       4.65          68             13.0    9999  Samsung         Exynos   \n",
       "1       4.20          63             10.0    9990  Samsung           Octa   \n",
       "2       4.30          75             12.0   11999  Samsung           Octa   \n",
       "3       4.10          73             12.0   11999  Samsung          Helio   \n",
       "4       4.10          69             11.0   11999  Samsung          Helio   \n",
       "...      ...         ...              ...     ...      ...            ...   \n",
       "1365    4.05          75             12.0   18999      TCL      Dimensity   \n",
       "1366    4.10          80             14.0   24990      TCL      Dimensity   \n",
       "1367    4.00          80             13.0   23990      TCL      Dimensity   \n",
       "1368    4.50          79             13.0   22499      TCL      Dimensity   \n",
       "1369    4.65          93             13.0  119990      TCL     Snapdragon   \n",
       "\n",
       "               Model sim_slot  network_3g  network_4g  network_5g  \\\n",
       "0         Galaxy F14     Dual           1           1           1   \n",
       "1         Galaxy A11     Dual           1           1           0   \n",
       "2         Galaxy A13     Dual           1           1           0   \n",
       "3         Galaxy F23     Dual           1           1           0   \n",
       "4        Galaxy A03s     Dual           1           1           0   \n",
       "...              ...      ...         ...         ...         ...   \n",
       "1365             40R     Dual           1           1           1   \n",
       "1366  50 XL NxtPaper     Dual           1           1           0   \n",
       "1367  50 XE NxtPaper     Dual           1           1           1   \n",
       "1368     40 NxtPaper     Dual           1           1           1   \n",
       "1369         Trifold     Dual           1           1           1   \n",
       "\n",
       "      cleaned_RAM  Battery_mAh  Display_inches rear_camera front_camera  \\\n",
       "0               4         6000             6.6          50           13   \n",
       "1               2         4000             6.4          13            8   \n",
       "2               4         5000             6.6          50            8   \n",
       "3               4         6000             6.4          48           13   \n",
       "4               4         5000             6.5          13            5   \n",
       "...           ...          ...             ...         ...          ...   \n",
       "1365            4         5000             6.6          50            8   \n",
       "1366            8         5000             6.8          50           16   \n",
       "1367            6         5000             6.6          50           16   \n",
       "1368            6         5000             6.6          50            8   \n",
       "1369           12         4600            10.0          50           32   \n",
       "\n",
       "      cleaned_External_Memory  cleaned_Inbuilt_memory  cleaned_fast_charging  \\\n",
       "0                        1000                     128                     25   \n",
       "1                         512                      32                     15   \n",
       "2                        1000                      64                     25   \n",
       "3                        1000                      64                     47   \n",
       "4                        1000                      64                     15   \n",
       "...                       ...                     ...                    ...   \n",
       "1365                      128                      64                     15   \n",
       "1366                      128                     128                     33   \n",
       "1367                     1000                     256                     18   \n",
       "1368                     1000                     256                     15   \n",
       "1369                      128                     256                     67   \n",
       "\n",
       "      total_px  \n",
       "0      2600640  \n",
       "1      1123200  \n",
       "2      2600640  \n",
       "3      1152000  \n",
       "4      1152000  \n",
       "...        ...  \n",
       "1365   1160640  \n",
       "1366   2880000  \n",
       "1367   1160640  \n",
       "1368   1160640  \n",
       "1369   4138560  \n",
       "\n",
       "[1369 rows x 20 columns]"
      ]
     },
     "execution_count": 172,
     "metadata": {},
     "output_type": "execute_result"
    }
   ],
   "source": [
    "clean_data"
   ]
  },
  {
   "cell_type": "code",
   "execution_count": 173,
   "metadata": {},
   "outputs": [],
   "source": [
    "clean_data.to_csv('clean_data.csv', index=False)"
   ]
  },
  {
   "cell_type": "markdown",
   "metadata": {},
   "source": [
    "## after eda data changes\n",
    "- in company colunm except top 10 , covert other values in 'other'"
   ]
  },
  {
   "cell_type": "code",
   "execution_count": null,
   "metadata": {},
   "outputs": [],
   "source": []
  }
 ],
 "metadata": {
  "kernelspec": {
   "display_name": "Python 3",
   "language": "python",
   "name": "python3"
  },
  "language_info": {
   "codemirror_mode": {
    "name": "ipython",
    "version": 3
   },
   "file_extension": ".py",
   "mimetype": "text/x-python",
   "name": "python",
   "nbconvert_exporter": "python",
   "pygments_lexer": "ipython3",
   "version": "3.12.4"
  }
 },
 "nbformat": 4,
 "nbformat_minor": 2
}
